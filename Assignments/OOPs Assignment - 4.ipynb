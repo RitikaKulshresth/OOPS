{
 "cells": [
  {
   "cell_type": "code",
   "execution_count": null,
   "id": "c9250c03",
   "metadata": {},
   "outputs": [],
   "source": [
    "# Q1. This is an enhancement of Q1 of Assignment 3.\n",
    "# a. Define __str__ method for class Square\n",
    "# Verify its usage.\n",
    "\n",
    "# b. Define a method to the class Square which checks if a square object is less than another\n",
    "# square1 < square2\n",
    "# Returns True if side of square1 is less than the side of square2, else returns False\n",
    "\n",
    "# c. Define a method to the class Square which subtracts the areas of 2 square \n",
    "# # square1 - square2\n",
    "# Returns the difference of the areas of both squares (absolute value)\n"
   ]
  },
  {
   "cell_type": "code",
   "execution_count": null,
   "id": "0b1b3c06",
   "metadata": {},
   "outputs": [],
   "source": [
    "# Q2. This is enhancement of Q2 of Assignment 3.\n",
    "# a. Modify the EquilateralTriangle class to have the area function of it's own.\n",
    "# Formula: √3/4a2\n",
    "# b. Check which area method is called? (Parent's or Child's)\n",
    "# c. Verify it using MRO"
   ]
  },
  {
   "cell_type": "code",
   "execution_count": null,
   "id": "cf49b63b",
   "metadata": {},
   "outputs": [],
   "source": [
    "# Q3. Find the MRO for class F.\n",
    "\n",
    "class A:\n",
    "    pass\n",
    "\n",
    "class B:\n",
    "    pass\n",
    "\n",
    "class C:\n",
    "    pass\n",
    "\n",
    "class Z:\n",
    "    pass\n",
    "\n",
    "class D(A,B,Z):\n",
    "    pass\n",
    "\n",
    "class E(B,C):\n",
    "    pass\n",
    "\n",
    "class F(D,E,C):\n",
    "    pass"
   ]
  },
  {
   "cell_type": "code",
   "execution_count": null,
   "id": "5c136b3b",
   "metadata": {},
   "outputs": [],
   "source": [
    "# Q4.\n",
    "# Create 2 classes for 2 food delivery applications\n",
    "# Make sure both the classes have 2 mandotary methods - place_order and deliver_food \n"
   ]
  }
 ],
 "metadata": {
  "kernelspec": {
   "display_name": "Python 3 (ipykernel)",
   "language": "python",
   "name": "python3"
  },
  "language_info": {
   "codemirror_mode": {
    "name": "ipython",
    "version": 3
   },
   "file_extension": ".py",
   "mimetype": "text/x-python",
   "name": "python",
   "nbconvert_exporter": "python",
   "pygments_lexer": "ipython3",
   "version": "3.11.4"
  }
 },
 "nbformat": 4,
 "nbformat_minor": 5
}
