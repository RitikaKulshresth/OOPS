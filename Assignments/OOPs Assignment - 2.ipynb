{
 "cells": [
  {
   "cell_type": "code",
   "execution_count": null,
   "id": "04737341",
   "metadata": {},
   "outputs": [],
   "source": [
    "# Q1.\n",
    "# a. Create a class Contacts and define a __init__() method.\n",
    "# Take 2 attributes while initializing - name and mobile number.\n",
    "\n",
    "# b. Define a class variable - contact list - in which the objects of the Contacts class \n",
    "# will be appended at the time of instantiation.\n",
    "\n",
    "# c. Define a method which takes a 'name' of a contact (object) as an argument \n",
    "# and returns the mobile number of that contact (object).\n",
    "# Hint: Use the contact list class variable in which the objects are stored to fetch \n",
    "# the mobile number using the name.\n"
   ]
  },
  {
   "cell_type": "code",
   "execution_count": null,
   "id": "6d71f6ac",
   "metadata": {},
   "outputs": [],
   "source": []
  },
  {
   "cell_type": "code",
   "execution_count": null,
   "id": "106f43a9",
   "metadata": {},
   "outputs": [],
   "source": []
  }
 ],
 "metadata": {
  "kernelspec": {
   "display_name": "Python 3 (ipykernel)",
   "language": "python",
   "name": "python3"
  },
  "language_info": {
   "codemirror_mode": {
    "name": "ipython",
    "version": 3
   },
   "file_extension": ".py",
   "mimetype": "text/x-python",
   "name": "python",
   "nbconvert_exporter": "python",
   "pygments_lexer": "ipython3",
   "version": "3.11.4"
  }
 },
 "nbformat": 4,
 "nbformat_minor": 5
}
