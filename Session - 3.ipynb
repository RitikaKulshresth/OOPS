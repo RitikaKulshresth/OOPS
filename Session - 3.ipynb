{
 "cells": [
  {
   "cell_type": "code",
   "execution_count": 1,
   "id": "75f09d3f",
   "metadata": {},
   "outputs": [],
   "source": [
    "# Class Variable"
   ]
  },
  {
   "cell_type": "code",
   "execution_count": 2,
   "id": "8778b476",
   "metadata": {},
   "outputs": [],
   "source": [
    "class Student:\n",
    "    \"\"\"\n",
    "    This is a class Student.\n",
    "    It is used to create student objects and manage students details\n",
    "    \"\"\"\n",
    "    \n",
    "    def __init__(self, name, roll_no, sub):\n",
    "        print(f\"Calling the initializer for {self}\")\n",
    "        self.name = name\n",
    "        self.roll = roll_no\n",
    "        self.subject = sub\n",
    "        \n",
    "    def studying(self, hrs):\n",
    "        print(self)\n",
    "        return f\"The student studies {hrs} hours per day\""
   ]
  },
  {
   "cell_type": "code",
   "execution_count": 3,
   "id": "c82c5047",
   "metadata": {},
   "outputs": [
    {
     "name": "stdout",
     "output_type": "stream",
     "text": [
      "Help on class Student in module __main__:\n",
      "\n",
      "class Student(builtins.object)\n",
      " |  Student(name, roll_no, sub)\n",
      " |  \n",
      " |  This is a class Student.\n",
      " |  It is used to create student objects and manage students details\n",
      " |  \n",
      " |  Methods defined here:\n",
      " |  \n",
      " |  __init__(self, name, roll_no, sub)\n",
      " |      Initialize self.  See help(type(self)) for accurate signature.\n",
      " |  \n",
      " |  studying(self, hrs)\n",
      " |  \n",
      " |  ----------------------------------------------------------------------\n",
      " |  Data descriptors defined here:\n",
      " |  \n",
      " |  __dict__\n",
      " |      dictionary for instance variables (if defined)\n",
      " |  \n",
      " |  __weakref__\n",
      " |      list of weak references to the object (if defined)\n",
      "\n"
     ]
    }
   ],
   "source": [
    "help(Student)"
   ]
  },
  {
   "cell_type": "code",
   "execution_count": 4,
   "id": "376e65ba",
   "metadata": {},
   "outputs": [],
   "source": [
    "# Class variable is a variable that is defined at the class level\n",
    "# Same copy of the class variable is shared among all the objects"
   ]
  },
  {
   "cell_type": "code",
   "execution_count": 5,
   "id": "d3d1a80e",
   "metadata": {},
   "outputs": [],
   "source": [
    "class Student:\n",
    "    \"\"\"\n",
    "    This is a class Student.\n",
    "    It is used to create student objects and manage students details\n",
    "    \"\"\"\n",
    "    \n",
    "    college_name = \"ABC college\"\n",
    "    departments = ['Arts', 'Commerce', 'Science']\n",
    "    \n",
    "    def __init__(self, name, roll_no, sub):\n",
    "        print(f\"Calling the initializer for {self}\")\n",
    "        self.name = name\n",
    "        self.roll = roll_no\n",
    "        self.subject = sub\n",
    "        \n",
    "    def studying(self, hrs):\n",
    "        print(self)\n",
    "        return f\"The student studies {hrs} hours per day\""
   ]
  },
  {
   "cell_type": "code",
   "execution_count": 6,
   "id": "0c4ee75c",
   "metadata": {},
   "outputs": [],
   "source": [
    "# 'college_name' and 'deparments' are class variables"
   ]
  },
  {
   "cell_type": "code",
   "execution_count": 7,
   "id": "4a0829fc",
   "metadata": {},
   "outputs": [
    {
     "name": "stdout",
     "output_type": "stream",
     "text": [
      "Help on class Student in module __main__:\n",
      "\n",
      "class Student(builtins.object)\n",
      " |  Student(name, roll_no, sub)\n",
      " |  \n",
      " |  This is a class Student.\n",
      " |  It is used to create student objects and manage students details\n",
      " |  \n",
      " |  Methods defined here:\n",
      " |  \n",
      " |  __init__(self, name, roll_no, sub)\n",
      " |      Initialize self.  See help(type(self)) for accurate signature.\n",
      " |  \n",
      " |  studying(self, hrs)\n",
      " |  \n",
      " |  ----------------------------------------------------------------------\n",
      " |  Data descriptors defined here:\n",
      " |  \n",
      " |  __dict__\n",
      " |      dictionary for instance variables (if defined)\n",
      " |  \n",
      " |  __weakref__\n",
      " |      list of weak references to the object (if defined)\n",
      " |  \n",
      " |  ----------------------------------------------------------------------\n",
      " |  Data and other attributes defined here:\n",
      " |  \n",
      " |  college_name = 'ABC college'\n",
      " |  \n",
      " |  departments = ['Arts', 'Commerce', 'Science']\n",
      "\n"
     ]
    }
   ],
   "source": [
    "help(Student)"
   ]
  },
  {
   "cell_type": "code",
   "execution_count": 8,
   "id": "31943e17",
   "metadata": {},
   "outputs": [
    {
     "data": {
      "text/plain": [
       "mappingproxy({'__module__': '__main__',\n",
       "              '__doc__': '\\n    This is a class Student.\\n    It is used to create student objects and manage students details\\n    ',\n",
       "              'college_name': 'ABC college',\n",
       "              'departments': ['Arts', 'Commerce', 'Science'],\n",
       "              '__init__': <function __main__.Student.__init__(self, name, roll_no, sub)>,\n",
       "              'studying': <function __main__.Student.studying(self, hrs)>,\n",
       "              '__dict__': <attribute '__dict__' of 'Student' objects>,\n",
       "              '__weakref__': <attribute '__weakref__' of 'Student' objects>})"
      ]
     },
     "execution_count": 8,
     "metadata": {},
     "output_type": "execute_result"
    }
   ],
   "source": [
    "Student.__dict__"
   ]
  },
  {
   "cell_type": "code",
   "execution_count": 9,
   "id": "e85b70b7",
   "metadata": {},
   "outputs": [
    {
     "name": "stdout",
     "output_type": "stream",
     "text": [
      "Calling the initializer for <__main__.Student object at 0x00000245B6F84750>\n"
     ]
    }
   ],
   "source": [
    "s1 = Student(\"John\", 1001, 'Maths')"
   ]
  },
  {
   "cell_type": "code",
   "execution_count": 10,
   "id": "6edca5ad",
   "metadata": {},
   "outputs": [
    {
     "data": {
      "text/plain": [
       "{'name': 'John', 'roll': 1001, 'subject': 'Maths'}"
      ]
     },
     "execution_count": 10,
     "metadata": {},
     "output_type": "execute_result"
    }
   ],
   "source": [
    "s1.__dict__"
   ]
  },
  {
   "cell_type": "code",
   "execution_count": 11,
   "id": "2bbd6a61",
   "metadata": {},
   "outputs": [
    {
     "data": {
      "text/plain": [
       "'John'"
      ]
     },
     "execution_count": 11,
     "metadata": {},
     "output_type": "execute_result"
    }
   ],
   "source": [
    "s1.name"
   ]
  },
  {
   "cell_type": "code",
   "execution_count": 12,
   "id": "f37eebd5",
   "metadata": {},
   "outputs": [
    {
     "data": {
      "text/plain": [
       "1001"
      ]
     },
     "execution_count": 12,
     "metadata": {},
     "output_type": "execute_result"
    }
   ],
   "source": [
    "s1.roll"
   ]
  },
  {
   "cell_type": "code",
   "execution_count": 13,
   "id": "07849f0e",
   "metadata": {},
   "outputs": [
    {
     "data": {
      "text/plain": [
       "'Maths'"
      ]
     },
     "execution_count": 13,
     "metadata": {},
     "output_type": "execute_result"
    }
   ],
   "source": [
    "s1.subject"
   ]
  },
  {
   "cell_type": "code",
   "execution_count": 14,
   "id": "1b9fc15d",
   "metadata": {},
   "outputs": [
    {
     "data": {
      "text/plain": [
       "'ABC college'"
      ]
     },
     "execution_count": 14,
     "metadata": {},
     "output_type": "execute_result"
    }
   ],
   "source": [
    "s1.college_name"
   ]
  },
  {
   "cell_type": "code",
   "execution_count": 15,
   "id": "d053b819",
   "metadata": {},
   "outputs": [],
   "source": [
    "s1.name = \"Ross\""
   ]
  },
  {
   "cell_type": "code",
   "execution_count": 16,
   "id": "09ff0fa7",
   "metadata": {},
   "outputs": [
    {
     "data": {
      "text/plain": [
       "'Ross'"
      ]
     },
     "execution_count": 16,
     "metadata": {},
     "output_type": "execute_result"
    }
   ],
   "source": [
    "s1.name"
   ]
  },
  {
   "cell_type": "code",
   "execution_count": 17,
   "id": "7dfe1f62",
   "metadata": {},
   "outputs": [
    {
     "data": {
      "text/plain": [
       "{'name': 'Ross', 'roll': 1001, 'subject': 'Maths'}"
      ]
     },
     "execution_count": 17,
     "metadata": {},
     "output_type": "execute_result"
    }
   ],
   "source": [
    "s1.__dict__"
   ]
  },
  {
   "cell_type": "code",
   "execution_count": 18,
   "id": "d40a12dc",
   "metadata": {},
   "outputs": [
    {
     "data": {
      "text/plain": [
       "'ABC college'"
      ]
     },
     "execution_count": 18,
     "metadata": {},
     "output_type": "execute_result"
    }
   ],
   "source": [
    "s1.college_name"
   ]
  },
  {
   "cell_type": "code",
   "execution_count": null,
   "id": "62fd6d66",
   "metadata": {},
   "outputs": [],
   "source": []
  },
  {
   "cell_type": "code",
   "execution_count": 19,
   "id": "5dfad4fd",
   "metadata": {},
   "outputs": [
    {
     "name": "stdout",
     "output_type": "stream",
     "text": [
      "Calling the initializer for <__main__.Student object at 0x00000245B7003390>\n"
     ]
    }
   ],
   "source": [
    "s2 = Student('Jill', 1002, 'Physics')"
   ]
  },
  {
   "cell_type": "code",
   "execution_count": 20,
   "id": "ea13e3b8",
   "metadata": {},
   "outputs": [
    {
     "data": {
      "text/plain": [
       "{'name': 'Jill', 'roll': 1002, 'subject': 'Physics'}"
      ]
     },
     "execution_count": 20,
     "metadata": {},
     "output_type": "execute_result"
    }
   ],
   "source": [
    "s2.__dict__"
   ]
  },
  {
   "cell_type": "code",
   "execution_count": 21,
   "id": "5d062f32",
   "metadata": {},
   "outputs": [
    {
     "data": {
      "text/plain": [
       "'Jill'"
      ]
     },
     "execution_count": 21,
     "metadata": {},
     "output_type": "execute_result"
    }
   ],
   "source": [
    "s2.name"
   ]
  },
  {
   "cell_type": "code",
   "execution_count": 22,
   "id": "2d2b4cd9",
   "metadata": {},
   "outputs": [
    {
     "data": {
      "text/plain": [
       "'ABC college'"
      ]
     },
     "execution_count": 22,
     "metadata": {},
     "output_type": "execute_result"
    }
   ],
   "source": [
    "s2.college_name"
   ]
  },
  {
   "cell_type": "code",
   "execution_count": null,
   "id": "c9d8ffe0",
   "metadata": {},
   "outputs": [],
   "source": []
  },
  {
   "cell_type": "code",
   "execution_count": 23,
   "id": "784adb7d",
   "metadata": {},
   "outputs": [],
   "source": [
    "s1.college_name = 'XYZ college'"
   ]
  },
  {
   "cell_type": "code",
   "execution_count": 24,
   "id": "47f4ef6a",
   "metadata": {},
   "outputs": [
    {
     "data": {
      "text/plain": [
       "'ABC college'"
      ]
     },
     "execution_count": 24,
     "metadata": {},
     "output_type": "execute_result"
    }
   ],
   "source": [
    "s2.college_name"
   ]
  },
  {
   "cell_type": "code",
   "execution_count": 25,
   "id": "a4386fd6",
   "metadata": {},
   "outputs": [
    {
     "data": {
      "text/plain": [
       "'XYZ college'"
      ]
     },
     "execution_count": 25,
     "metadata": {},
     "output_type": "execute_result"
    }
   ],
   "source": [
    "s1.college_name"
   ]
  },
  {
   "cell_type": "code",
   "execution_count": null,
   "id": "d5831ad1",
   "metadata": {},
   "outputs": [],
   "source": []
  },
  {
   "cell_type": "code",
   "execution_count": 26,
   "id": "c1ae4ec1",
   "metadata": {},
   "outputs": [
    {
     "data": {
      "text/plain": [
       "mappingproxy({'__module__': '__main__',\n",
       "              '__doc__': '\\n    This is a class Student.\\n    It is used to create student objects and manage students details\\n    ',\n",
       "              'college_name': 'ABC college',\n",
       "              'departments': ['Arts', 'Commerce', 'Science'],\n",
       "              '__init__': <function __main__.Student.__init__(self, name, roll_no, sub)>,\n",
       "              'studying': <function __main__.Student.studying(self, hrs)>,\n",
       "              '__dict__': <attribute '__dict__' of 'Student' objects>,\n",
       "              '__weakref__': <attribute '__weakref__' of 'Student' objects>})"
      ]
     },
     "execution_count": 26,
     "metadata": {},
     "output_type": "execute_result"
    }
   ],
   "source": [
    "Student.__dict__"
   ]
  },
  {
   "cell_type": "code",
   "execution_count": 27,
   "id": "df6a7127",
   "metadata": {},
   "outputs": [
    {
     "data": {
      "text/plain": [
       "{'name': 'Ross',\n",
       " 'roll': 1001,\n",
       " 'subject': 'Maths',\n",
       " 'college_name': 'XYZ college'}"
      ]
     },
     "execution_count": 27,
     "metadata": {},
     "output_type": "execute_result"
    }
   ],
   "source": [
    "s1.__dict__"
   ]
  },
  {
   "cell_type": "code",
   "execution_count": 28,
   "id": "79aa93aa",
   "metadata": {},
   "outputs": [
    {
     "data": {
      "text/plain": [
       "'XYZ college'"
      ]
     },
     "execution_count": 28,
     "metadata": {},
     "output_type": "execute_result"
    }
   ],
   "source": [
    "s1.college_name"
   ]
  },
  {
   "cell_type": "code",
   "execution_count": 29,
   "id": "bb88ec0a",
   "metadata": {},
   "outputs": [],
   "source": [
    "# When we try to change the value of a class variable using an object it creates an insatance vriable with the same name\n",
    "# It does not change the class variable"
   ]
  },
  {
   "cell_type": "code",
   "execution_count": 31,
   "id": "ff0c813e",
   "metadata": {},
   "outputs": [],
   "source": [
    "# We cannot change the class variable value using the instance/object"
   ]
  },
  {
   "cell_type": "code",
   "execution_count": 32,
   "id": "903c4e19",
   "metadata": {},
   "outputs": [],
   "source": [
    "# Delete an attribute/variable from the object"
   ]
  },
  {
   "cell_type": "code",
   "execution_count": 33,
   "id": "36125c5a",
   "metadata": {},
   "outputs": [],
   "source": [
    "delattr(s1, 'college_name')"
   ]
  },
  {
   "cell_type": "code",
   "execution_count": 34,
   "id": "2e2da761",
   "metadata": {},
   "outputs": [
    {
     "data": {
      "text/plain": [
       "{'name': 'Ross', 'roll': 1001, 'subject': 'Maths'}"
      ]
     },
     "execution_count": 34,
     "metadata": {},
     "output_type": "execute_result"
    }
   ],
   "source": [
    "s1.__dict__"
   ]
  },
  {
   "cell_type": "code",
   "execution_count": 35,
   "id": "782531c6",
   "metadata": {},
   "outputs": [
    {
     "data": {
      "text/plain": [
       "'ABC college'"
      ]
     },
     "execution_count": 35,
     "metadata": {},
     "output_type": "execute_result"
    }
   ],
   "source": [
    "s1.college_name"
   ]
  },
  {
   "cell_type": "code",
   "execution_count": null,
   "id": "a4e91be2",
   "metadata": {},
   "outputs": [],
   "source": []
  },
  {
   "cell_type": "code",
   "execution_count": 36,
   "id": "671a6f4d",
   "metadata": {},
   "outputs": [],
   "source": [
    "# How to change a class variable?"
   ]
  },
  {
   "cell_type": "code",
   "execution_count": 37,
   "id": "ff361eab",
   "metadata": {},
   "outputs": [],
   "source": [
    "# Using the class name"
   ]
  },
  {
   "cell_type": "code",
   "execution_count": 38,
   "id": "ae7618c7",
   "metadata": {},
   "outputs": [
    {
     "data": {
      "text/plain": [
       "'ABC college'"
      ]
     },
     "execution_count": 38,
     "metadata": {},
     "output_type": "execute_result"
    }
   ],
   "source": [
    "Student.college_name"
   ]
  },
  {
   "cell_type": "code",
   "execution_count": 39,
   "id": "adb3f3f4",
   "metadata": {},
   "outputs": [
    {
     "data": {
      "text/plain": [
       "mappingproxy({'__module__': '__main__',\n",
       "              '__doc__': '\\n    This is a class Student.\\n    It is used to create student objects and manage students details\\n    ',\n",
       "              'college_name': 'ABC college',\n",
       "              'departments': ['Arts', 'Commerce', 'Science'],\n",
       "              '__init__': <function __main__.Student.__init__(self, name, roll_no, sub)>,\n",
       "              'studying': <function __main__.Student.studying(self, hrs)>,\n",
       "              '__dict__': <attribute '__dict__' of 'Student' objects>,\n",
       "              '__weakref__': <attribute '__weakref__' of 'Student' objects>})"
      ]
     },
     "execution_count": 39,
     "metadata": {},
     "output_type": "execute_result"
    }
   ],
   "source": [
    "Student.__dict__"
   ]
  },
  {
   "cell_type": "code",
   "execution_count": 40,
   "id": "a3a3457b",
   "metadata": {},
   "outputs": [
    {
     "data": {
      "text/plain": [
       "['Arts', 'Commerce', 'Science']"
      ]
     },
     "execution_count": 40,
     "metadata": {},
     "output_type": "execute_result"
    }
   ],
   "source": [
    "Student.departments"
   ]
  },
  {
   "cell_type": "code",
   "execution_count": 41,
   "id": "7ee80903",
   "metadata": {},
   "outputs": [],
   "source": [
    "s1.departments.append('Data Science')"
   ]
  },
  {
   "cell_type": "code",
   "execution_count": 42,
   "id": "5527c083",
   "metadata": {},
   "outputs": [
    {
     "data": {
      "text/plain": [
       "['Arts', 'Commerce', 'Science', 'Data Science']"
      ]
     },
     "execution_count": 42,
     "metadata": {},
     "output_type": "execute_result"
    }
   ],
   "source": [
    "s1.departments"
   ]
  },
  {
   "cell_type": "code",
   "execution_count": 43,
   "id": "846aaf9a",
   "metadata": {},
   "outputs": [
    {
     "data": {
      "text/plain": [
       "['Arts', 'Commerce', 'Science', 'Data Science']"
      ]
     },
     "execution_count": 43,
     "metadata": {},
     "output_type": "execute_result"
    }
   ],
   "source": [
    "Student.departments"
   ]
  },
  {
   "cell_type": "code",
   "execution_count": 44,
   "id": "a157a5be",
   "metadata": {},
   "outputs": [
    {
     "data": {
      "text/plain": [
       "['Arts', 'Commerce', 'Science', 'Data Science']"
      ]
     },
     "execution_count": 44,
     "metadata": {},
     "output_type": "execute_result"
    }
   ],
   "source": [
    "s2.departments"
   ]
  },
  {
   "cell_type": "code",
   "execution_count": 45,
   "id": "f3cb1f7f",
   "metadata": {},
   "outputs": [],
   "source": [
    "s2.departments = ['a', 'b']"
   ]
  },
  {
   "cell_type": "code",
   "execution_count": 46,
   "id": "146790e5",
   "metadata": {},
   "outputs": [
    {
     "data": {
      "text/plain": [
       "['Arts', 'Commerce', 'Science', 'Data Science']"
      ]
     },
     "execution_count": 46,
     "metadata": {},
     "output_type": "execute_result"
    }
   ],
   "source": [
    "s1.departments"
   ]
  },
  {
   "cell_type": "code",
   "execution_count": 47,
   "id": "bf618477",
   "metadata": {},
   "outputs": [
    {
     "data": {
      "text/plain": [
       "{'name': 'Jill', 'roll': 1002, 'subject': 'Physics', 'departments': ['a', 'b']}"
      ]
     },
     "execution_count": 47,
     "metadata": {},
     "output_type": "execute_result"
    }
   ],
   "source": [
    "s2.__dict__"
   ]
  },
  {
   "cell_type": "code",
   "execution_count": 48,
   "id": "05110900",
   "metadata": {},
   "outputs": [],
   "source": [
    "Student.college_name = \"XYZ college\""
   ]
  },
  {
   "cell_type": "code",
   "execution_count": 49,
   "id": "7480abcc",
   "metadata": {},
   "outputs": [
    {
     "data": {
      "text/plain": [
       "mappingproxy({'__module__': '__main__',\n",
       "              '__doc__': '\\n    This is a class Student.\\n    It is used to create student objects and manage students details\\n    ',\n",
       "              'college_name': 'XYZ college',\n",
       "              'departments': ['Arts', 'Commerce', 'Science', 'Data Science'],\n",
       "              '__init__': <function __main__.Student.__init__(self, name, roll_no, sub)>,\n",
       "              'studying': <function __main__.Student.studying(self, hrs)>,\n",
       "              '__dict__': <attribute '__dict__' of 'Student' objects>,\n",
       "              '__weakref__': <attribute '__weakref__' of 'Student' objects>})"
      ]
     },
     "execution_count": 49,
     "metadata": {},
     "output_type": "execute_result"
    }
   ],
   "source": [
    "Student.__dict__"
   ]
  },
  {
   "cell_type": "code",
   "execution_count": 50,
   "id": "9dd5479b",
   "metadata": {},
   "outputs": [
    {
     "data": {
      "text/plain": [
       "'XYZ college'"
      ]
     },
     "execution_count": 50,
     "metadata": {},
     "output_type": "execute_result"
    }
   ],
   "source": [
    "s1.college_name"
   ]
  },
  {
   "cell_type": "code",
   "execution_count": 51,
   "id": "18d6ab95",
   "metadata": {},
   "outputs": [
    {
     "name": "stdout",
     "output_type": "stream",
     "text": [
      "Calling the initializer for <__main__.Student object at 0x00000245B7343B10>\n"
     ]
    }
   ],
   "source": [
    "s3 = Student('Carol', 1003, 'Chem')"
   ]
  },
  {
   "cell_type": "code",
   "execution_count": 52,
   "id": "a021e7cf",
   "metadata": {},
   "outputs": [
    {
     "data": {
      "text/plain": [
       "{'name': 'Carol', 'roll': 1003, 'subject': 'Chem'}"
      ]
     },
     "execution_count": 52,
     "metadata": {},
     "output_type": "execute_result"
    }
   ],
   "source": [
    "s3.__dict__"
   ]
  },
  {
   "cell_type": "code",
   "execution_count": 53,
   "id": "ac4361fe",
   "metadata": {},
   "outputs": [
    {
     "data": {
      "text/plain": [
       "'XYZ college'"
      ]
     },
     "execution_count": 53,
     "metadata": {},
     "output_type": "execute_result"
    }
   ],
   "source": [
    "s3.college_name"
   ]
  },
  {
   "cell_type": "code",
   "execution_count": null,
   "id": "1de1125a",
   "metadata": {},
   "outputs": [],
   "source": []
  },
  {
   "cell_type": "code",
   "execution_count": 54,
   "id": "421555bd",
   "metadata": {},
   "outputs": [],
   "source": [
    "# Class methods"
   ]
  },
  {
   "cell_type": "code",
   "execution_count": 55,
   "id": "3dbc3ecb",
   "metadata": {},
   "outputs": [],
   "source": [
    "# A method that is defined inside a class which is bound to the class is called a class method"
   ]
  },
  {
   "cell_type": "code",
   "execution_count": null,
   "id": "5eaef0a4",
   "metadata": {},
   "outputs": [],
   "source": []
  },
  {
   "cell_type": "code",
   "execution_count": 56,
   "id": "12e99f5d",
   "metadata": {},
   "outputs": [],
   "source": [
    "class Welcome:\n",
    "    def greet():\n",
    "        return \"Hello\""
   ]
  },
  {
   "cell_type": "code",
   "execution_count": 57,
   "id": "a27247b0",
   "metadata": {},
   "outputs": [],
   "source": [
    "obj1 = Welcome()"
   ]
  },
  {
   "cell_type": "code",
   "execution_count": 58,
   "id": "f5b76e13",
   "metadata": {},
   "outputs": [
    {
     "ename": "TypeError",
     "evalue": "Welcome.greet() takes 0 positional arguments but 1 was given",
     "output_type": "error",
     "traceback": [
      "\u001b[1;31m---------------------------------------------------------------------------\u001b[0m",
      "\u001b[1;31mTypeError\u001b[0m                                 Traceback (most recent call last)",
      "Cell \u001b[1;32mIn[58], line 1\u001b[0m\n\u001b[1;32m----> 1\u001b[0m obj1\u001b[38;5;241m.\u001b[39mgreet()\n",
      "\u001b[1;31mTypeError\u001b[0m: Welcome.greet() takes 0 positional arguments but 1 was given"
     ]
    }
   ],
   "source": [
    "obj1.greet()"
   ]
  },
  {
   "cell_type": "code",
   "execution_count": 59,
   "id": "0a06f54d",
   "metadata": {},
   "outputs": [],
   "source": [
    "# greet() is an instance method"
   ]
  },
  {
   "cell_type": "code",
   "execution_count": 60,
   "id": "ce45336e",
   "metadata": {},
   "outputs": [],
   "source": [
    "# All the methods that are created inside a class are instance methods, unless specified otherwise"
   ]
  },
  {
   "cell_type": "code",
   "execution_count": 61,
   "id": "55b6ded3",
   "metadata": {},
   "outputs": [
    {
     "data": {
      "text/plain": [
       "'Hello'"
      ]
     },
     "execution_count": 61,
     "metadata": {},
     "output_type": "execute_result"
    }
   ],
   "source": [
    "Welcome.greet()"
   ]
  },
  {
   "cell_type": "code",
   "execution_count": 62,
   "id": "b5d9b62d",
   "metadata": {},
   "outputs": [],
   "source": [
    "# To create a class method, we need to use 'classmethod' decorator"
   ]
  },
  {
   "cell_type": "code",
   "execution_count": 63,
   "id": "f857cdb4",
   "metadata": {},
   "outputs": [],
   "source": [
    "class Welcome:\n",
    "    \n",
    "    @classmethod\n",
    "    def greet():\n",
    "        return \"Hello\""
   ]
  },
  {
   "cell_type": "code",
   "execution_count": 64,
   "id": "0db348d1",
   "metadata": {},
   "outputs": [],
   "source": [
    "# Now, greet() is a class method"
   ]
  },
  {
   "cell_type": "code",
   "execution_count": 65,
   "id": "ae546750",
   "metadata": {},
   "outputs": [],
   "source": [
    "obj1 = Welcome()"
   ]
  },
  {
   "cell_type": "code",
   "execution_count": 66,
   "id": "6c6b119e",
   "metadata": {},
   "outputs": [
    {
     "ename": "TypeError",
     "evalue": "Welcome.greet() takes 0 positional arguments but 1 was given",
     "output_type": "error",
     "traceback": [
      "\u001b[1;31m---------------------------------------------------------------------------\u001b[0m",
      "\u001b[1;31mTypeError\u001b[0m                                 Traceback (most recent call last)",
      "Cell \u001b[1;32mIn[66], line 1\u001b[0m\n\u001b[1;32m----> 1\u001b[0m obj1\u001b[38;5;241m.\u001b[39mgreet()\n",
      "\u001b[1;31mTypeError\u001b[0m: Welcome.greet() takes 0 positional arguments but 1 was given"
     ]
    }
   ],
   "source": [
    "obj1.greet()"
   ]
  },
  {
   "cell_type": "code",
   "execution_count": 67,
   "id": "a7880dfc",
   "metadata": {},
   "outputs": [],
   "source": [
    "# When we call the class method using an object, Python passes the class as the first argument implicitly"
   ]
  },
  {
   "cell_type": "code",
   "execution_count": 69,
   "id": "f7334db8",
   "metadata": {},
   "outputs": [],
   "source": [
    "# So we need an argument in the method defination.\n",
    "# 'cls' is the convention to be used as the argument"
   ]
  },
  {
   "cell_type": "code",
   "execution_count": 70,
   "id": "22536c70",
   "metadata": {},
   "outputs": [],
   "source": [
    "class Welcome:\n",
    "    \n",
    "    @classmethod\n",
    "    def greet(cls):\n",
    "        print(cls)\n",
    "        return \"Hello\""
   ]
  },
  {
   "cell_type": "code",
   "execution_count": 71,
   "id": "5eaf47ba",
   "metadata": {},
   "outputs": [],
   "source": [
    "obj1 = Welcome()"
   ]
  },
  {
   "cell_type": "code",
   "execution_count": 72,
   "id": "a8d62264",
   "metadata": {},
   "outputs": [
    {
     "name": "stdout",
     "output_type": "stream",
     "text": [
      "<class '__main__.Welcome'>\n"
     ]
    },
    {
     "data": {
      "text/plain": [
       "'Hello'"
      ]
     },
     "execution_count": 72,
     "metadata": {},
     "output_type": "execute_result"
    }
   ],
   "source": [
    "obj1.greet()"
   ]
  },
  {
   "cell_type": "code",
   "execution_count": 73,
   "id": "9e25b318",
   "metadata": {},
   "outputs": [
    {
     "name": "stdout",
     "output_type": "stream",
     "text": [
      "<class '__main__.Welcome'>\n"
     ]
    }
   ],
   "source": [
    "print(Welcome)"
   ]
  },
  {
   "cell_type": "code",
   "execution_count": 74,
   "id": "e2c730a3",
   "metadata": {},
   "outputs": [
    {
     "name": "stdout",
     "output_type": "stream",
     "text": [
      "<__main__.Welcome object at 0x00000245B7378CD0>\n"
     ]
    }
   ],
   "source": [
    "print(obj1)"
   ]
  },
  {
   "cell_type": "code",
   "execution_count": null,
   "id": "f6e42efd",
   "metadata": {},
   "outputs": [],
   "source": []
  },
  {
   "cell_type": "code",
   "execution_count": 75,
   "id": "9bbdfc8b",
   "metadata": {},
   "outputs": [
    {
     "name": "stdout",
     "output_type": "stream",
     "text": [
      "<class '__main__.Welcome'>\n"
     ]
    },
    {
     "data": {
      "text/plain": [
       "'Hello'"
      ]
     },
     "execution_count": 75,
     "metadata": {},
     "output_type": "execute_result"
    }
   ],
   "source": [
    "Welcome.greet()"
   ]
  },
  {
   "cell_type": "code",
   "execution_count": null,
   "id": "9f205933",
   "metadata": {},
   "outputs": [],
   "source": []
  },
  {
   "cell_type": "code",
   "execution_count": 88,
   "id": "3d8f9eca",
   "metadata": {},
   "outputs": [],
   "source": [
    "class Student:\n",
    "    \"\"\"\n",
    "    This is a class Student.\n",
    "    It is used to create student objects and manage students details\n",
    "    \"\"\"\n",
    "    \n",
    "    college_name = \"ABC college\"\n",
    "    departments = ['Arts', 'Commerce', 'Science']\n",
    "    \n",
    "    def __init__(self, name, roll_no, sub):\n",
    "        print(f\"Calling the initializer for {self}\")\n",
    "        self.name = name\n",
    "        self.roll = roll_no\n",
    "        self.subject = sub\n",
    "        \n",
    "    def studying(self, hrs):\n",
    "        print(self)\n",
    "        return f\"The student studies {hrs} hours per day\"\n",
    "    \n",
    "    @classmethod\n",
    "    def greet(cls):\n",
    "        print(cls)\n",
    "        return \"Welcome to the college.\""
   ]
  },
  {
   "cell_type": "code",
   "execution_count": 89,
   "id": "9d1b2548",
   "metadata": {},
   "outputs": [
    {
     "name": "stdout",
     "output_type": "stream",
     "text": [
      "Calling the initializer for <__main__.Student object at 0x00000245B841D6D0>\n"
     ]
    }
   ],
   "source": [
    "s1 = Student('John', 1001, 'Maths')"
   ]
  },
  {
   "cell_type": "code",
   "execution_count": 90,
   "id": "5092fe28",
   "metadata": {},
   "outputs": [
    {
     "name": "stdout",
     "output_type": "stream",
     "text": [
      "<__main__.Student object at 0x00000245B841D6D0>\n"
     ]
    },
    {
     "data": {
      "text/plain": [
       "'The student studies 3 hours per day'"
      ]
     },
     "execution_count": 90,
     "metadata": {},
     "output_type": "execute_result"
    }
   ],
   "source": [
    "s1.studying(3)"
   ]
  },
  {
   "cell_type": "code",
   "execution_count": 91,
   "id": "0928a072",
   "metadata": {},
   "outputs": [
    {
     "name": "stdout",
     "output_type": "stream",
     "text": [
      "<class '__main__.Student'>\n"
     ]
    },
    {
     "data": {
      "text/plain": [
       "'Welcome to the college.'"
      ]
     },
     "execution_count": 91,
     "metadata": {},
     "output_type": "execute_result"
    }
   ],
   "source": [
    "s1.greet()"
   ]
  },
  {
   "cell_type": "code",
   "execution_count": null,
   "id": "42f17e94",
   "metadata": {},
   "outputs": [],
   "source": []
  },
  {
   "cell_type": "code",
   "execution_count": null,
   "id": "1056939f",
   "metadata": {},
   "outputs": [],
   "source": []
  },
  {
   "cell_type": "code",
   "execution_count": 92,
   "id": "33af47df",
   "metadata": {},
   "outputs": [],
   "source": [
    "class Student:\n",
    "    \"\"\"\n",
    "    This is a class Student.\n",
    "    It is used to create student objects and manage students details\n",
    "    \"\"\"\n",
    "    \n",
    "    college_name = \"ABC college\"\n",
    "    departments = ['Arts', 'Commerce', 'Science']\n",
    "    \n",
    "    def __init__(self, name, roll_no, sub):\n",
    "        print(f\"Calling the initializer for {self}\")\n",
    "        self.name = name\n",
    "        self.roll = roll_no\n",
    "        self.subject = sub\n",
    "        \n",
    "    def studying(self, hrs):\n",
    "        print(self)\n",
    "        return f\"The student studies {hrs} hours per day\"\n",
    "    \n",
    "    @classmethod\n",
    "    def greet(cls):\n",
    "        print(cls)\n",
    "        return f\"Welcome to the college {cls.college_name}\""
   ]
  },
  {
   "cell_type": "code",
   "execution_count": 93,
   "id": "674a795e",
   "metadata": {},
   "outputs": [
    {
     "name": "stdout",
     "output_type": "stream",
     "text": [
      "Calling the initializer for <__main__.Student object at 0x00000245B857F810>\n"
     ]
    }
   ],
   "source": [
    "s1 = Student(\"John\", 1001, 'Maths')"
   ]
  },
  {
   "cell_type": "code",
   "execution_count": 94,
   "id": "cdc35e6f",
   "metadata": {},
   "outputs": [
    {
     "name": "stdout",
     "output_type": "stream",
     "text": [
      "<class '__main__.Student'>\n"
     ]
    },
    {
     "data": {
      "text/plain": [
       "'Welcome to the college ABC college'"
      ]
     },
     "execution_count": 94,
     "metadata": {},
     "output_type": "execute_result"
    }
   ],
   "source": [
    "s1.greet()"
   ]
  },
  {
   "cell_type": "code",
   "execution_count": null,
   "id": "d91e80b2",
   "metadata": {},
   "outputs": [],
   "source": []
  },
  {
   "cell_type": "code",
   "execution_count": 95,
   "id": "2fc58417",
   "metadata": {},
   "outputs": [
    {
     "name": "stdout",
     "output_type": "stream",
     "text": [
      "<class '__main__.Student'>\n"
     ]
    },
    {
     "data": {
      "text/plain": [
       "'Welcome to the college ABC college'"
      ]
     },
     "execution_count": 95,
     "metadata": {},
     "output_type": "execute_result"
    }
   ],
   "source": [
    "Student.greet()"
   ]
  },
  {
   "cell_type": "code",
   "execution_count": null,
   "id": "b422c025",
   "metadata": {},
   "outputs": [],
   "source": []
  },
  {
   "cell_type": "code",
   "execution_count": 96,
   "id": "af2a1e19",
   "metadata": {},
   "outputs": [],
   "source": [
    "# Static method"
   ]
  },
  {
   "cell_type": "code",
   "execution_count": 97,
   "id": "7f858ecd",
   "metadata": {},
   "outputs": [],
   "source": [
    "# A method defined inside the class which is neither bound to the object or to the class"
   ]
  },
  {
   "cell_type": "code",
   "execution_count": 98,
   "id": "df4eb6bb",
   "metadata": {},
   "outputs": [],
   "source": [
    "# Static methods are created using a decorator 'staticmethod'"
   ]
  },
  {
   "cell_type": "code",
   "execution_count": null,
   "id": "0f3366f9",
   "metadata": {},
   "outputs": [],
   "source": []
  },
  {
   "cell_type": "code",
   "execution_count": 99,
   "id": "25094a80",
   "metadata": {},
   "outputs": [],
   "source": [
    "class Student:\n",
    "    \"\"\"\n",
    "    This is a class Student.\n",
    "    It is used to create student objects and manage students details\n",
    "    \"\"\"\n",
    "    \n",
    "    college_name = \"ABC college\"\n",
    "    departments = ['Arts', 'Commerce', 'Science']\n",
    "    \n",
    "    def __init__(self, name, roll_no, sub):\n",
    "        print(f\"Calling the initializer for {self}\")\n",
    "        self.name = name\n",
    "        self.roll = roll_no\n",
    "        self.subject = sub\n",
    "        \n",
    "    def studying(self, hrs):\n",
    "        print(self)\n",
    "        return f\"The student studies {hrs} hours per day\"\n",
    "    \n",
    "    @classmethod\n",
    "    def welcome_message(cls):\n",
    "        print(cls)\n",
    "        return f\"Welcome to the college {cls.college_name}\"\n",
    "    \n",
    "    @staticmethod\n",
    "    def greet():\n",
    "        return \"Hello\""
   ]
  },
  {
   "cell_type": "code",
   "execution_count": 100,
   "id": "606798b5",
   "metadata": {},
   "outputs": [
    {
     "name": "stdout",
     "output_type": "stream",
     "text": [
      "Calling the initializer for <__main__.Student object at 0x00000245B8584090>\n"
     ]
    }
   ],
   "source": [
    "s1 = Student(\"John\", 1001, 'Maths')"
   ]
  },
  {
   "cell_type": "code",
   "execution_count": 101,
   "id": "81f38302",
   "metadata": {},
   "outputs": [
    {
     "data": {
      "text/plain": [
       "'Hello'"
      ]
     },
     "execution_count": 101,
     "metadata": {},
     "output_type": "execute_result"
    }
   ],
   "source": [
    "s1.greet()"
   ]
  },
  {
   "cell_type": "code",
   "execution_count": 102,
   "id": "97f6b34e",
   "metadata": {},
   "outputs": [],
   "source": [
    "def greet():\n",
    "    return \"Hello\""
   ]
  },
  {
   "cell_type": "code",
   "execution_count": 103,
   "id": "2ed86848",
   "metadata": {},
   "outputs": [
    {
     "data": {
      "text/plain": [
       "'Hello'"
      ]
     },
     "execution_count": 103,
     "metadata": {},
     "output_type": "execute_result"
    }
   ],
   "source": [
    "greet()"
   ]
  },
  {
   "cell_type": "code",
   "execution_count": null,
   "id": "f1c9c6ce",
   "metadata": {},
   "outputs": [],
   "source": []
  },
  {
   "cell_type": "code",
   "execution_count": 104,
   "id": "3a31a0e7",
   "metadata": {},
   "outputs": [],
   "source": [
    "class Student:\n",
    "    \"\"\"\n",
    "    This is a class Student.\n",
    "    It is used to create student objects and manage students details\n",
    "    \"\"\"\n",
    "    \n",
    "    college_name = \"ABC college\"\n",
    "    departments = ['Arts', 'Commerce', 'Science']\n",
    "    \n",
    "    def __init__(self, name, roll_no, sub):\n",
    "        print(f\"Calling the initializer for {self}\")\n",
    "        self.name = name\n",
    "        self.roll = roll_no\n",
    "        self.subject = sub\n",
    "        \n",
    "    def studying(self, hrs):\n",
    "        return f\"{self.name} studies {self.subject} {hrs} hours per day\"\n",
    "    \n",
    "    @classmethod\n",
    "    def welcome_message(cls):\n",
    "        print(cls)\n",
    "        return f\"Welcome to the college {cls.college_name}\"\n",
    "    \n",
    "    @staticmethod\n",
    "    def greet():\n",
    "        return \"Hello\""
   ]
  },
  {
   "cell_type": "code",
   "execution_count": 105,
   "id": "9f6a4c02",
   "metadata": {},
   "outputs": [
    {
     "name": "stdout",
     "output_type": "stream",
     "text": [
      "Calling the initializer for <__main__.Student object at 0x00000245B84B8D10>\n"
     ]
    }
   ],
   "source": [
    "s1 = Student('John', 1234, 'Maths')"
   ]
  },
  {
   "cell_type": "code",
   "execution_count": 106,
   "id": "2067be86",
   "metadata": {},
   "outputs": [
    {
     "data": {
      "text/plain": [
       "'John studies Maths 3 hours per day'"
      ]
     },
     "execution_count": 106,
     "metadata": {},
     "output_type": "execute_result"
    }
   ],
   "source": [
    "s1.studying(3)"
   ]
  },
  {
   "cell_type": "code",
   "execution_count": 107,
   "id": "ee87b185",
   "metadata": {},
   "outputs": [
    {
     "name": "stdout",
     "output_type": "stream",
     "text": [
      "Calling the initializer for <__main__.Student object at 0x00000245B85B6ED0>\n"
     ]
    }
   ],
   "source": [
    "s2 = Student('Jill', 1005, 'Python')"
   ]
  },
  {
   "cell_type": "code",
   "execution_count": 108,
   "id": "cf806dee",
   "metadata": {},
   "outputs": [
    {
     "data": {
      "text/plain": [
       "'Jill studies Python 4 hours per day'"
      ]
     },
     "execution_count": 108,
     "metadata": {},
     "output_type": "execute_result"
    }
   ],
   "source": [
    "s2.studying(4)"
   ]
  },
  {
   "cell_type": "code",
   "execution_count": null,
   "id": "6e8095ac",
   "metadata": {},
   "outputs": [],
   "source": []
  },
  {
   "cell_type": "code",
   "execution_count": 109,
   "id": "a8085295",
   "metadata": {},
   "outputs": [],
   "source": [
    "class Student:\n",
    "    \"\"\"\n",
    "    This is a class Student.\n",
    "    It is used to create student objects and manage students details\n",
    "    \"\"\"\n",
    "    \n",
    "    college_name = \"ABC college\"\n",
    "    departments = ['Arts', 'Commerce', 'Science']\n",
    "    \n",
    "    def __init__(self, name, roll_no, sub):\n",
    "        print(f\"Calling the initializer for {self}\")\n",
    "        self.name = name\n",
    "        self.roll = roll_no\n",
    "        self.subject = sub\n",
    "        \n",
    "    def studying(self, hrs):\n",
    "        return f\"{self.name} studies {self.subject} {hrs} hours per day\"\n",
    "    \n",
    "    def student_details(self):\n",
    "        return f\"{self.name} having an ID of {self.roll} studies {self.subject} in {self.college_name}.\"\n",
    "    \n",
    "    @classmethod\n",
    "    def welcome_message(cls):\n",
    "        print(cls)\n",
    "        return f\"Welcome to the college {cls.college_name}\"\n",
    "    \n",
    "    @staticmethod\n",
    "    def greet():\n",
    "        return \"Hello\""
   ]
  },
  {
   "cell_type": "code",
   "execution_count": 110,
   "id": "2f97db44",
   "metadata": {},
   "outputs": [
    {
     "name": "stdout",
     "output_type": "stream",
     "text": [
      "Calling the initializer for <__main__.Student object at 0x00000245B83C7850>\n"
     ]
    }
   ],
   "source": [
    "s1 = Student('John', 1234, 'Maths')"
   ]
  },
  {
   "cell_type": "code",
   "execution_count": 111,
   "id": "44320bff",
   "metadata": {},
   "outputs": [
    {
     "data": {
      "text/plain": [
       "'John having an ID of 1234 studies Maths in ABC college.'"
      ]
     },
     "execution_count": 111,
     "metadata": {},
     "output_type": "execute_result"
    }
   ],
   "source": [
    "s1.student_details()"
   ]
  },
  {
   "cell_type": "code",
   "execution_count": 112,
   "id": "1b0e1b7d",
   "metadata": {},
   "outputs": [],
   "source": [
    "class Student:\n",
    "    \"\"\"\n",
    "    This is a class Student.\n",
    "    It is used to create student objects and manage students details\n",
    "    \"\"\"\n",
    "    \n",
    "    college_name = \"ABC college\"\n",
    "    departments = ['Arts', 'Commerce', 'Science']\n",
    "    \n",
    "    def __init__(self, name, roll_no, sub):\n",
    "        print(f\"Calling the initializer for {self}\")\n",
    "        self.name = name\n",
    "        self.roll = roll_no\n",
    "        self.subject = sub\n",
    "        \n",
    "    def studying(self, hrs):\n",
    "        return f\"{self.name} studies {self.subject} {hrs} hours per day\"\n",
    "    \n",
    "    def student_details(self):\n",
    "        return f\"{self.name} having an ID of {self.roll} studies {self.subject} in {cls.college_name}.\"\n",
    "    \n",
    "    @classmethod\n",
    "    def welcome_message(cls):\n",
    "        print(cls)\n",
    "        return f\"Welcome to the college {cls.college_name}\"\n",
    "    \n",
    "    @staticmethod\n",
    "    def greet():\n",
    "        return \"Hello\""
   ]
  },
  {
   "cell_type": "code",
   "execution_count": 113,
   "id": "c6b144aa",
   "metadata": {},
   "outputs": [
    {
     "name": "stdout",
     "output_type": "stream",
     "text": [
      "Calling the initializer for <__main__.Student object at 0x00000245B707E2D0>\n"
     ]
    }
   ],
   "source": [
    "s1 = Student('John', 1234, 'Maths')"
   ]
  },
  {
   "cell_type": "code",
   "execution_count": 114,
   "id": "6effca3a",
   "metadata": {},
   "outputs": [
    {
     "ename": "NameError",
     "evalue": "name 'cls' is not defined",
     "output_type": "error",
     "traceback": [
      "\u001b[1;31m---------------------------------------------------------------------------\u001b[0m",
      "\u001b[1;31mNameError\u001b[0m                                 Traceback (most recent call last)",
      "Cell \u001b[1;32mIn[114], line 1\u001b[0m\n\u001b[1;32m----> 1\u001b[0m s1\u001b[38;5;241m.\u001b[39mstudent_details()\n",
      "Cell \u001b[1;32mIn[112], line 20\u001b[0m, in \u001b[0;36mStudent.student_details\u001b[1;34m(self)\u001b[0m\n\u001b[0;32m     19\u001b[0m \u001b[38;5;28;01mdef\u001b[39;00m \u001b[38;5;21mstudent_details\u001b[39m(\u001b[38;5;28mself\u001b[39m):\n\u001b[1;32m---> 20\u001b[0m     \u001b[38;5;28;01mreturn\u001b[39;00m \u001b[38;5;124mf\u001b[39m\u001b[38;5;124m\"\u001b[39m\u001b[38;5;132;01m{\u001b[39;00m\u001b[38;5;28mself\u001b[39m\u001b[38;5;241m.\u001b[39mname\u001b[38;5;132;01m}\u001b[39;00m\u001b[38;5;124m having an ID of \u001b[39m\u001b[38;5;132;01m{\u001b[39;00m\u001b[38;5;28mself\u001b[39m\u001b[38;5;241m.\u001b[39mroll\u001b[38;5;132;01m}\u001b[39;00m\u001b[38;5;124m studies \u001b[39m\u001b[38;5;132;01m{\u001b[39;00m\u001b[38;5;28mself\u001b[39m\u001b[38;5;241m.\u001b[39msubject\u001b[38;5;132;01m}\u001b[39;00m\u001b[38;5;124m in \u001b[39m\u001b[38;5;132;01m{\u001b[39;00m\u001b[38;5;28mcls\u001b[39m\u001b[38;5;241m.\u001b[39mcollege_name\u001b[38;5;132;01m}\u001b[39;00m\u001b[38;5;124m.\u001b[39m\u001b[38;5;124m\"\u001b[39m\n",
      "\u001b[1;31mNameError\u001b[0m: name 'cls' is not defined"
     ]
    }
   ],
   "source": [
    "s1.student_details()"
   ]
  },
  {
   "cell_type": "code",
   "execution_count": 115,
   "id": "0faf9ee1",
   "metadata": {},
   "outputs": [],
   "source": [
    "class Student:\n",
    "    \"\"\"\n",
    "    This is a class Student.\n",
    "    It is used to create student objects and manage students details\n",
    "    \"\"\"\n",
    "    \n",
    "    college_name = \"ABC college\"\n",
    "    departments = ['Arts', 'Commerce', 'Science']\n",
    "    \n",
    "    def __init__(self, name, roll_no, sub):\n",
    "        print(f\"Calling the initializer for {self}\")\n",
    "        self.name = name\n",
    "        self.roll = roll_no\n",
    "        self.subject = sub\n",
    "        \n",
    "    def studying(self, hrs):\n",
    "        return f\"{self.name} studies {self.subject} {hrs} hours per day\"\n",
    "    \n",
    "    def student_details(self):\n",
    "        return f\"{self.name} having an ID of {self.roll} studies {self.subject} in {Student.college_name}.\"\n",
    "    \n",
    "    @classmethod\n",
    "    def welcome_message(cls):\n",
    "        print(cls)\n",
    "        return f\"Welcome to the college {cls.college_name}\"\n",
    "    \n",
    "    @staticmethod\n",
    "    def greet():\n",
    "        return \"Hello\""
   ]
  },
  {
   "cell_type": "code",
   "execution_count": 116,
   "id": "1e4aad6a",
   "metadata": {},
   "outputs": [
    {
     "name": "stdout",
     "output_type": "stream",
     "text": [
      "Calling the initializer for <__main__.Student object at 0x00000245B8449F50>\n"
     ]
    }
   ],
   "source": [
    "s1 = Student('John', 1234, 'Maths')"
   ]
  },
  {
   "cell_type": "code",
   "execution_count": 117,
   "id": "35845a5e",
   "metadata": {},
   "outputs": [
    {
     "data": {
      "text/plain": [
       "'John having an ID of 1234 studies Maths in ABC college.'"
      ]
     },
     "execution_count": 117,
     "metadata": {},
     "output_type": "execute_result"
    }
   ],
   "source": [
    "s1.student_details()"
   ]
  },
  {
   "cell_type": "code",
   "execution_count": 118,
   "id": "d4c9980d",
   "metadata": {},
   "outputs": [
    {
     "name": "stdout",
     "output_type": "stream",
     "text": [
      "Help on class Student in module __main__:\n",
      "\n",
      "class Student(builtins.object)\n",
      " |  Student(name, roll_no, sub)\n",
      " |  \n",
      " |  This is a class Student.\n",
      " |  It is used to create student objects and manage students details\n",
      " |  \n",
      " |  Methods defined here:\n",
      " |  \n",
      " |  __init__(self, name, roll_no, sub)\n",
      " |      Initialize self.  See help(type(self)) for accurate signature.\n",
      " |  \n",
      " |  student_details(self)\n",
      " |  \n",
      " |  studying(self, hrs)\n",
      " |  \n",
      " |  ----------------------------------------------------------------------\n",
      " |  Class methods defined here:\n",
      " |  \n",
      " |  welcome_message() from builtins.type\n",
      " |  \n",
      " |  ----------------------------------------------------------------------\n",
      " |  Static methods defined here:\n",
      " |  \n",
      " |  greet()\n",
      " |  \n",
      " |  ----------------------------------------------------------------------\n",
      " |  Data descriptors defined here:\n",
      " |  \n",
      " |  __dict__\n",
      " |      dictionary for instance variables (if defined)\n",
      " |  \n",
      " |  __weakref__\n",
      " |      list of weak references to the object (if defined)\n",
      " |  \n",
      " |  ----------------------------------------------------------------------\n",
      " |  Data and other attributes defined here:\n",
      " |  \n",
      " |  college_name = 'ABC college'\n",
      " |  \n",
      " |  departments = ['Arts', 'Commerce', 'Science']\n",
      "\n"
     ]
    }
   ],
   "source": [
    "help(Student)"
   ]
  },
  {
   "cell_type": "code",
   "execution_count": 119,
   "id": "ce0d16c6",
   "metadata": {},
   "outputs": [
    {
     "data": {
      "text/plain": [
       "mappingproxy({'__module__': '__main__',\n",
       "              '__doc__': '\\n    This is a class Student.\\n    It is used to create student objects and manage students details\\n    ',\n",
       "              'college_name': 'ABC college',\n",
       "              'departments': ['Arts', 'Commerce', 'Science'],\n",
       "              '__init__': <function __main__.Student.__init__(self, name, roll_no, sub)>,\n",
       "              'studying': <function __main__.Student.studying(self, hrs)>,\n",
       "              'student_details': <function __main__.Student.student_details(self)>,\n",
       "              'welcome_message': <classmethod(<function Student.welcome_message at 0x00000245B85FD080>)>,\n",
       "              'greet': <staticmethod(<function Student.greet at 0x00000245B85FD260>)>,\n",
       "              '__dict__': <attribute '__dict__' of 'Student' objects>,\n",
       "              '__weakref__': <attribute '__weakref__' of 'Student' objects>})"
      ]
     },
     "execution_count": 119,
     "metadata": {},
     "output_type": "execute_result"
    }
   ],
   "source": [
    "Student.__dict__"
   ]
  },
  {
   "cell_type": "code",
   "execution_count": null,
   "id": "3979d53d",
   "metadata": {},
   "outputs": [],
   "source": []
  },
  {
   "cell_type": "code",
   "execution_count": 124,
   "id": "22e067c7",
   "metadata": {},
   "outputs": [],
   "source": [
    "class Student:\n",
    "    \"\"\"\n",
    "    This is a class Student.\n",
    "    It is used to create student objects and manage students details\n",
    "    \"\"\"\n",
    "    \n",
    "    college_name = \"ABC college\"\n",
    "    departments = ['Arts', 'Commerce', 'Science']\n",
    "    \n",
    "    def __init__(self, name, roll_no, sub, marks):\n",
    "        print(f\"Calling the initializer for {self}\")\n",
    "        self.name = name\n",
    "        self.roll = roll_no\n",
    "        self.subject = sub\n",
    "        self.marks = marks\n",
    "        \n",
    "    def studying(self, hrs):\n",
    "        return f\"{self.name} studies {self.subject} {hrs} hours per day\"\n",
    "    \n",
    "    def student_details(self):\n",
    "        grades = []\n",
    "        for m in self.marks:\n",
    "            grade = self.get_grades(m)\n",
    "            grades.append(grade)\n",
    "            \n",
    "        return f\"{self.name} having an ID of {self.roll} studies {self.subject}. His grades: {grades}\"\n",
    "    \n",
    "    @classmethod\n",
    "    def welcome_message(cls):\n",
    "        print(cls)\n",
    "        return f\"Welcome to the college {cls.college_name}\"\n",
    "    \n",
    "    @staticmethod\n",
    "    def greet():\n",
    "        return \"Hello\"\n",
    "    \n",
    "    @staticmethod\n",
    "    def get_grades(percent):\n",
    "        if percent >= 90:\n",
    "            return 'A'\n",
    "        elif percent >= 80 and percent < 90:\n",
    "            return 'B'\n",
    "        elif percent >= 70 and percent < 80:\n",
    "            return 'C'\n",
    "        elif percent >= 60 and percent < 70:\n",
    "            return 'D'\n",
    "        else:\n",
    "            return 'F'"
   ]
  },
  {
   "cell_type": "code",
   "execution_count": 125,
   "id": "dbf76787",
   "metadata": {},
   "outputs": [
    {
     "name": "stdout",
     "output_type": "stream",
     "text": [
      "Calling the initializer for <__main__.Student object at 0x00000245B7314BD0>\n"
     ]
    }
   ],
   "source": [
    "s1 = Student('John', 123, 'Arts', [67.5, 91.0, 78.5, 81.0])"
   ]
  },
  {
   "cell_type": "code",
   "execution_count": 126,
   "id": "7f737485",
   "metadata": {},
   "outputs": [
    {
     "data": {
      "text/plain": [
       "{'name': 'John',\n",
       " 'roll': 123,\n",
       " 'subject': 'Arts',\n",
       " 'marks': [67.5, 91.0, 78.5, 81.0]}"
      ]
     },
     "execution_count": 126,
     "metadata": {},
     "output_type": "execute_result"
    }
   ],
   "source": [
    "s1.__dict__"
   ]
  },
  {
   "cell_type": "code",
   "execution_count": 127,
   "id": "fff45c02",
   "metadata": {},
   "outputs": [
    {
     "data": {
      "text/plain": [
       "\"John having an ID of 123 studies Arts. His grades: ['D', 'A', 'C', 'B']\""
      ]
     },
     "execution_count": 127,
     "metadata": {},
     "output_type": "execute_result"
    }
   ],
   "source": [
    "s1.student_details()"
   ]
  },
  {
   "cell_type": "code",
   "execution_count": null,
   "id": "a2e153a4",
   "metadata": {},
   "outputs": [],
   "source": []
  }
 ],
 "metadata": {
  "kernelspec": {
   "display_name": "Python 3 (ipykernel)",
   "language": "python",
   "name": "python3"
  },
  "language_info": {
   "codemirror_mode": {
    "name": "ipython",
    "version": 3
   },
   "file_extension": ".py",
   "mimetype": "text/x-python",
   "name": "python",
   "nbconvert_exporter": "python",
   "pygments_lexer": "ipython3",
   "version": "3.11.4"
  }
 },
 "nbformat": 4,
 "nbformat_minor": 5
}
