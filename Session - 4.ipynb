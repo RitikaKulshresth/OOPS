{
 "cells": [
  {
   "cell_type": "code",
   "execution_count": 1,
   "id": "c0de69f5",
   "metadata": {},
   "outputs": [],
   "source": [
    "# Contructor in Python"
   ]
  },
  {
   "cell_type": "code",
   "execution_count": 2,
   "id": "f7f332a5",
   "metadata": {},
   "outputs": [],
   "source": [
    "# __init__ is the constructor"
   ]
  },
  {
   "cell_type": "code",
   "execution_count": null,
   "id": "5b981fb5",
   "metadata": {},
   "outputs": [],
   "source": []
  },
  {
   "cell_type": "code",
   "execution_count": 3,
   "id": "0b95979b",
   "metadata": {},
   "outputs": [],
   "source": [
    "# Access specifiers"
   ]
  },
  {
   "cell_type": "code",
   "execution_count": 4,
   "id": "e3ea8f74",
   "metadata": {},
   "outputs": [],
   "source": [
    "# Accessibility of the variables/methods of the class"
   ]
  },
  {
   "cell_type": "code",
   "execution_count": 5,
   "id": "7e428c6a",
   "metadata": {},
   "outputs": [],
   "source": [
    "# Public: Accessible to everone. By default. eg. var = 100\n",
    "# Protected: Accessible to that particular class and the child classes, not outside the class. eg: _var = 1000\n",
    "# Private: Accessible only inside the class where it is created. eg. __var = 10"
   ]
  },
  {
   "cell_type": "code",
   "execution_count": 6,
   "id": "fe31ebf1",
   "metadata": {},
   "outputs": [],
   "source": [
    "class Employee:\n",
    "    company = 'ABC corp' # public\n",
    "    _department = 'IT' # protected\n",
    "    __salary = 20000 # private"
   ]
  },
  {
   "cell_type": "code",
   "execution_count": 7,
   "id": "1277bd6e",
   "metadata": {},
   "outputs": [],
   "source": [
    "emp1 = Employee()"
   ]
  },
  {
   "cell_type": "code",
   "execution_count": 8,
   "id": "38dfbab5",
   "metadata": {},
   "outputs": [
    {
     "data": {
      "text/plain": [
       "'ABC corp'"
      ]
     },
     "execution_count": 8,
     "metadata": {},
     "output_type": "execute_result"
    }
   ],
   "source": [
    "emp1.company"
   ]
  },
  {
   "cell_type": "code",
   "execution_count": 9,
   "id": "b0bb1854",
   "metadata": {},
   "outputs": [
    {
     "ename": "AttributeError",
     "evalue": "'Employee' object has no attribute '__salary'",
     "output_type": "error",
     "traceback": [
      "\u001b[1;31m---------------------------------------------------------------------------\u001b[0m",
      "\u001b[1;31mAttributeError\u001b[0m                            Traceback (most recent call last)",
      "Cell \u001b[1;32mIn[9], line 1\u001b[0m\n\u001b[1;32m----> 1\u001b[0m emp1\u001b[38;5;241m.\u001b[39m__salary\n",
      "\u001b[1;31mAttributeError\u001b[0m: 'Employee' object has no attribute '__salary'"
     ]
    }
   ],
   "source": [
    "emp1.__salary"
   ]
  },
  {
   "cell_type": "code",
   "execution_count": 10,
   "id": "2f2989ab",
   "metadata": {},
   "outputs": [
    {
     "data": {
      "text/plain": [
       "'IT'"
      ]
     },
     "execution_count": 10,
     "metadata": {},
     "output_type": "execute_result"
    }
   ],
   "source": [
    "emp1._department"
   ]
  },
  {
   "cell_type": "code",
   "execution_count": 11,
   "id": "2721e834",
   "metadata": {},
   "outputs": [],
   "source": [
    "# We are able to access the protected variable outside the class"
   ]
  },
  {
   "cell_type": "code",
   "execution_count": 12,
   "id": "fc66db71",
   "metadata": {},
   "outputs": [],
   "source": [
    "# There is NO true protected access specifiers in Python\n",
    "# Protected access sepcifiers are used as convention in Python (it is meant to be protected)\n",
    "# It is an indication that do not access the protected variables/methods outside the class"
   ]
  },
  {
   "cell_type": "code",
   "execution_count": null,
   "id": "a37cde4e",
   "metadata": {},
   "outputs": [],
   "source": []
  },
  {
   "cell_type": "code",
   "execution_count": 13,
   "id": "aa66af85",
   "metadata": {},
   "outputs": [
    {
     "name": "stdout",
     "output_type": "stream",
     "text": [
      "Help on class Employee in module __main__:\n",
      "\n",
      "class Employee(builtins.object)\n",
      " |  Data descriptors defined here:\n",
      " |  \n",
      " |  __dict__\n",
      " |      dictionary for instance variables (if defined)\n",
      " |  \n",
      " |  __weakref__\n",
      " |      list of weak references to the object (if defined)\n",
      " |  \n",
      " |  ----------------------------------------------------------------------\n",
      " |  Data and other attributes defined here:\n",
      " |  \n",
      " |  company = 'ABC corp'\n",
      "\n"
     ]
    }
   ],
   "source": [
    "help(Employee)"
   ]
  },
  {
   "cell_type": "code",
   "execution_count": 14,
   "id": "d41e0de5",
   "metadata": {},
   "outputs": [
    {
     "data": {
      "text/plain": [
       "mappingproxy({'__module__': '__main__',\n",
       "              'company': 'ABC corp',\n",
       "              '_department': 'IT',\n",
       "              '_Employee__salary': 20000,\n",
       "              '__dict__': <attribute '__dict__' of 'Employee' objects>,\n",
       "              '__weakref__': <attribute '__weakref__' of 'Employee' objects>,\n",
       "              '__doc__': None})"
      ]
     },
     "execution_count": 14,
     "metadata": {},
     "output_type": "execute_result"
    }
   ],
   "source": [
    "Employee.__dict__"
   ]
  },
  {
   "cell_type": "code",
   "execution_count": 15,
   "id": "dc780f65",
   "metadata": {},
   "outputs": [
    {
     "data": {
      "text/plain": [
       "20000"
      ]
     },
     "execution_count": 15,
     "metadata": {},
     "output_type": "execute_result"
    }
   ],
   "source": [
    "emp1._Employee__salary"
   ]
  },
  {
   "cell_type": "code",
   "execution_count": 16,
   "id": "1add2f44",
   "metadata": {},
   "outputs": [],
   "source": [
    "# This is called Name mangling"
   ]
  },
  {
   "cell_type": "code",
   "execution_count": 18,
   "id": "a8865661",
   "metadata": {},
   "outputs": [],
   "source": [
    "# __var is stored as _ClassName__var"
   ]
  },
  {
   "cell_type": "code",
   "execution_count": null,
   "id": "5b41530b",
   "metadata": {},
   "outputs": [],
   "source": []
  },
  {
   "cell_type": "code",
   "execution_count": 19,
   "id": "6f5e71a3",
   "metadata": {},
   "outputs": [],
   "source": [
    "# Encapsulation\n",
    "# Binding the data together\n",
    "# Capsulating the data of the class together"
   ]
  },
  {
   "cell_type": "code",
   "execution_count": null,
   "id": "8df94f0c",
   "metadata": {},
   "outputs": [],
   "source": []
  },
  {
   "cell_type": "code",
   "execution_count": 20,
   "id": "77fc200a",
   "metadata": {},
   "outputs": [],
   "source": [
    "# The attributes should not be accessed outside directly"
   ]
  },
  {
   "cell_type": "code",
   "execution_count": 21,
   "id": "ce31ba4f",
   "metadata": {},
   "outputs": [
    {
     "data": {
      "text/plain": [
       "'ABC corp'"
      ]
     },
     "execution_count": 21,
     "metadata": {},
     "output_type": "execute_result"
    }
   ],
   "source": [
    "emp1.company"
   ]
  },
  {
   "cell_type": "code",
   "execution_count": 22,
   "id": "5c2f0c3d",
   "metadata": {},
   "outputs": [],
   "source": [
    "emp1.company = 'XYZ corp'"
   ]
  },
  {
   "cell_type": "code",
   "execution_count": 23,
   "id": "f298a51f",
   "metadata": {},
   "outputs": [
    {
     "data": {
      "text/plain": [
       "'XYZ corp'"
      ]
     },
     "execution_count": 23,
     "metadata": {},
     "output_type": "execute_result"
    }
   ],
   "source": [
    "emp1.company"
   ]
  },
  {
   "cell_type": "code",
   "execution_count": 24,
   "id": "23aa7bba",
   "metadata": {},
   "outputs": [],
   "source": [
    "# Direct access and modification of the attributes should not be allowed"
   ]
  },
  {
   "cell_type": "code",
   "execution_count": 25,
   "id": "88031ca9",
   "metadata": {},
   "outputs": [],
   "source": [
    "class Employee:\n",
    "    company = 'ABC corp'\n",
    "    departments = ['IT', 'Admin', 'HR']\n",
    "    \n",
    "    def __init__(self, empid, empname, salary):\n",
    "        self.empid = empid\n",
    "        self.empname = empname\n",
    "        self.salary = salary\n",
    "        \n",
    "    def get_details(self):\n",
    "        return f\"{self.empname} has an employee ID of {self.empid} and earns {self.salary}\"\n",
    "        \n",
    "        "
   ]
  },
  {
   "cell_type": "code",
   "execution_count": 26,
   "id": "92d0ed1b",
   "metadata": {},
   "outputs": [],
   "source": [
    "emp1 = Employee(111, 'John', 20000)"
   ]
  },
  {
   "cell_type": "code",
   "execution_count": 27,
   "id": "0489cf4d",
   "metadata": {},
   "outputs": [
    {
     "data": {
      "text/plain": [
       "'John has an employee ID of 111 and earns 20000'"
      ]
     },
     "execution_count": 27,
     "metadata": {},
     "output_type": "execute_result"
    }
   ],
   "source": [
    "emp1.get_details()"
   ]
  },
  {
   "cell_type": "code",
   "execution_count": 28,
   "id": "1c1dad8e",
   "metadata": {},
   "outputs": [
    {
     "data": {
      "text/plain": [
       "'ABC corp'"
      ]
     },
     "execution_count": 28,
     "metadata": {},
     "output_type": "execute_result"
    }
   ],
   "source": [
    "emp1.company"
   ]
  },
  {
   "cell_type": "code",
   "execution_count": 29,
   "id": "d8e58f1d",
   "metadata": {},
   "outputs": [
    {
     "data": {
      "text/plain": [
       "20000"
      ]
     },
     "execution_count": 29,
     "metadata": {},
     "output_type": "execute_result"
    }
   ],
   "source": [
    "emp1.salary"
   ]
  },
  {
   "cell_type": "code",
   "execution_count": 31,
   "id": "8660ca35",
   "metadata": {},
   "outputs": [],
   "source": [
    "emp1.salary = -10"
   ]
  },
  {
   "cell_type": "code",
   "execution_count": 32,
   "id": "6be9b835",
   "metadata": {},
   "outputs": [
    {
     "data": {
      "text/plain": [
       "-10"
      ]
     },
     "execution_count": 32,
     "metadata": {},
     "output_type": "execute_result"
    }
   ],
   "source": [
    "emp1.salary"
   ]
  },
  {
   "cell_type": "code",
   "execution_count": 33,
   "id": "fcebcdd5",
   "metadata": {},
   "outputs": [],
   "source": [
    "# To restrict the direct access (fetching and setting) of the variables, we implement Getters and Setters"
   ]
  },
  {
   "cell_type": "code",
   "execution_count": 34,
   "id": "297f970d",
   "metadata": {},
   "outputs": [],
   "source": [
    "# Getters and Setters "
   ]
  },
  {
   "cell_type": "code",
   "execution_count": 35,
   "id": "d935fb47",
   "metadata": {},
   "outputs": [],
   "source": [
    "class Employee:\n",
    "    company = 'ABC corp'\n",
    "    departments = ['IT', 'Admin', 'HR']\n",
    "    \n",
    "    def __init__(self, empid, empname, salary):\n",
    "        self.empid = empid\n",
    "        self.empname = empname\n",
    "        self.salary = salary\n",
    "        \n",
    "    def get_details(self):\n",
    "        return f\"{self.empname} has an employee ID of {self.empid} and earns {self.salary}\"\n",
    "    \n",
    "    # Getter for salary\n",
    "    def get_salary(self):\n",
    "        return self.salary\n",
    "    \n",
    "    # Setter for salary\n",
    "    def set_salary(self, new_sal):\n",
    "        self.salary = new_sal"
   ]
  },
  {
   "cell_type": "code",
   "execution_count": 36,
   "id": "1042cfb3",
   "metadata": {},
   "outputs": [],
   "source": [
    "emp1 = Employee(111, 'John', 20000)"
   ]
  },
  {
   "cell_type": "code",
   "execution_count": 37,
   "id": "553bcbcb",
   "metadata": {},
   "outputs": [
    {
     "data": {
      "text/plain": [
       "20000"
      ]
     },
     "execution_count": 37,
     "metadata": {},
     "output_type": "execute_result"
    }
   ],
   "source": [
    "emp1.get_salary()"
   ]
  },
  {
   "cell_type": "code",
   "execution_count": 38,
   "id": "1b90f60e",
   "metadata": {},
   "outputs": [],
   "source": [
    "emp1.set_salary(30000)"
   ]
  },
  {
   "cell_type": "code",
   "execution_count": 39,
   "id": "191e3862",
   "metadata": {},
   "outputs": [
    {
     "data": {
      "text/plain": [
       "30000"
      ]
     },
     "execution_count": 39,
     "metadata": {},
     "output_type": "execute_result"
    }
   ],
   "source": [
    "emp1.get_salary()"
   ]
  },
  {
   "cell_type": "code",
   "execution_count": 40,
   "id": "56c6ab79",
   "metadata": {},
   "outputs": [
    {
     "data": {
      "text/plain": [
       "30000"
      ]
     },
     "execution_count": 40,
     "metadata": {},
     "output_type": "execute_result"
    }
   ],
   "source": [
    "emp1.salary"
   ]
  },
  {
   "cell_type": "code",
   "execution_count": 41,
   "id": "041bcefc",
   "metadata": {},
   "outputs": [],
   "source": [
    "emp1.salary = -6"
   ]
  },
  {
   "cell_type": "code",
   "execution_count": 42,
   "id": "2cc23c7c",
   "metadata": {},
   "outputs": [
    {
     "data": {
      "text/plain": [
       "-6"
      ]
     },
     "execution_count": 42,
     "metadata": {},
     "output_type": "execute_result"
    }
   ],
   "source": [
    "emp1.salary"
   ]
  },
  {
   "cell_type": "code",
   "execution_count": null,
   "id": "056d84bd",
   "metadata": {},
   "outputs": [],
   "source": []
  },
  {
   "cell_type": "code",
   "execution_count": 1,
   "id": "6c548e15",
   "metadata": {},
   "outputs": [],
   "source": [
    "# Getters and Setters in Python"
   ]
  },
  {
   "cell_type": "code",
   "execution_count": 2,
   "id": "2f327285",
   "metadata": {},
   "outputs": [],
   "source": [
    "# Getter - we use a decorator called 'property' to create Getter"
   ]
  },
  {
   "cell_type": "code",
   "execution_count": 6,
   "id": "1ecc506f",
   "metadata": {},
   "outputs": [],
   "source": [
    "class Employee:\n",
    "    company = 'ABC corp'\n",
    "    departments = ['IT', 'Admin', 'HR']\n",
    "    \n",
    "    def __init__(self, empid, empname, empsal):\n",
    "        self.empid = empid\n",
    "        self.empname = empname\n",
    "        self.__empsal = empsal\n",
    "        \n",
    "    def get_details(self):\n",
    "        return f\"{self.empname} has an employee ID of {self.empid} and earns {self.salary}\"\n",
    "    \n",
    "    # Getter for salary\n",
    "    @property\n",
    "    def salary(self):\n",
    "        return self.__empsal"
   ]
  },
  {
   "cell_type": "code",
   "execution_count": 7,
   "id": "dd5639cd",
   "metadata": {},
   "outputs": [],
   "source": [
    "emp1 = Employee(111, 'John', 20000)"
   ]
  },
  {
   "cell_type": "code",
   "execution_count": 8,
   "id": "a4eba2ba",
   "metadata": {},
   "outputs": [
    {
     "data": {
      "text/plain": [
       "<__main__.Employee at 0x25be72d8310>"
      ]
     },
     "execution_count": 8,
     "metadata": {},
     "output_type": "execute_result"
    }
   ],
   "source": [
    "emp1"
   ]
  },
  {
   "cell_type": "code",
   "execution_count": 9,
   "id": "8ea69739",
   "metadata": {},
   "outputs": [
    {
     "data": {
      "text/plain": [
       "20000"
      ]
     },
     "execution_count": 9,
     "metadata": {},
     "output_type": "execute_result"
    }
   ],
   "source": [
    "emp1.salary"
   ]
  },
  {
   "cell_type": "code",
   "execution_count": 10,
   "id": "ae080c65",
   "metadata": {},
   "outputs": [
    {
     "ename": "TypeError",
     "evalue": "'int' object is not callable",
     "output_type": "error",
     "traceback": [
      "\u001b[1;31m---------------------------------------------------------------------------\u001b[0m",
      "\u001b[1;31mTypeError\u001b[0m                                 Traceback (most recent call last)",
      "Cell \u001b[1;32mIn[10], line 1\u001b[0m\n\u001b[1;32m----> 1\u001b[0m emp1\u001b[38;5;241m.\u001b[39msalary()\n",
      "\u001b[1;31mTypeError\u001b[0m: 'int' object is not callable"
     ]
    }
   ],
   "source": [
    "emp1.salary()"
   ]
  },
  {
   "cell_type": "code",
   "execution_count": 11,
   "id": "033e4d0f",
   "metadata": {},
   "outputs": [
    {
     "ename": "AttributeError",
     "evalue": "property 'salary' of 'Employee' object has no setter",
     "output_type": "error",
     "traceback": [
      "\u001b[1;31m---------------------------------------------------------------------------\u001b[0m",
      "\u001b[1;31mAttributeError\u001b[0m                            Traceback (most recent call last)",
      "Cell \u001b[1;32mIn[11], line 1\u001b[0m\n\u001b[1;32m----> 1\u001b[0m emp1\u001b[38;5;241m.\u001b[39msalary \u001b[38;5;241m=\u001b[39m \u001b[38;5;241m-\u001b[39m\u001b[38;5;241m1\u001b[39m\n",
      "\u001b[1;31mAttributeError\u001b[0m: property 'salary' of 'Employee' object has no setter"
     ]
    }
   ],
   "source": [
    "emp1.salary = -1"
   ]
  },
  {
   "cell_type": "code",
   "execution_count": 12,
   "id": "dcb5108f",
   "metadata": {},
   "outputs": [],
   "source": [
    "# Setter for salary"
   ]
  },
  {
   "cell_type": "code",
   "execution_count": 13,
   "id": "d7c2ac4c",
   "metadata": {},
   "outputs": [],
   "source": [
    "class Employee:\n",
    "    company = 'ABC corp'\n",
    "    departments = ['IT', 'Admin', 'HR']\n",
    "    \n",
    "    def __init__(self, empid, empname, empsal):\n",
    "        self.empid = empid\n",
    "        self.empname = empname\n",
    "        self.__empsal = empsal\n",
    "        \n",
    "    def get_details(self):\n",
    "        return f\"{self.empname} has an employee ID of {self.empid} and earns {self.salary}\"\n",
    "    \n",
    "    # Getter for salary\n",
    "    @property\n",
    "    def salary(self):\n",
    "        return self.__empsal\n",
    "    \n",
    "    # Setter for salary\n",
    "    @salary.setter\n",
    "    def salary(self, new_salary):\n",
    "        self.__empsal = new_salary"
   ]
  },
  {
   "cell_type": "code",
   "execution_count": 14,
   "id": "5976b040",
   "metadata": {},
   "outputs": [],
   "source": [
    "emp1 = Employee(111, 'John', 20000)"
   ]
  },
  {
   "cell_type": "code",
   "execution_count": 15,
   "id": "551dba97",
   "metadata": {},
   "outputs": [
    {
     "data": {
      "text/plain": [
       "20000"
      ]
     },
     "execution_count": 15,
     "metadata": {},
     "output_type": "execute_result"
    }
   ],
   "source": [
    "emp1.salary"
   ]
  },
  {
   "cell_type": "code",
   "execution_count": 16,
   "id": "6e807313",
   "metadata": {},
   "outputs": [],
   "source": [
    "emp1.salary = 30000"
   ]
  },
  {
   "cell_type": "code",
   "execution_count": 17,
   "id": "1335a71e",
   "metadata": {},
   "outputs": [
    {
     "data": {
      "text/plain": [
       "30000"
      ]
     },
     "execution_count": 17,
     "metadata": {},
     "output_type": "execute_result"
    }
   ],
   "source": [
    "emp1.salary"
   ]
  },
  {
   "cell_type": "code",
   "execution_count": 18,
   "id": "b7515fba",
   "metadata": {},
   "outputs": [],
   "source": [
    "emp1.salary = - 10"
   ]
  },
  {
   "cell_type": "code",
   "execution_count": 19,
   "id": "c06d60c5",
   "metadata": {},
   "outputs": [
    {
     "data": {
      "text/plain": [
       "-10"
      ]
     },
     "execution_count": 19,
     "metadata": {},
     "output_type": "execute_result"
    }
   ],
   "source": [
    "emp1.salary"
   ]
  },
  {
   "cell_type": "code",
   "execution_count": 26,
   "id": "d508c673",
   "metadata": {},
   "outputs": [],
   "source": [
    "class Employee:\n",
    "    company = 'ABC corp'\n",
    "    departments = ['IT', 'Admin', 'HR']\n",
    "    \n",
    "    def __init__(self, empid, empname, empsal):\n",
    "        self.empid = empid\n",
    "        self.empname = empname\n",
    "        self.__empsal = empsal\n",
    "        \n",
    "    def get_details(self):\n",
    "        return f\"{self.empname} has an employee ID of {self.empid} and earns {self.salary}\"\n",
    "    \n",
    "    # Getter for salary\n",
    "    @property\n",
    "    def salary(self):\n",
    "        return self.__empsal\n",
    "    \n",
    "    # Setter for salary\n",
    "    @salary.setter\n",
    "    def salary(self, new_salary):\n",
    "        if new_salary < self.__empsal:\n",
    "            print(\"Cannot set salary. New salary is less than old salary!!!\")\n",
    "        else:\n",
    "            self.__empsal = new_salary"
   ]
  },
  {
   "cell_type": "code",
   "execution_count": 27,
   "id": "86477b9a",
   "metadata": {},
   "outputs": [],
   "source": [
    "emp1 = Employee(111, 'John', 20000)"
   ]
  },
  {
   "cell_type": "code",
   "execution_count": 29,
   "id": "dba7bc45",
   "metadata": {},
   "outputs": [
    {
     "data": {
      "text/plain": [
       "20000"
      ]
     },
     "execution_count": 29,
     "metadata": {},
     "output_type": "execute_result"
    }
   ],
   "source": [
    "emp1.salary"
   ]
  },
  {
   "cell_type": "code",
   "execution_count": 30,
   "id": "33148ea4",
   "metadata": {},
   "outputs": [
    {
     "name": "stdout",
     "output_type": "stream",
     "text": [
      "Cannot set salary. New salary is less than old salary!!!\n"
     ]
    }
   ],
   "source": [
    "emp1.salary = -10"
   ]
  },
  {
   "cell_type": "code",
   "execution_count": 31,
   "id": "5b0c5661",
   "metadata": {},
   "outputs": [
    {
     "data": {
      "text/plain": [
       "20000"
      ]
     },
     "execution_count": 31,
     "metadata": {},
     "output_type": "execute_result"
    }
   ],
   "source": [
    "emp1.salary"
   ]
  },
  {
   "cell_type": "code",
   "execution_count": 32,
   "id": "22605775",
   "metadata": {},
   "outputs": [
    {
     "name": "stdout",
     "output_type": "stream",
     "text": [
      "Cannot set salary. New salary is less than old salary!!!\n"
     ]
    }
   ],
   "source": [
    "emp1.salary = 15000"
   ]
  },
  {
   "cell_type": "code",
   "execution_count": 33,
   "id": "85bb1787",
   "metadata": {},
   "outputs": [],
   "source": [
    "emp1.salary = 25000"
   ]
  },
  {
   "cell_type": "code",
   "execution_count": 34,
   "id": "aa81d4e1",
   "metadata": {},
   "outputs": [
    {
     "data": {
      "text/plain": [
       "25000"
      ]
     },
     "execution_count": 34,
     "metadata": {},
     "output_type": "execute_result"
    }
   ],
   "source": [
    "emp1.salary"
   ]
  },
  {
   "cell_type": "code",
   "execution_count": 35,
   "id": "f07d6bfa",
   "metadata": {},
   "outputs": [
    {
     "name": "stdout",
     "output_type": "stream",
     "text": [
      "Help on class property in module builtins:\n",
      "\n",
      "class property(object)\n",
      " |  property(fget=None, fset=None, fdel=None, doc=None)\n",
      " |  \n",
      " |  Property attribute.\n",
      " |  \n",
      " |    fget\n",
      " |      function to be used for getting an attribute value\n",
      " |    fset\n",
      " |      function to be used for setting an attribute value\n",
      " |    fdel\n",
      " |      function to be used for del'ing an attribute\n",
      " |    doc\n",
      " |      docstring\n",
      " |  \n",
      " |  Typical use is to define a managed attribute x:\n",
      " |  \n",
      " |  class C(object):\n",
      " |      def getx(self): return self._x\n",
      " |      def setx(self, value): self._x = value\n",
      " |      def delx(self): del self._x\n",
      " |      x = property(getx, setx, delx, \"I'm the 'x' property.\")\n",
      " |  \n",
      " |  Decorators make defining new properties or modifying existing ones easy:\n",
      " |  \n",
      " |  class C(object):\n",
      " |      @property\n",
      " |      def x(self):\n",
      " |          \"I am the 'x' property.\"\n",
      " |          return self._x\n",
      " |      @x.setter\n",
      " |      def x(self, value):\n",
      " |          self._x = value\n",
      " |      @x.deleter\n",
      " |      def x(self):\n",
      " |          del self._x\n",
      " |  \n",
      " |  Methods defined here:\n",
      " |  \n",
      " |  __delete__(self, instance, /)\n",
      " |      Delete an attribute of instance.\n",
      " |  \n",
      " |  __get__(self, instance, owner=None, /)\n",
      " |      Return an attribute of instance, which is of type owner.\n",
      " |  \n",
      " |  __getattribute__(self, name, /)\n",
      " |      Return getattr(self, name).\n",
      " |  \n",
      " |  __init__(self, /, *args, **kwargs)\n",
      " |      Initialize self.  See help(type(self)) for accurate signature.\n",
      " |  \n",
      " |  __set__(self, instance, value, /)\n",
      " |      Set an attribute of instance to value.\n",
      " |  \n",
      " |  __set_name__(...)\n",
      " |      Method to set name of a property.\n",
      " |  \n",
      " |  deleter(...)\n",
      " |      Descriptor to obtain a copy of the property with a different deleter.\n",
      " |  \n",
      " |  getter(...)\n",
      " |      Descriptor to obtain a copy of the property with a different getter.\n",
      " |  \n",
      " |  setter(...)\n",
      " |      Descriptor to obtain a copy of the property with a different setter.\n",
      " |  \n",
      " |  ----------------------------------------------------------------------\n",
      " |  Static methods defined here:\n",
      " |  \n",
      " |  __new__(*args, **kwargs) from builtins.type\n",
      " |      Create and return a new object.  See help(type) for accurate signature.\n",
      " |  \n",
      " |  ----------------------------------------------------------------------\n",
      " |  Data descriptors defined here:\n",
      " |  \n",
      " |  __isabstractmethod__\n",
      " |  \n",
      " |  fdel\n",
      " |  \n",
      " |  fget\n",
      " |  \n",
      " |  fset\n",
      "\n"
     ]
    }
   ],
   "source": [
    "help(property)"
   ]
  },
  {
   "cell_type": "code",
   "execution_count": 36,
   "id": "3099a726",
   "metadata": {},
   "outputs": [
    {
     "ename": "AttributeError",
     "evalue": "'Employee' object has no attribute '__empsal'",
     "output_type": "error",
     "traceback": [
      "\u001b[1;31m---------------------------------------------------------------------------\u001b[0m",
      "\u001b[1;31mAttributeError\u001b[0m                            Traceback (most recent call last)",
      "Cell \u001b[1;32mIn[36], line 1\u001b[0m\n\u001b[1;32m----> 1\u001b[0m emp1\u001b[38;5;241m.\u001b[39m__empsal\n",
      "\u001b[1;31mAttributeError\u001b[0m: 'Employee' object has no attribute '__empsal'"
     ]
    }
   ],
   "source": [
    "emp1.__empsal "
   ]
  },
  {
   "cell_type": "code",
   "execution_count": null,
   "id": "345ce655",
   "metadata": {},
   "outputs": [],
   "source": []
  },
  {
   "cell_type": "code",
   "execution_count": 37,
   "id": "e539c2b9",
   "metadata": {},
   "outputs": [],
   "source": [
    "# Inheritance"
   ]
  },
  {
   "cell_type": "code",
   "execution_count": 38,
   "id": "eecafd34",
   "metadata": {},
   "outputs": [],
   "source": [
    "# When a class inherits the attributes and methods of another class"
   ]
  },
  {
   "cell_type": "code",
   "execution_count": 39,
   "id": "a6ba3887",
   "metadata": {},
   "outputs": [],
   "source": [
    "class Vehicle:\n",
    "    company = 'ABC Motors'\n",
    "    \n",
    "    def __init__(self, engine_type, nwheels, mileage):\n",
    "        self.engine_type = engine_type\n",
    "        self.nwheels = nwheels\n",
    "        self.mileage= mileage\n",
    "        \n",
    "    def get_details(self):\n",
    "        return f\"This vehicle has a {self.engine_type} engine, {self.nwheels} wheels and a mileage of {self.mileage}\""
   ]
  },
  {
   "cell_type": "code",
   "execution_count": 40,
   "id": "43027ad0",
   "metadata": {},
   "outputs": [],
   "source": [
    "v1 = Vehicle('Petrol', 4, 20)"
   ]
  },
  {
   "cell_type": "code",
   "execution_count": 41,
   "id": "ffc2b0d6",
   "metadata": {},
   "outputs": [
    {
     "data": {
      "text/plain": [
       "'This vehicle has a Petrol engine, 4 wheels and a mileage of 20'"
      ]
     },
     "execution_count": 41,
     "metadata": {},
     "output_type": "execute_result"
    }
   ],
   "source": [
    "v1.get_details()"
   ]
  },
  {
   "cell_type": "code",
   "execution_count": 42,
   "id": "934a4aa0",
   "metadata": {},
   "outputs": [],
   "source": [
    "# Create a class - Car - which inherits from Vehicle"
   ]
  },
  {
   "cell_type": "code",
   "execution_count": 43,
   "id": "83326493",
   "metadata": {},
   "outputs": [],
   "source": [
    "class Car(Vehicle):\n",
    "    pass"
   ]
  },
  {
   "cell_type": "code",
   "execution_count": 44,
   "id": "1258828e",
   "metadata": {},
   "outputs": [],
   "source": [
    "# Vehicle class - parent class / base class / super class\n",
    "# Car class - child class / derived class / sub class"
   ]
  },
  {
   "cell_type": "code",
   "execution_count": 45,
   "id": "53f47d28",
   "metadata": {},
   "outputs": [],
   "source": [
    "# Car class is inheriting Vehicle class"
   ]
  },
  {
   "cell_type": "code",
   "execution_count": 46,
   "id": "d68f7edf",
   "metadata": {},
   "outputs": [],
   "source": [
    "# Car class has access to all the methods and variables/properties/attributes of the Vehicle class"
   ]
  },
  {
   "cell_type": "code",
   "execution_count": 47,
   "id": "e52b5efb",
   "metadata": {},
   "outputs": [
    {
     "ename": "TypeError",
     "evalue": "Vehicle.__init__() missing 3 required positional arguments: 'engine_type', 'nwheels', and 'mileage'",
     "output_type": "error",
     "traceback": [
      "\u001b[1;31m---------------------------------------------------------------------------\u001b[0m",
      "\u001b[1;31mTypeError\u001b[0m                                 Traceback (most recent call last)",
      "Cell \u001b[1;32mIn[47], line 1\u001b[0m\n\u001b[1;32m----> 1\u001b[0m c1 \u001b[38;5;241m=\u001b[39m Car()\n",
      "\u001b[1;31mTypeError\u001b[0m: Vehicle.__init__() missing 3 required positional arguments: 'engine_type', 'nwheels', and 'mileage'"
     ]
    }
   ],
   "source": [
    "c1 = Car()"
   ]
  },
  {
   "cell_type": "code",
   "execution_count": 48,
   "id": "49d3ae0a",
   "metadata": {},
   "outputs": [],
   "source": [
    "# When we create an object of the child class and the child class does not have its own __init__(),\n",
    "# the __init__() of the parent is called.\n",
    "\n",
    "# It is the responsibility of the child class to initialize the properties/variables of the parent class"
   ]
  },
  {
   "cell_type": "code",
   "execution_count": 49,
   "id": "65f9ebb3",
   "metadata": {},
   "outputs": [],
   "source": [
    "# So, when we create the object of the Car class, we need to pass the values to initilize the parent class"
   ]
  },
  {
   "cell_type": "code",
   "execution_count": 50,
   "id": "cc47d1ce",
   "metadata": {},
   "outputs": [
    {
     "name": "stdout",
     "output_type": "stream",
     "text": [
      "Help on class Vehicle in module __main__:\n",
      "\n",
      "class Vehicle(builtins.object)\n",
      " |  Vehicle(engine_type, nwheels, mileage)\n",
      " |  \n",
      " |  Methods defined here:\n",
      " |  \n",
      " |  __init__(self, engine_type, nwheels, mileage)\n",
      " |      Initialize self.  See help(type(self)) for accurate signature.\n",
      " |  \n",
      " |  get_details(self)\n",
      " |  \n",
      " |  ----------------------------------------------------------------------\n",
      " |  Data descriptors defined here:\n",
      " |  \n",
      " |  __dict__\n",
      " |      dictionary for instance variables (if defined)\n",
      " |  \n",
      " |  __weakref__\n",
      " |      list of weak references to the object (if defined)\n",
      " |  \n",
      " |  ----------------------------------------------------------------------\n",
      " |  Data and other attributes defined here:\n",
      " |  \n",
      " |  company = 'ABC Motors'\n",
      "\n"
     ]
    }
   ],
   "source": [
    "help(Vehicle)"
   ]
  },
  {
   "cell_type": "code",
   "execution_count": 51,
   "id": "5f64252c",
   "metadata": {},
   "outputs": [],
   "source": [
    "c1 = Car('Petrol', 4, 15)"
   ]
  },
  {
   "cell_type": "code",
   "execution_count": 52,
   "id": "5df9c045",
   "metadata": {},
   "outputs": [
    {
     "data": {
      "text/plain": [
       "{'engine_type': 'Petrol', 'nwheels': 4, 'mileage': 15}"
      ]
     },
     "execution_count": 52,
     "metadata": {},
     "output_type": "execute_result"
    }
   ],
   "source": [
    "c1.__dict__"
   ]
  },
  {
   "cell_type": "code",
   "execution_count": 53,
   "id": "1286f897",
   "metadata": {},
   "outputs": [
    {
     "name": "stdout",
     "output_type": "stream",
     "text": [
      "Help on class Car in module __main__:\n",
      "\n",
      "class Car(Vehicle)\n",
      " |  Car(engine_type, nwheels, mileage)\n",
      " |  \n",
      " |  Method resolution order:\n",
      " |      Car\n",
      " |      Vehicle\n",
      " |      builtins.object\n",
      " |  \n",
      " |  Methods inherited from Vehicle:\n",
      " |  \n",
      " |  __init__(self, engine_type, nwheels, mileage)\n",
      " |      Initialize self.  See help(type(self)) for accurate signature.\n",
      " |  \n",
      " |  get_details(self)\n",
      " |  \n",
      " |  ----------------------------------------------------------------------\n",
      " |  Data descriptors inherited from Vehicle:\n",
      " |  \n",
      " |  __dict__\n",
      " |      dictionary for instance variables (if defined)\n",
      " |  \n",
      " |  __weakref__\n",
      " |      list of weak references to the object (if defined)\n",
      " |  \n",
      " |  ----------------------------------------------------------------------\n",
      " |  Data and other attributes inherited from Vehicle:\n",
      " |  \n",
      " |  company = 'ABC Motors'\n",
      "\n"
     ]
    }
   ],
   "source": [
    "help(Car)"
   ]
  },
  {
   "cell_type": "code",
   "execution_count": 54,
   "id": "cbc6f274",
   "metadata": {},
   "outputs": [
    {
     "data": {
      "text/plain": [
       "'ABC Motors'"
      ]
     },
     "execution_count": 54,
     "metadata": {},
     "output_type": "execute_result"
    }
   ],
   "source": [
    "c1.company"
   ]
  },
  {
   "cell_type": "code",
   "execution_count": 55,
   "id": "c5453547",
   "metadata": {},
   "outputs": [
    {
     "data": {
      "text/plain": [
       "15"
      ]
     },
     "execution_count": 55,
     "metadata": {},
     "output_type": "execute_result"
    }
   ],
   "source": [
    "c1.mileage"
   ]
  },
  {
   "cell_type": "code",
   "execution_count": 56,
   "id": "a2dad951",
   "metadata": {},
   "outputs": [
    {
     "data": {
      "text/plain": [
       "'Petrol'"
      ]
     },
     "execution_count": 56,
     "metadata": {},
     "output_type": "execute_result"
    }
   ],
   "source": [
    "c1.engine_type"
   ]
  },
  {
   "cell_type": "code",
   "execution_count": 57,
   "id": "ad8f7054",
   "metadata": {},
   "outputs": [
    {
     "data": {
      "text/plain": [
       "4"
      ]
     },
     "execution_count": 57,
     "metadata": {},
     "output_type": "execute_result"
    }
   ],
   "source": [
    "c1.nwheels"
   ]
  },
  {
   "cell_type": "code",
   "execution_count": 58,
   "id": "1a79c723",
   "metadata": {},
   "outputs": [
    {
     "data": {
      "text/plain": [
       "'This vehicle has a Petrol engine, 4 wheels and a mileage of 15'"
      ]
     },
     "execution_count": 58,
     "metadata": {},
     "output_type": "execute_result"
    }
   ],
   "source": [
    "c1.get_details()"
   ]
  },
  {
   "cell_type": "code",
   "execution_count": null,
   "id": "536719d2",
   "metadata": {},
   "outputs": [],
   "source": []
  },
  {
   "cell_type": "code",
   "execution_count": 60,
   "id": "d7c8e7b7",
   "metadata": {},
   "outputs": [],
   "source": [
    "class Vehicle:\n",
    "    company = 'ABC Motors'\n",
    "    \n",
    "    def __init__(self, engine_type, nwheels, mileage):\n",
    "        print(\"Init of Vehicle\")\n",
    "        self.engine_type = engine_type\n",
    "        self.nwheels = nwheels\n",
    "        self.mileage= mileage\n",
    "        \n",
    "    def get_details(self):\n",
    "        return f\"This vehicle has a {self.engine_type} engine, {self.nwheels} wheels and a mileage of {self.mileage}\""
   ]
  },
  {
   "cell_type": "code",
   "execution_count": null,
   "id": "e7ceabbf",
   "metadata": {},
   "outputs": [],
   "source": []
  },
  {
   "cell_type": "code",
   "execution_count": 63,
   "id": "83716b2d",
   "metadata": {},
   "outputs": [],
   "source": [
    "class Car(Vehicle):\n",
    "    def __init__(self, n_airbags, transmission):\n",
    "        print(\"Init of Car\")\n",
    "        self.n_airbags = n_airbags\n",
    "        self.transmission = transmission"
   ]
  },
  {
   "cell_type": "code",
   "execution_count": 64,
   "id": "e496d87f",
   "metadata": {},
   "outputs": [
    {
     "name": "stdout",
     "output_type": "stream",
     "text": [
      "Init of Car\n"
     ]
    }
   ],
   "source": [
    "c1 = Car(6, 'Manual')"
   ]
  },
  {
   "cell_type": "code",
   "execution_count": 65,
   "id": "af963444",
   "metadata": {},
   "outputs": [],
   "source": [
    "# When we have the __init__() of the child class and we create the object of that class, its own __init__()\n",
    "# Gets called, not the __init__() of the parent class"
   ]
  },
  {
   "cell_type": "code",
   "execution_count": 66,
   "id": "af39317e",
   "metadata": {},
   "outputs": [
    {
     "name": "stdout",
     "output_type": "stream",
     "text": [
      "Help on class Car in module __main__:\n",
      "\n",
      "class Car(Vehicle)\n",
      " |  Car(n_airbags, transmission)\n",
      " |  \n",
      " |  Method resolution order:\n",
      " |      Car\n",
      " |      Vehicle\n",
      " |      builtins.object\n",
      " |  \n",
      " |  Methods defined here:\n",
      " |  \n",
      " |  __init__(self, n_airbags, transmission)\n",
      " |      Initialize self.  See help(type(self)) for accurate signature.\n",
      " |  \n",
      " |  ----------------------------------------------------------------------\n",
      " |  Methods inherited from Vehicle:\n",
      " |  \n",
      " |  get_details(self)\n",
      " |  \n",
      " |  ----------------------------------------------------------------------\n",
      " |  Data descriptors inherited from Vehicle:\n",
      " |  \n",
      " |  __dict__\n",
      " |      dictionary for instance variables (if defined)\n",
      " |  \n",
      " |  __weakref__\n",
      " |      list of weak references to the object (if defined)\n",
      " |  \n",
      " |  ----------------------------------------------------------------------\n",
      " |  Data and other attributes inherited from Vehicle:\n",
      " |  \n",
      " |  company = 'ABC Motors'\n",
      "\n"
     ]
    }
   ],
   "source": [
    "help(Car)"
   ]
  },
  {
   "cell_type": "code",
   "execution_count": 67,
   "id": "0d5095e7",
   "metadata": {},
   "outputs": [
    {
     "ename": "AttributeError",
     "evalue": "'Car' object has no attribute 'engine_type'",
     "output_type": "error",
     "traceback": [
      "\u001b[1;31m---------------------------------------------------------------------------\u001b[0m",
      "\u001b[1;31mAttributeError\u001b[0m                            Traceback (most recent call last)",
      "Cell \u001b[1;32mIn[67], line 1\u001b[0m\n\u001b[1;32m----> 1\u001b[0m c1\u001b[38;5;241m.\u001b[39mget_details()\n",
      "Cell \u001b[1;32mIn[60], line 11\u001b[0m, in \u001b[0;36mVehicle.get_details\u001b[1;34m(self)\u001b[0m\n\u001b[0;32m     10\u001b[0m \u001b[38;5;28;01mdef\u001b[39;00m \u001b[38;5;21mget_details\u001b[39m(\u001b[38;5;28mself\u001b[39m):\n\u001b[1;32m---> 11\u001b[0m     \u001b[38;5;28;01mreturn\u001b[39;00m \u001b[38;5;124mf\u001b[39m\u001b[38;5;124m\"\u001b[39m\u001b[38;5;124mThis vehicle has a \u001b[39m\u001b[38;5;132;01m{\u001b[39;00m\u001b[38;5;28mself\u001b[39m\u001b[38;5;241m.\u001b[39mengine_type\u001b[38;5;132;01m}\u001b[39;00m\u001b[38;5;124m engine, \u001b[39m\u001b[38;5;132;01m{\u001b[39;00m\u001b[38;5;28mself\u001b[39m\u001b[38;5;241m.\u001b[39mnwheels\u001b[38;5;132;01m}\u001b[39;00m\u001b[38;5;124m wheels and a mileage of \u001b[39m\u001b[38;5;132;01m{\u001b[39;00m\u001b[38;5;28mself\u001b[39m\u001b[38;5;241m.\u001b[39mmileage\u001b[38;5;132;01m}\u001b[39;00m\u001b[38;5;124m\"\u001b[39m\n",
      "\u001b[1;31mAttributeError\u001b[0m: 'Car' object has no attribute 'engine_type'"
     ]
    }
   ],
   "source": [
    "c1.get_details()"
   ]
  },
  {
   "cell_type": "code",
   "execution_count": 68,
   "id": "b6ccf0f7",
   "metadata": {},
   "outputs": [],
   "source": [
    "# The Car class still has to initialize the Parent class's __init__()"
   ]
  },
  {
   "cell_type": "code",
   "execution_count": 69,
   "id": "c149c46e",
   "metadata": {},
   "outputs": [
    {
     "name": "stdout",
     "output_type": "stream",
     "text": [
      "Help on class Vehicle in module __main__:\n",
      "\n",
      "class Vehicle(builtins.object)\n",
      " |  Vehicle(engine_type, nwheels, mileage)\n",
      " |  \n",
      " |  Methods defined here:\n",
      " |  \n",
      " |  __init__(self, engine_type, nwheels, mileage)\n",
      " |      Initialize self.  See help(type(self)) for accurate signature.\n",
      " |  \n",
      " |  get_details(self)\n",
      " |  \n",
      " |  ----------------------------------------------------------------------\n",
      " |  Data descriptors defined here:\n",
      " |  \n",
      " |  __dict__\n",
      " |      dictionary for instance variables (if defined)\n",
      " |  \n",
      " |  __weakref__\n",
      " |      list of weak references to the object (if defined)\n",
      " |  \n",
      " |  ----------------------------------------------------------------------\n",
      " |  Data and other attributes defined here:\n",
      " |  \n",
      " |  company = 'ABC Motors'\n",
      "\n"
     ]
    }
   ],
   "source": [
    "help(Vehicle)"
   ]
  },
  {
   "cell_type": "code",
   "execution_count": 70,
   "id": "9fe97a8e",
   "metadata": {},
   "outputs": [],
   "source": [
    "class Car(Vehicle):\n",
    "    def __init__(self, n_airbags, transmission):\n",
    "        print(\"Init of Car\")\n",
    "        self.n_airbags = n_airbags\n",
    "        self.transmission = transmission\n",
    "        \n",
    "        # Call the __init__() of Vehicle\n",
    "        Vehicle.__init__('Petrol', 4, 15)"
   ]
  },
  {
   "cell_type": "code",
   "execution_count": 71,
   "id": "ed23989a",
   "metadata": {},
   "outputs": [
    {
     "name": "stdout",
     "output_type": "stream",
     "text": [
      "Init of Car\n"
     ]
    },
    {
     "ename": "TypeError",
     "evalue": "Vehicle.__init__() missing 1 required positional argument: 'mileage'",
     "output_type": "error",
     "traceback": [
      "\u001b[1;31m---------------------------------------------------------------------------\u001b[0m",
      "\u001b[1;31mTypeError\u001b[0m                                 Traceback (most recent call last)",
      "Cell \u001b[1;32mIn[71], line 1\u001b[0m\n\u001b[1;32m----> 1\u001b[0m c1 \u001b[38;5;241m=\u001b[39m Car(\u001b[38;5;241m5\u001b[39m, \u001b[38;5;124m'\u001b[39m\u001b[38;5;124mManual\u001b[39m\u001b[38;5;124m'\u001b[39m)\n",
      "Cell \u001b[1;32mIn[70], line 8\u001b[0m, in \u001b[0;36mCar.__init__\u001b[1;34m(self, n_airbags, transmission)\u001b[0m\n\u001b[0;32m      5\u001b[0m \u001b[38;5;28mself\u001b[39m\u001b[38;5;241m.\u001b[39mtransmission \u001b[38;5;241m=\u001b[39m transmission\n\u001b[0;32m      7\u001b[0m \u001b[38;5;66;03m# Call the __init__() of Vehicle\u001b[39;00m\n\u001b[1;32m----> 8\u001b[0m Vehicle\u001b[38;5;241m.\u001b[39m\u001b[38;5;21m__init__\u001b[39m(\u001b[38;5;124m'\u001b[39m\u001b[38;5;124mPetrol\u001b[39m\u001b[38;5;124m'\u001b[39m, \u001b[38;5;241m4\u001b[39m, \u001b[38;5;241m15\u001b[39m)\n",
      "\u001b[1;31mTypeError\u001b[0m: Vehicle.__init__() missing 1 required positional argument: 'mileage'"
     ]
    }
   ],
   "source": [
    "c1 = Car(5, 'Manual')"
   ]
  },
  {
   "cell_type": "code",
   "execution_count": 72,
   "id": "8f81b3f6",
   "metadata": {},
   "outputs": [],
   "source": [
    "class Car(Vehicle):\n",
    "    def __init__(self, n_airbags, transmission):\n",
    "        print(\"Init of Car\")\n",
    "        self.n_airbags = n_airbags\n",
    "        self.transmission = transmission\n",
    "        \n",
    "        # Call the __init__() of Vehicle\n",
    "        Vehicle.__init__(self, 'Petrol', 4, 15)"
   ]
  },
  {
   "cell_type": "code",
   "execution_count": 73,
   "id": "206392ab",
   "metadata": {},
   "outputs": [
    {
     "name": "stdout",
     "output_type": "stream",
     "text": [
      "Init of Car\n",
      "Init of Vehicle\n"
     ]
    }
   ],
   "source": [
    "c1 = Car(5, 'Manual')"
   ]
  },
  {
   "cell_type": "code",
   "execution_count": 74,
   "id": "55e4f1f3",
   "metadata": {},
   "outputs": [
    {
     "data": {
      "text/plain": [
       "{'n_airbags': 5,\n",
       " 'transmission': 'Manual',\n",
       " 'engine_type': 'Petrol',\n",
       " 'nwheels': 4,\n",
       " 'mileage': 15}"
      ]
     },
     "execution_count": 74,
     "metadata": {},
     "output_type": "execute_result"
    }
   ],
   "source": [
    "c1.__dict__"
   ]
  },
  {
   "cell_type": "code",
   "execution_count": 75,
   "id": "2ae58531",
   "metadata": {},
   "outputs": [],
   "source": [
    "class Car(Vehicle):\n",
    "    def __init__(self, n_airbags, transmission, engine_type, wheels, mileage):\n",
    "        print(\"Init of Car\")\n",
    "        self.n_airbags = n_airbags\n",
    "        self.transmission = transmission\n",
    "        \n",
    "        # Call the __init__() of Vehicle\n",
    "        Vehicle.__init__(self, engine_type, wheels, mileage)"
   ]
  },
  {
   "cell_type": "code",
   "execution_count": 76,
   "id": "a923b30d",
   "metadata": {},
   "outputs": [
    {
     "name": "stdout",
     "output_type": "stream",
     "text": [
      "Init of Car\n",
      "Init of Vehicle\n"
     ]
    }
   ],
   "source": [
    "c1 = Car(5, 'Manual', 'P', 4, 20)"
   ]
  },
  {
   "cell_type": "code",
   "execution_count": 77,
   "id": "ab9c05e9",
   "metadata": {},
   "outputs": [
    {
     "data": {
      "text/plain": [
       "'This vehicle has a P engine, 4 wheels and a mileage of 20'"
      ]
     },
     "execution_count": 77,
     "metadata": {},
     "output_type": "execute_result"
    }
   ],
   "source": [
    "c1.get_details()"
   ]
  },
  {
   "cell_type": "code",
   "execution_count": 78,
   "id": "74fc800f",
   "metadata": {},
   "outputs": [
    {
     "name": "stdout",
     "output_type": "stream",
     "text": [
      "Init of Car\n",
      "Init of Vehicle\n"
     ]
    }
   ],
   "source": [
    "c2 = Car(6, 'Auto', 'D', 4, 25)"
   ]
  },
  {
   "cell_type": "code",
   "execution_count": 79,
   "id": "4c64cc10",
   "metadata": {},
   "outputs": [
    {
     "data": {
      "text/plain": [
       "'This vehicle has a D engine, 4 wheels and a mileage of 25'"
      ]
     },
     "execution_count": 79,
     "metadata": {},
     "output_type": "execute_result"
    }
   ],
   "source": [
    "c2.get_details()"
   ]
  },
  {
   "cell_type": "code",
   "execution_count": 80,
   "id": "85b262ab",
   "metadata": {},
   "outputs": [
    {
     "data": {
      "text/plain": [
       "{'n_airbags': 5,\n",
       " 'transmission': 'Manual',\n",
       " 'engine_type': 'P',\n",
       " 'nwheels': 4,\n",
       " 'mileage': 20}"
      ]
     },
     "execution_count": 80,
     "metadata": {},
     "output_type": "execute_result"
    }
   ],
   "source": [
    "c1.__dict__"
   ]
  },
  {
   "cell_type": "code",
   "execution_count": 81,
   "id": "659e0162",
   "metadata": {},
   "outputs": [
    {
     "data": {
      "text/plain": [
       "{'n_airbags': 6,\n",
       " 'transmission': 'Auto',\n",
       " 'engine_type': 'D',\n",
       " 'nwheels': 4,\n",
       " 'mileage': 25}"
      ]
     },
     "execution_count": 81,
     "metadata": {},
     "output_type": "execute_result"
    }
   ],
   "source": [
    "c2.__dict__"
   ]
  },
  {
   "cell_type": "code",
   "execution_count": 83,
   "id": "37541bb2",
   "metadata": {},
   "outputs": [
    {
     "name": "stdout",
     "output_type": "stream",
     "text": [
      "Help on class Car in module __main__:\n",
      "\n",
      "class Car(Vehicle)\n",
      " |  Car(n_airbags, transmission, engine_type, wheels, mileage)\n",
      " |  \n",
      " |  Method resolution order:\n",
      " |      Car\n",
      " |      Vehicle\n",
      " |      builtins.object\n",
      " |  \n",
      " |  Methods defined here:\n",
      " |  \n",
      " |  __init__(self, n_airbags, transmission, engine_type, wheels, mileage)\n",
      " |      Initialize self.  See help(type(self)) for accurate signature.\n",
      " |  \n",
      " |  ----------------------------------------------------------------------\n",
      " |  Methods inherited from Vehicle:\n",
      " |  \n",
      " |  get_details(self)\n",
      " |  \n",
      " |  ----------------------------------------------------------------------\n",
      " |  Data descriptors inherited from Vehicle:\n",
      " |  \n",
      " |  __dict__\n",
      " |      dictionary for instance variables (if defined)\n",
      " |  \n",
      " |  __weakref__\n",
      " |      list of weak references to the object (if defined)\n",
      " |  \n",
      " |  ----------------------------------------------------------------------\n",
      " |  Data and other attributes inherited from Vehicle:\n",
      " |  \n",
      " |  company = 'ABC Motors'\n",
      "\n"
     ]
    }
   ],
   "source": [
    "help(Car)"
   ]
  },
  {
   "cell_type": "code",
   "execution_count": 84,
   "id": "b7874700",
   "metadata": {},
   "outputs": [],
   "source": [
    "class Car(Vehicle):\n",
    "    def __init__(self, n_airbags, transmission, engine_type, wheels, mileage):\n",
    "        print(\"Init of Car\")\n",
    "        self.n_airbags = n_airbags\n",
    "        self.transmission = transmission\n",
    "        \n",
    "        # Call the __init__() of Vehicle\n",
    "        Vehicle.__init__(self, engine_type, wheels, mileage)\n",
    "        \n",
    "    def car_details(self):\n",
    "        print(self.get_details())\n",
    "        print(f\"It is a {self.transmission} car having {self.n_airbags} air bags.\")"
   ]
  },
  {
   "cell_type": "code",
   "execution_count": 85,
   "id": "1f651cba",
   "metadata": {},
   "outputs": [
    {
     "name": "stdout",
     "output_type": "stream",
     "text": [
      "Init of Car\n",
      "Init of Vehicle\n"
     ]
    }
   ],
   "source": [
    "c1 = Car(5, 'Manual', 'P', 4, 20)"
   ]
  },
  {
   "cell_type": "code",
   "execution_count": 86,
   "id": "2f67022f",
   "metadata": {},
   "outputs": [
    {
     "name": "stdout",
     "output_type": "stream",
     "text": [
      "This vehicle has a P engine, 4 wheels and a mileage of 20\n",
      "It is a Manual car having 5 air bags.\n"
     ]
    }
   ],
   "source": [
    "c1.car_details()"
   ]
  },
  {
   "cell_type": "code",
   "execution_count": 87,
   "id": "184513ba",
   "metadata": {},
   "outputs": [
    {
     "name": "stdout",
     "output_type": "stream",
     "text": [
      "Init of Car\n",
      "Init of Vehicle\n"
     ]
    }
   ],
   "source": [
    "c2 = Car(6, 'Auto', 'D', 4, 25)"
   ]
  },
  {
   "cell_type": "code",
   "execution_count": 88,
   "id": "94fdbde1",
   "metadata": {},
   "outputs": [
    {
     "name": "stdout",
     "output_type": "stream",
     "text": [
      "This vehicle has a D engine, 4 wheels and a mileage of 25\n",
      "It is a Auto car having 6 air bags.\n"
     ]
    }
   ],
   "source": [
    "c2.car_details()"
   ]
  },
  {
   "cell_type": "code",
   "execution_count": null,
   "id": "d4e77b4c",
   "metadata": {},
   "outputs": [],
   "source": []
  }
 ],
 "metadata": {
  "kernelspec": {
   "display_name": "Python 3 (ipykernel)",
   "language": "python",
   "name": "python3"
  },
  "language_info": {
   "codemirror_mode": {
    "name": "ipython",
    "version": 3
   },
   "file_extension": ".py",
   "mimetype": "text/x-python",
   "name": "python",
   "nbconvert_exporter": "python",
   "pygments_lexer": "ipython3",
   "version": "3.11.4"
  }
 },
 "nbformat": 4,
 "nbformat_minor": 5
}
