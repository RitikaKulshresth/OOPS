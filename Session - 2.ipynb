{
 "cells": [
  {
   "cell_type": "code",
   "execution_count": 1,
   "id": "767b5450",
   "metadata": {},
   "outputs": [],
   "source": [
    "class Student:\n",
    "    \"\"\"\n",
    "    This is a class Student.\n",
    "    It is used to create student objects and manage students details\n",
    "    \"\"\"\n",
    "    pass"
   ]
  },
  {
   "cell_type": "code",
   "execution_count": 2,
   "id": "a66d9151",
   "metadata": {},
   "outputs": [
    {
     "data": {
      "text/plain": [
       "mappingproxy({'__module__': '__main__',\n",
       "              '__doc__': '\\n    This is a class Student.\\n    It is used to create student objects and manage students details\\n    ',\n",
       "              '__dict__': <attribute '__dict__' of 'Student' objects>,\n",
       "              '__weakref__': <attribute '__weakref__' of 'Student' objects>})"
      ]
     },
     "execution_count": 2,
     "metadata": {},
     "output_type": "execute_result"
    }
   ],
   "source": [
    "Student.__dict__"
   ]
  },
  {
   "cell_type": "code",
   "execution_count": 3,
   "id": "de328125",
   "metadata": {},
   "outputs": [
    {
     "data": {
      "text/plain": [
       "'\\n    This is a class Student.\\n    It is used to create student objects and manage students details\\n    '"
      ]
     },
     "execution_count": 3,
     "metadata": {},
     "output_type": "execute_result"
    }
   ],
   "source": [
    "Student.__doc__"
   ]
  },
  {
   "cell_type": "code",
   "execution_count": null,
   "id": "738bde21",
   "metadata": {},
   "outputs": [],
   "source": []
  },
  {
   "cell_type": "code",
   "execution_count": 4,
   "id": "21d19bd9",
   "metadata": {},
   "outputs": [],
   "source": [
    "# Atrributes/Variables of an object"
   ]
  },
  {
   "cell_type": "code",
   "execution_count": 5,
   "id": "89bace23",
   "metadata": {},
   "outputs": [],
   "source": [
    "s1 = Student()\n",
    "s2 = Student()"
   ]
  },
  {
   "cell_type": "code",
   "execution_count": 6,
   "id": "80ecf5af",
   "metadata": {},
   "outputs": [],
   "source": [
    "s1.name = \"Jill\""
   ]
  },
  {
   "cell_type": "code",
   "execution_count": 7,
   "id": "3a49ffdf",
   "metadata": {},
   "outputs": [],
   "source": [
    "s2.name = \"John\""
   ]
  },
  {
   "cell_type": "code",
   "execution_count": 8,
   "id": "dc2df4fd",
   "metadata": {},
   "outputs": [],
   "source": [
    "s1.roll = 1001"
   ]
  },
  {
   "cell_type": "code",
   "execution_count": 9,
   "id": "f5a7bc3b",
   "metadata": {},
   "outputs": [],
   "source": [
    "s2.roll = 1002"
   ]
  },
  {
   "cell_type": "code",
   "execution_count": 10,
   "id": "0440e8b0",
   "metadata": {},
   "outputs": [
    {
     "name": "stdout",
     "output_type": "stream",
     "text": [
      "Jill\n"
     ]
    }
   ],
   "source": [
    "print(s1.name)"
   ]
  },
  {
   "cell_type": "code",
   "execution_count": 11,
   "id": "f62281bd",
   "metadata": {},
   "outputs": [
    {
     "name": "stdout",
     "output_type": "stream",
     "text": [
      "John\n"
     ]
    }
   ],
   "source": [
    "print(s2.name)"
   ]
  },
  {
   "cell_type": "code",
   "execution_count": 12,
   "id": "222d080c",
   "metadata": {},
   "outputs": [
    {
     "name": "stdout",
     "output_type": "stream",
     "text": [
      "1001\n"
     ]
    }
   ],
   "source": [
    "print(s1.roll)"
   ]
  },
  {
   "cell_type": "code",
   "execution_count": 13,
   "id": "cc643171",
   "metadata": {},
   "outputs": [
    {
     "name": "stdout",
     "output_type": "stream",
     "text": [
      "1002\n"
     ]
    }
   ],
   "source": [
    "print(s2.roll)"
   ]
  },
  {
   "cell_type": "code",
   "execution_count": 14,
   "id": "d65ee620",
   "metadata": {},
   "outputs": [],
   "source": [
    "s1.subjects = ['English', 'Maths,', 'Science']"
   ]
  },
  {
   "cell_type": "code",
   "execution_count": 16,
   "id": "0fdabd59",
   "metadata": {},
   "outputs": [
    {
     "name": "stdout",
     "output_type": "stream",
     "text": [
      "['English', 'Maths,', 'Science']\n"
     ]
    }
   ],
   "source": [
    "print(s1.subjects)"
   ]
  },
  {
   "cell_type": "code",
   "execution_count": 17,
   "id": "938e343e",
   "metadata": {},
   "outputs": [
    {
     "data": {
      "text/plain": [
       "{'name': 'Jill', 'roll': 1001, 'subjects': ['English', 'Maths,', 'Science']}"
      ]
     },
     "execution_count": 17,
     "metadata": {},
     "output_type": "execute_result"
    }
   ],
   "source": [
    "s1.__dict__"
   ]
  },
  {
   "cell_type": "code",
   "execution_count": 18,
   "id": "e8a9219c",
   "metadata": {},
   "outputs": [
    {
     "data": {
      "text/plain": [
       "{'name': 'John', 'roll': 1002}"
      ]
     },
     "execution_count": 18,
     "metadata": {},
     "output_type": "execute_result"
    }
   ],
   "source": [
    "s2.__dict__"
   ]
  },
  {
   "cell_type": "code",
   "execution_count": null,
   "id": "72cd2cd7",
   "metadata": {},
   "outputs": [],
   "source": []
  },
  {
   "cell_type": "code",
   "execution_count": 19,
   "id": "b80883d4",
   "metadata": {},
   "outputs": [
    {
     "data": {
      "text/plain": [
       "mappingproxy({'__module__': '__main__',\n",
       "              '__doc__': '\\n    This is a class Student.\\n    It is used to create student objects and manage students details\\n    ',\n",
       "              '__dict__': <attribute '__dict__' of 'Student' objects>,\n",
       "              '__weakref__': <attribute '__weakref__' of 'Student' objects>})"
      ]
     },
     "execution_count": 19,
     "metadata": {},
     "output_type": "execute_result"
    }
   ],
   "source": [
    "Student.__dict__"
   ]
  },
  {
   "cell_type": "code",
   "execution_count": 20,
   "id": "d08de951",
   "metadata": {},
   "outputs": [],
   "source": [
    "Student.var = 1000"
   ]
  },
  {
   "cell_type": "code",
   "execution_count": 21,
   "id": "2cdbacae",
   "metadata": {},
   "outputs": [
    {
     "name": "stdout",
     "output_type": "stream",
     "text": [
      "1000\n"
     ]
    }
   ],
   "source": [
    "print(Student.var)"
   ]
  },
  {
   "cell_type": "code",
   "execution_count": 22,
   "id": "194a79f6",
   "metadata": {},
   "outputs": [
    {
     "data": {
      "text/plain": [
       "mappingproxy({'__module__': '__main__',\n",
       "              '__doc__': '\\n    This is a class Student.\\n    It is used to create student objects and manage students details\\n    ',\n",
       "              '__dict__': <attribute '__dict__' of 'Student' objects>,\n",
       "              '__weakref__': <attribute '__weakref__' of 'Student' objects>,\n",
       "              'var': 1000})"
      ]
     },
     "execution_count": 22,
     "metadata": {},
     "output_type": "execute_result"
    }
   ],
   "source": [
    "Student.__dict__"
   ]
  },
  {
   "cell_type": "code",
   "execution_count": 23,
   "id": "0a0a59c5",
   "metadata": {},
   "outputs": [],
   "source": [
    "s3 = Student()"
   ]
  },
  {
   "cell_type": "code",
   "execution_count": 24,
   "id": "cedff138",
   "metadata": {},
   "outputs": [
    {
     "data": {
      "text/plain": [
       "{}"
      ]
     },
     "execution_count": 24,
     "metadata": {},
     "output_type": "execute_result"
    }
   ],
   "source": [
    "s3.__dict__"
   ]
  },
  {
   "cell_type": "code",
   "execution_count": null,
   "id": "ccfd9a4e",
   "metadata": {},
   "outputs": [],
   "source": []
  },
  {
   "cell_type": "code",
   "execution_count": 25,
   "id": "ea3e5cdf",
   "metadata": {},
   "outputs": [],
   "source": [
    "# Instance methods\n",
    "# An instance method is a method (function) defined inside the class which is bound to the instance/object"
   ]
  },
  {
   "cell_type": "code",
   "execution_count": 26,
   "id": "6a57514d",
   "metadata": {},
   "outputs": [],
   "source": [
    "# Instance methods are called using the object"
   ]
  },
  {
   "cell_type": "code",
   "execution_count": 27,
   "id": "2606516a",
   "metadata": {},
   "outputs": [],
   "source": [
    "class Student:\n",
    "    \"\"\"\n",
    "    This is a class Student.\n",
    "    It is used to create student objects and manage students details\n",
    "    \"\"\"\n",
    "    def studying():\n",
    "        return \"The student studies 2 hours per day\""
   ]
  },
  {
   "cell_type": "code",
   "execution_count": 28,
   "id": "92b6dc47",
   "metadata": {},
   "outputs": [
    {
     "ename": "NameError",
     "evalue": "name 'studying' is not defined",
     "output_type": "error",
     "traceback": [
      "\u001b[1;31m---------------------------------------------------------------------------\u001b[0m",
      "\u001b[1;31mNameError\u001b[0m                                 Traceback (most recent call last)",
      "Cell \u001b[1;32mIn[28], line 1\u001b[0m\n\u001b[1;32m----> 1\u001b[0m studying()\n",
      "\u001b[1;31mNameError\u001b[0m: name 'studying' is not defined"
     ]
    }
   ],
   "source": [
    "studying()"
   ]
  },
  {
   "cell_type": "code",
   "execution_count": 29,
   "id": "5ad1180b",
   "metadata": {},
   "outputs": [],
   "source": [
    "# Calling an instance method:\n",
    "# object.method_name(arg1, arg2, ...)"
   ]
  },
  {
   "cell_type": "code",
   "execution_count": 30,
   "id": "ad41b745",
   "metadata": {},
   "outputs": [],
   "source": [
    "s1 = Student()"
   ]
  },
  {
   "cell_type": "code",
   "execution_count": 31,
   "id": "6d6e8c6b",
   "metadata": {},
   "outputs": [
    {
     "ename": "TypeError",
     "evalue": "Student.studying() takes 0 positional arguments but 1 was given",
     "output_type": "error",
     "traceback": [
      "\u001b[1;31m---------------------------------------------------------------------------\u001b[0m",
      "\u001b[1;31mTypeError\u001b[0m                                 Traceback (most recent call last)",
      "Cell \u001b[1;32mIn[31], line 1\u001b[0m\n\u001b[1;32m----> 1\u001b[0m s1\u001b[38;5;241m.\u001b[39mstudying()\n",
      "\u001b[1;31mTypeError\u001b[0m: Student.studying() takes 0 positional arguments but 1 was given"
     ]
    }
   ],
   "source": [
    "s1.studying()"
   ]
  },
  {
   "cell_type": "code",
   "execution_count": 32,
   "id": "2af5e521",
   "metadata": {},
   "outputs": [],
   "source": [
    "def greet():\n",
    "    return \"Hello\""
   ]
  },
  {
   "cell_type": "code",
   "execution_count": 33,
   "id": "9c795480",
   "metadata": {},
   "outputs": [
    {
     "data": {
      "text/plain": [
       "'Hello'"
      ]
     },
     "execution_count": 33,
     "metadata": {},
     "output_type": "execute_result"
    }
   ],
   "source": [
    "greet()"
   ]
  },
  {
   "cell_type": "code",
   "execution_count": 34,
   "id": "c9a87d33",
   "metadata": {},
   "outputs": [],
   "source": [
    "# When we call an instance method using the object, that object gets passed as the first argument of that method!!!\n",
    "\n",
    "# So, we need an argument to capture it in the method defination!!!!"
   ]
  },
  {
   "cell_type": "code",
   "execution_count": 35,
   "id": "21180340",
   "metadata": {},
   "outputs": [],
   "source": [
    "# s1.studying() => Student.studying(s1)"
   ]
  },
  {
   "cell_type": "code",
   "execution_count": 36,
   "id": "5dede365",
   "metadata": {},
   "outputs": [],
   "source": [
    "# The fisrt argument of an instance method is the object itself!!!"
   ]
  },
  {
   "cell_type": "code",
   "execution_count": 37,
   "id": "696f9c5f",
   "metadata": {},
   "outputs": [],
   "source": [
    "class Student:\n",
    "    \"\"\"\n",
    "    This is a class Student.\n",
    "    It is used to create student objects and manage students details\n",
    "    \"\"\"\n",
    "    def studying(arg):\n",
    "        return \"The student studies 2 hours per day\""
   ]
  },
  {
   "cell_type": "code",
   "execution_count": 38,
   "id": "b21cfdaa",
   "metadata": {},
   "outputs": [],
   "source": [
    "s1 = Student()"
   ]
  },
  {
   "cell_type": "code",
   "execution_count": 39,
   "id": "132c0e27",
   "metadata": {},
   "outputs": [
    {
     "data": {
      "text/plain": [
       "'The student studies 2 hours per day'"
      ]
     },
     "execution_count": 39,
     "metadata": {},
     "output_type": "execute_result"
    }
   ],
   "source": [
    "s1.studying()"
   ]
  },
  {
   "cell_type": "code",
   "execution_count": 40,
   "id": "0f70d646",
   "metadata": {},
   "outputs": [],
   "source": [
    "# Since, object gets passed as first argument of an instance method, instance methods are said to be BOUND to the\n",
    "# object or instance"
   ]
  },
  {
   "cell_type": "code",
   "execution_count": 41,
   "id": "265f71c7",
   "metadata": {},
   "outputs": [],
   "source": [
    "# There should be a first argument that takes the object in the definition of an instance method (always)"
   ]
  },
  {
   "cell_type": "code",
   "execution_count": 42,
   "id": "6f666b07",
   "metadata": {},
   "outputs": [
    {
     "data": {
      "text/plain": [
       "'The student studies 2 hours per day'"
      ]
     },
     "execution_count": 42,
     "metadata": {},
     "output_type": "execute_result"
    }
   ],
   "source": [
    "Student.studying(s1)"
   ]
  },
  {
   "cell_type": "code",
   "execution_count": 43,
   "id": "5669258b",
   "metadata": {},
   "outputs": [
    {
     "ename": "TypeError",
     "evalue": "Student.studying() missing 1 required positional argument: 'arg'",
     "output_type": "error",
     "traceback": [
      "\u001b[1;31m---------------------------------------------------------------------------\u001b[0m",
      "\u001b[1;31mTypeError\u001b[0m                                 Traceback (most recent call last)",
      "Cell \u001b[1;32mIn[43], line 1\u001b[0m\n\u001b[1;32m----> 1\u001b[0m Student\u001b[38;5;241m.\u001b[39mstudying()\n",
      "\u001b[1;31mTypeError\u001b[0m: Student.studying() missing 1 required positional argument: 'arg'"
     ]
    }
   ],
   "source": [
    "Student.studying()"
   ]
  },
  {
   "cell_type": "code",
   "execution_count": 44,
   "id": "68ca2876",
   "metadata": {},
   "outputs": [
    {
     "data": {
      "text/plain": [
       "'The student studies 2 hours per day'"
      ]
     },
     "execution_count": 44,
     "metadata": {},
     "output_type": "execute_result"
    }
   ],
   "source": [
    "s1.studying()"
   ]
  },
  {
   "cell_type": "code",
   "execution_count": null,
   "id": "7b0e40f6",
   "metadata": {},
   "outputs": [],
   "source": []
  },
  {
   "cell_type": "code",
   "execution_count": 46,
   "id": "349a1b8a",
   "metadata": {},
   "outputs": [],
   "source": [
    "# The argument used to capture the object has a convention - 'self'"
   ]
  },
  {
   "cell_type": "code",
   "execution_count": 47,
   "id": "8f645471",
   "metadata": {},
   "outputs": [],
   "source": [
    "class Student:\n",
    "    \"\"\"\n",
    "    This is a class Student.\n",
    "    It is used to create student objects and manage students details\n",
    "    \"\"\"\n",
    "    def studying(self):\n",
    "        return \"The student studies 2 hours per day\""
   ]
  },
  {
   "cell_type": "code",
   "execution_count": 48,
   "id": "5beb64e2",
   "metadata": {},
   "outputs": [],
   "source": [
    "s1 = Student()"
   ]
  },
  {
   "cell_type": "code",
   "execution_count": 49,
   "id": "955c2485",
   "metadata": {},
   "outputs": [
    {
     "data": {
      "text/plain": [
       "'The student studies 2 hours per day'"
      ]
     },
     "execution_count": 49,
     "metadata": {},
     "output_type": "execute_result"
    }
   ],
   "source": [
    "s1.studying()"
   ]
  },
  {
   "cell_type": "code",
   "execution_count": 50,
   "id": "8cab29f4",
   "metadata": {},
   "outputs": [],
   "source": [
    "s2 = Student()"
   ]
  },
  {
   "cell_type": "code",
   "execution_count": 51,
   "id": "5cb04b23",
   "metadata": {},
   "outputs": [
    {
     "data": {
      "text/plain": [
       "'The student studies 2 hours per day'"
      ]
     },
     "execution_count": 51,
     "metadata": {},
     "output_type": "execute_result"
    }
   ],
   "source": [
    "s2.studying()"
   ]
  },
  {
   "cell_type": "code",
   "execution_count": null,
   "id": "a637ccda",
   "metadata": {},
   "outputs": [],
   "source": []
  },
  {
   "cell_type": "code",
   "execution_count": 52,
   "id": "14e71b1a",
   "metadata": {},
   "outputs": [],
   "source": [
    "class Student:\n",
    "    \"\"\"\n",
    "    This is a class Student.\n",
    "    It is used to create student objects and manage students details\n",
    "    \"\"\"\n",
    "    def studying(self):\n",
    "        print(self)\n",
    "        return \"The student studies 2 hours per day\""
   ]
  },
  {
   "cell_type": "code",
   "execution_count": 53,
   "id": "bf746d91",
   "metadata": {},
   "outputs": [],
   "source": [
    "s1 = Student()"
   ]
  },
  {
   "cell_type": "code",
   "execution_count": 54,
   "id": "be06a243",
   "metadata": {},
   "outputs": [
    {
     "name": "stdout",
     "output_type": "stream",
     "text": [
      "<__main__.Student object at 0x00000169ED5F0150>\n"
     ]
    }
   ],
   "source": [
    "print(s1)"
   ]
  },
  {
   "cell_type": "code",
   "execution_count": 55,
   "id": "cc532ad4",
   "metadata": {},
   "outputs": [
    {
     "name": "stdout",
     "output_type": "stream",
     "text": [
      "<__main__.Student object at 0x00000169ED5F0150>\n"
     ]
    },
    {
     "data": {
      "text/plain": [
       "'The student studies 2 hours per day'"
      ]
     },
     "execution_count": 55,
     "metadata": {},
     "output_type": "execute_result"
    }
   ],
   "source": [
    "s1.studying()"
   ]
  },
  {
   "cell_type": "code",
   "execution_count": 56,
   "id": "cd8824e2",
   "metadata": {},
   "outputs": [],
   "source": [
    "s2 = Student()"
   ]
  },
  {
   "cell_type": "code",
   "execution_count": 57,
   "id": "ff19a20e",
   "metadata": {},
   "outputs": [
    {
     "name": "stdout",
     "output_type": "stream",
     "text": [
      "<__main__.Student object at 0x00000169ED62A1D0>\n"
     ]
    }
   ],
   "source": [
    "print(s2)"
   ]
  },
  {
   "cell_type": "code",
   "execution_count": 58,
   "id": "b5dcce57",
   "metadata": {},
   "outputs": [
    {
     "name": "stdout",
     "output_type": "stream",
     "text": [
      "<__main__.Student object at 0x00000169ED62A1D0>\n"
     ]
    },
    {
     "data": {
      "text/plain": [
       "'The student studies 2 hours per day'"
      ]
     },
     "execution_count": 58,
     "metadata": {},
     "output_type": "execute_result"
    }
   ],
   "source": [
    "s2.studying()"
   ]
  },
  {
   "cell_type": "code",
   "execution_count": null,
   "id": "fff1d96a",
   "metadata": {},
   "outputs": [],
   "source": []
  },
  {
   "cell_type": "code",
   "execution_count": 59,
   "id": "bae767db",
   "metadata": {},
   "outputs": [
    {
     "name": "stdout",
     "output_type": "stream",
     "text": [
      "Help on class list in module builtins:\n",
      "\n",
      "class list(object)\n",
      " |  list(iterable=(), /)\n",
      " |  \n",
      " |  Built-in mutable sequence.\n",
      " |  \n",
      " |  If no argument is given, the constructor creates a new empty list.\n",
      " |  The argument must be an iterable if specified.\n",
      " |  \n",
      " |  Methods defined here:\n",
      " |  \n",
      " |  __add__(self, value, /)\n",
      " |      Return self+value.\n",
      " |  \n",
      " |  __contains__(self, key, /)\n",
      " |      Return key in self.\n",
      " |  \n",
      " |  __delitem__(self, key, /)\n",
      " |      Delete self[key].\n",
      " |  \n",
      " |  __eq__(self, value, /)\n",
      " |      Return self==value.\n",
      " |  \n",
      " |  __ge__(self, value, /)\n",
      " |      Return self>=value.\n",
      " |  \n",
      " |  __getattribute__(self, name, /)\n",
      " |      Return getattr(self, name).\n",
      " |  \n",
      " |  __getitem__(...)\n",
      " |      x.__getitem__(y) <==> x[y]\n",
      " |  \n",
      " |  __gt__(self, value, /)\n",
      " |      Return self>value.\n",
      " |  \n",
      " |  __iadd__(self, value, /)\n",
      " |      Implement self+=value.\n",
      " |  \n",
      " |  __imul__(self, value, /)\n",
      " |      Implement self*=value.\n",
      " |  \n",
      " |  __init__(self, /, *args, **kwargs)\n",
      " |      Initialize self.  See help(type(self)) for accurate signature.\n",
      " |  \n",
      " |  __iter__(self, /)\n",
      " |      Implement iter(self).\n",
      " |  \n",
      " |  __le__(self, value, /)\n",
      " |      Return self<=value.\n",
      " |  \n",
      " |  __len__(self, /)\n",
      " |      Return len(self).\n",
      " |  \n",
      " |  __lt__(self, value, /)\n",
      " |      Return self<value.\n",
      " |  \n",
      " |  __mul__(self, value, /)\n",
      " |      Return self*value.\n",
      " |  \n",
      " |  __ne__(self, value, /)\n",
      " |      Return self!=value.\n",
      " |  \n",
      " |  __repr__(self, /)\n",
      " |      Return repr(self).\n",
      " |  \n",
      " |  __reversed__(self, /)\n",
      " |      Return a reverse iterator over the list.\n",
      " |  \n",
      " |  __rmul__(self, value, /)\n",
      " |      Return value*self.\n",
      " |  \n",
      " |  __setitem__(self, key, value, /)\n",
      " |      Set self[key] to value.\n",
      " |  \n",
      " |  __sizeof__(self, /)\n",
      " |      Return the size of the list in memory, in bytes.\n",
      " |  \n",
      " |  append(self, object, /)\n",
      " |      Append object to the end of the list.\n",
      " |  \n",
      " |  clear(self, /)\n",
      " |      Remove all items from list.\n",
      " |  \n",
      " |  copy(self, /)\n",
      " |      Return a shallow copy of the list.\n",
      " |  \n",
      " |  count(self, value, /)\n",
      " |      Return number of occurrences of value.\n",
      " |  \n",
      " |  extend(self, iterable, /)\n",
      " |      Extend list by appending elements from the iterable.\n",
      " |  \n",
      " |  index(self, value, start=0, stop=9223372036854775807, /)\n",
      " |      Return first index of value.\n",
      " |      \n",
      " |      Raises ValueError if the value is not present.\n",
      " |  \n",
      " |  insert(self, index, object, /)\n",
      " |      Insert object before index.\n",
      " |  \n",
      " |  pop(self, index=-1, /)\n",
      " |      Remove and return item at index (default last).\n",
      " |      \n",
      " |      Raises IndexError if list is empty or index is out of range.\n",
      " |  \n",
      " |  remove(self, value, /)\n",
      " |      Remove first occurrence of value.\n",
      " |      \n",
      " |      Raises ValueError if the value is not present.\n",
      " |  \n",
      " |  reverse(self, /)\n",
      " |      Reverse *IN PLACE*.\n",
      " |  \n",
      " |  sort(self, /, *, key=None, reverse=False)\n",
      " |      Sort the list in ascending order and return None.\n",
      " |      \n",
      " |      The sort is in-place (i.e. the list itself is modified) and stable (i.e. the\n",
      " |      order of two equal elements is maintained).\n",
      " |      \n",
      " |      If a key function is given, apply it once to each list item and sort them,\n",
      " |      ascending or descending, according to their function values.\n",
      " |      \n",
      " |      The reverse flag can be set to sort in descending order.\n",
      " |  \n",
      " |  ----------------------------------------------------------------------\n",
      " |  Class methods defined here:\n",
      " |  \n",
      " |  __class_getitem__(...) from builtins.type\n",
      " |      See PEP 585\n",
      " |  \n",
      " |  ----------------------------------------------------------------------\n",
      " |  Static methods defined here:\n",
      " |  \n",
      " |  __new__(*args, **kwargs) from builtins.type\n",
      " |      Create and return a new object.  See help(type) for accurate signature.\n",
      " |  \n",
      " |  ----------------------------------------------------------------------\n",
      " |  Data and other attributes defined here:\n",
      " |  \n",
      " |  __hash__ = None\n",
      "\n"
     ]
    }
   ],
   "source": [
    "help(list)"
   ]
  },
  {
   "cell_type": "code",
   "execution_count": 60,
   "id": "0ad69081",
   "metadata": {},
   "outputs": [],
   "source": [
    "l1 = [1,2,3,1,1,1,1,4]"
   ]
  },
  {
   "cell_type": "code",
   "execution_count": 61,
   "id": "fa3497b6",
   "metadata": {},
   "outputs": [
    {
     "data": {
      "text/plain": [
       "5"
      ]
     },
     "execution_count": 61,
     "metadata": {},
     "output_type": "execute_result"
    }
   ],
   "source": [
    "l1.count(1) # list.count(l1, 1)"
   ]
  },
  {
   "cell_type": "code",
   "execution_count": 62,
   "id": "ca227fe3",
   "metadata": {},
   "outputs": [],
   "source": [
    "class Student:\n",
    "    \"\"\"\n",
    "    This is a class Student.\n",
    "    It is used to create student objects and manage students details\n",
    "    \"\"\"\n",
    "    def studying(self, hrs):\n",
    "        print(self)\n",
    "        return f\"The student studies {hrs} hours per day\""
   ]
  },
  {
   "cell_type": "code",
   "execution_count": 63,
   "id": "0e090597",
   "metadata": {},
   "outputs": [],
   "source": [
    "s1 = Student()\n",
    "s2 = Student()"
   ]
  },
  {
   "cell_type": "code",
   "execution_count": 64,
   "id": "51f63b8a",
   "metadata": {},
   "outputs": [
    {
     "name": "stdout",
     "output_type": "stream",
     "text": [
      "<__main__.Student object at 0x00000169ED5A4250>\n"
     ]
    },
    {
     "data": {
      "text/plain": [
       "'The student studies 3 hours per day'"
      ]
     },
     "execution_count": 64,
     "metadata": {},
     "output_type": "execute_result"
    }
   ],
   "source": [
    "s1.studying(3)"
   ]
  },
  {
   "cell_type": "code",
   "execution_count": 65,
   "id": "672aabb9",
   "metadata": {},
   "outputs": [
    {
     "name": "stdout",
     "output_type": "stream",
     "text": [
      "<__main__.Student object at 0x00000169ED4CF210>\n"
     ]
    },
    {
     "data": {
      "text/plain": [
       "'The student studies 4 hours per day'"
      ]
     },
     "execution_count": 65,
     "metadata": {},
     "output_type": "execute_result"
    }
   ],
   "source": [
    "s2.studying(4)"
   ]
  },
  {
   "cell_type": "code",
   "execution_count": null,
   "id": "3be7a9b6",
   "metadata": {},
   "outputs": [],
   "source": []
  },
  {
   "cell_type": "code",
   "execution_count": 66,
   "id": "def8cddc",
   "metadata": {},
   "outputs": [],
   "source": [
    "# Initializer => __init__() method\n",
    "\n",
    "# An instance method that is used to create and initialize the values of the variables/attributes during the\n",
    "# creation of the object"
   ]
  },
  {
   "cell_type": "code",
   "execution_count": 67,
   "id": "88327bf3",
   "metadata": {},
   "outputs": [],
   "source": [
    "class Student:\n",
    "    \"\"\"\n",
    "    This is a class Student.\n",
    "    It is used to create student objects and manage students details\n",
    "    \"\"\"\n",
    "    \n",
    "    def __init__(self):\n",
    "        print(f\"Calling the initializer for {self}\")\n",
    "        \n",
    "    def studying(self, hrs):\n",
    "        print(self)\n",
    "        return f\"The student studies {hrs} hours per day\""
   ]
  },
  {
   "cell_type": "code",
   "execution_count": 68,
   "id": "9d83c8e6",
   "metadata": {},
   "outputs": [
    {
     "name": "stdout",
     "output_type": "stream",
     "text": [
      "Calling the initializer for <__main__.Student object at 0x00000169ED5F3590>\n"
     ]
    }
   ],
   "source": [
    "s1 = Student()"
   ]
  },
  {
   "cell_type": "code",
   "execution_count": 71,
   "id": "f3584534",
   "metadata": {},
   "outputs": [],
   "source": [
    "# When we create an object of a class, the __init__()/Initializer gets called implicitly (if it exists)!!!"
   ]
  },
  {
   "cell_type": "code",
   "execution_count": 70,
   "id": "cefdfd6a",
   "metadata": {},
   "outputs": [
    {
     "name": "stdout",
     "output_type": "stream",
     "text": [
      "Calling the initializer for <__main__.Student object at 0x00000169ED528BD0>\n"
     ]
    }
   ],
   "source": [
    "s2 = Student()"
   ]
  },
  {
   "cell_type": "code",
   "execution_count": 72,
   "id": "144af8d0",
   "metadata": {},
   "outputs": [],
   "source": [
    "# How do we create instance variables??"
   ]
  },
  {
   "cell_type": "code",
   "execution_count": 73,
   "id": "04366a0f",
   "metadata": {},
   "outputs": [],
   "source": [
    "# object.variable = value"
   ]
  },
  {
   "cell_type": "code",
   "execution_count": 74,
   "id": "8cd773b9",
   "metadata": {},
   "outputs": [],
   "source": [
    "class Student:\n",
    "    \"\"\"\n",
    "    This is a class Student.\n",
    "    It is used to create student objects and manage students details\n",
    "    \"\"\"\n",
    "    \n",
    "    def __init__(self):\n",
    "        print(f\"Calling the initializer for {self}\")\n",
    "        self.name = \"John\"\n",
    "        self.roll = 1001\n",
    "        self.subject = 'Physics'\n",
    "        \n",
    "    def studying(self, hrs):\n",
    "        print(self)\n",
    "        return f\"The student studies {hrs} hours per day\""
   ]
  },
  {
   "cell_type": "code",
   "execution_count": 75,
   "id": "5c1dcf9d",
   "metadata": {},
   "outputs": [
    {
     "name": "stdout",
     "output_type": "stream",
     "text": [
      "Calling the initializer for <__main__.Student object at 0x00000169ED553C90>\n"
     ]
    }
   ],
   "source": [
    "s1 = Student()"
   ]
  },
  {
   "cell_type": "code",
   "execution_count": 76,
   "id": "5121b50e",
   "metadata": {},
   "outputs": [
    {
     "name": "stdout",
     "output_type": "stream",
     "text": [
      "Calling the initializer for <__main__.Student object at 0x00000169ED529610>\n"
     ]
    }
   ],
   "source": [
    "s2 = Student()"
   ]
  },
  {
   "cell_type": "code",
   "execution_count": 77,
   "id": "0b18358d",
   "metadata": {},
   "outputs": [
    {
     "data": {
      "text/plain": [
       "{'name': 'John', 'roll': 1001, 'subject': 'Physics'}"
      ]
     },
     "execution_count": 77,
     "metadata": {},
     "output_type": "execute_result"
    }
   ],
   "source": [
    "s1.__dict__"
   ]
  },
  {
   "cell_type": "code",
   "execution_count": 78,
   "id": "dad56fce",
   "metadata": {},
   "outputs": [
    {
     "data": {
      "text/plain": [
       "{'name': 'John', 'roll': 1001, 'subject': 'Physics'}"
      ]
     },
     "execution_count": 78,
     "metadata": {},
     "output_type": "execute_result"
    }
   ],
   "source": [
    "s2.__dict__"
   ]
  },
  {
   "cell_type": "code",
   "execution_count": 79,
   "id": "a79cf043",
   "metadata": {},
   "outputs": [
    {
     "data": {
      "text/plain": [
       "'John'"
      ]
     },
     "execution_count": 79,
     "metadata": {},
     "output_type": "execute_result"
    }
   ],
   "source": [
    "s1.name"
   ]
  },
  {
   "cell_type": "code",
   "execution_count": 80,
   "id": "75acfde4",
   "metadata": {},
   "outputs": [
    {
     "data": {
      "text/plain": [
       "'John'"
      ]
     },
     "execution_count": 80,
     "metadata": {},
     "output_type": "execute_result"
    }
   ],
   "source": [
    "s2.name"
   ]
  },
  {
   "cell_type": "code",
   "execution_count": 81,
   "id": "c5d1031d",
   "metadata": {},
   "outputs": [],
   "source": [
    "class Student:\n",
    "    \"\"\"\n",
    "    This is a class Student.\n",
    "    It is used to create student objects and manage students details\n",
    "    \"\"\"\n",
    "    \n",
    "    def __init__(self, name, roll_no, sub):\n",
    "        print(f\"Calling the initializer for {self}\")\n",
    "        self.name = name\n",
    "        self.roll = roll_no\n",
    "        self.subject = sub\n",
    "        \n",
    "    def studying(self, hrs):\n",
    "        print(self)\n",
    "        return f\"The student studies {hrs} hours per day\""
   ]
  },
  {
   "cell_type": "code",
   "execution_count": 82,
   "id": "4b5eef6b",
   "metadata": {},
   "outputs": [
    {
     "ename": "TypeError",
     "evalue": "Student.__init__() missing 3 required positional arguments: 'name', 'roll_no', and 'sub'",
     "output_type": "error",
     "traceback": [
      "\u001b[1;31m---------------------------------------------------------------------------\u001b[0m",
      "\u001b[1;31mTypeError\u001b[0m                                 Traceback (most recent call last)",
      "Cell \u001b[1;32mIn[82], line 1\u001b[0m\n\u001b[1;32m----> 1\u001b[0m s1 \u001b[38;5;241m=\u001b[39m Student()\n",
      "\u001b[1;31mTypeError\u001b[0m: Student.__init__() missing 3 required positional arguments: 'name', 'roll_no', and 'sub'"
     ]
    }
   ],
   "source": [
    "s1 = Student()"
   ]
  },
  {
   "cell_type": "code",
   "execution_count": 83,
   "id": "e9b09c1a",
   "metadata": {},
   "outputs": [
    {
     "name": "stdout",
     "output_type": "stream",
     "text": [
      "Calling the initializer for <__main__.Student object at 0x00000169ED582F90>\n"
     ]
    }
   ],
   "source": [
    "s1 = Student('John', 1001, 'Maths')"
   ]
  },
  {
   "cell_type": "code",
   "execution_count": 84,
   "id": "9006424c",
   "metadata": {},
   "outputs": [
    {
     "name": "stdout",
     "output_type": "stream",
     "text": [
      "Calling the initializer for <__main__.Student object at 0x00000169ED496310>\n"
     ]
    }
   ],
   "source": [
    "s2 = Student('Jill', 1002, 'Physics')"
   ]
  },
  {
   "cell_type": "code",
   "execution_count": 85,
   "id": "85ebaa96",
   "metadata": {},
   "outputs": [
    {
     "name": "stdout",
     "output_type": "stream",
     "text": [
      "Calling the initializer for <__main__.Student object at 0x00000169ED48D2D0>\n"
     ]
    }
   ],
   "source": [
    "s3 = Student('Carol', 1003, 'Maths')"
   ]
  },
  {
   "cell_type": "code",
   "execution_count": 86,
   "id": "512a8702",
   "metadata": {},
   "outputs": [
    {
     "data": {
      "text/plain": [
       "{'name': 'John', 'roll': 1001, 'subject': 'Maths'}"
      ]
     },
     "execution_count": 86,
     "metadata": {},
     "output_type": "execute_result"
    }
   ],
   "source": [
    "s1.__dict__"
   ]
  },
  {
   "cell_type": "code",
   "execution_count": 87,
   "id": "0344e3e6",
   "metadata": {},
   "outputs": [
    {
     "data": {
      "text/plain": [
       "{'name': 'Jill', 'roll': 1002, 'subject': 'Physics'}"
      ]
     },
     "execution_count": 87,
     "metadata": {},
     "output_type": "execute_result"
    }
   ],
   "source": [
    "s2.__dict__"
   ]
  },
  {
   "cell_type": "code",
   "execution_count": 88,
   "id": "84f2c720",
   "metadata": {},
   "outputs": [
    {
     "data": {
      "text/plain": [
       "{'name': 'Carol', 'roll': 1003, 'subject': 'Maths'}"
      ]
     },
     "execution_count": 88,
     "metadata": {},
     "output_type": "execute_result"
    }
   ],
   "source": [
    "s3.__dict__"
   ]
  },
  {
   "cell_type": "code",
   "execution_count": 89,
   "id": "ded843ec",
   "metadata": {},
   "outputs": [],
   "source": [
    "s1.hobby = \"Football\""
   ]
  },
  {
   "cell_type": "code",
   "execution_count": 90,
   "id": "110c21b9",
   "metadata": {},
   "outputs": [
    {
     "data": {
      "text/plain": [
       "{'name': 'John', 'roll': 1001, 'subject': 'Maths', 'hobby': 'Football'}"
      ]
     },
     "execution_count": 90,
     "metadata": {},
     "output_type": "execute_result"
    }
   ],
   "source": [
    "s1.__dict__"
   ]
  },
  {
   "cell_type": "code",
   "execution_count": 91,
   "id": "0111e8a4",
   "metadata": {},
   "outputs": [
    {
     "data": {
      "text/plain": [
       "{'name': 'Jill', 'roll': 1002, 'subject': 'Physics'}"
      ]
     },
     "execution_count": 91,
     "metadata": {},
     "output_type": "execute_result"
    }
   ],
   "source": [
    "s2.__dict__"
   ]
  },
  {
   "cell_type": "code",
   "execution_count": 92,
   "id": "7eeb9b56",
   "metadata": {},
   "outputs": [
    {
     "data": {
      "text/plain": [
       "{'name': 'Carol', 'roll': 1003, 'subject': 'Maths'}"
      ]
     },
     "execution_count": 92,
     "metadata": {},
     "output_type": "execute_result"
    }
   ],
   "source": [
    "s3.__dict__"
   ]
  },
  {
   "cell_type": "code",
   "execution_count": 93,
   "id": "6c5505ee",
   "metadata": {},
   "outputs": [
    {
     "name": "stdout",
     "output_type": "stream",
     "text": [
      "Help on class Student in module __main__:\n",
      "\n",
      "class Student(builtins.object)\n",
      " |  Student(name, roll_no, sub)\n",
      " |  \n",
      " |  This is a class Student.\n",
      " |  It is used to create student objects and manage students details\n",
      " |  \n",
      " |  Methods defined here:\n",
      " |  \n",
      " |  __init__(self, name, roll_no, sub)\n",
      " |      Initialize self.  See help(type(self)) for accurate signature.\n",
      " |  \n",
      " |  studying(self, hrs)\n",
      " |  \n",
      " |  ----------------------------------------------------------------------\n",
      " |  Data descriptors defined here:\n",
      " |  \n",
      " |  __dict__\n",
      " |      dictionary for instance variables (if defined)\n",
      " |  \n",
      " |  __weakref__\n",
      " |      list of weak references to the object (if defined)\n",
      "\n"
     ]
    }
   ],
   "source": [
    "help(Student)"
   ]
  },
  {
   "cell_type": "code",
   "execution_count": 94,
   "id": "3281b148",
   "metadata": {},
   "outputs": [
    {
     "data": {
      "text/plain": [
       "mappingproxy({'__module__': '__main__',\n",
       "              '__doc__': '\\n    This is a class Student.\\n    It is used to create student objects and manage students details\\n    ',\n",
       "              '__init__': <function __main__.Student.__init__(self, name, roll_no, sub)>,\n",
       "              'studying': <function __main__.Student.studying(self, hrs)>,\n",
       "              '__dict__': <attribute '__dict__' of 'Student' objects>,\n",
       "              '__weakref__': <attribute '__weakref__' of 'Student' objects>})"
      ]
     },
     "execution_count": 94,
     "metadata": {},
     "output_type": "execute_result"
    }
   ],
   "source": [
    "Student.__dict__"
   ]
  },
  {
   "cell_type": "code",
   "execution_count": 95,
   "id": "538b1db5",
   "metadata": {},
   "outputs": [
    {
     "data": {
      "text/plain": [
       "{'name': 'John', 'roll': 1001, 'subject': 'Maths', 'hobby': 'Football'}"
      ]
     },
     "execution_count": 95,
     "metadata": {},
     "output_type": "execute_result"
    }
   ],
   "source": [
    "s1.__dict__"
   ]
  },
  {
   "cell_type": "code",
   "execution_count": 96,
   "id": "298e001d",
   "metadata": {},
   "outputs": [],
   "source": [
    "# name, roll and subject are instance variables"
   ]
  },
  {
   "cell_type": "code",
   "execution_count": 97,
   "id": "4eb2b694",
   "metadata": {},
   "outputs": [],
   "source": [
    "# hobby is also an instance variable but only associated with s1"
   ]
  },
  {
   "cell_type": "code",
   "execution_count": 98,
   "id": "f6bbfeae",
   "metadata": {},
   "outputs": [
    {
     "name": "stdout",
     "output_type": "stream",
     "text": [
      "John\n",
      "1001\n",
      "Maths\n",
      "Jill\n",
      "1002\n",
      "Physics\n"
     ]
    }
   ],
   "source": [
    "print(s1.name)\n",
    "print(s1.roll)\n",
    "print(s1.subject)\n",
    "\n",
    "print(s2.name)\n",
    "print(s2.roll)\n",
    "print(s2.subject)"
   ]
  },
  {
   "cell_type": "code",
   "execution_count": 99,
   "id": "107b9bba",
   "metadata": {},
   "outputs": [],
   "source": [
    "# These are instance variables\n",
    "# Instance variables are specific to instances/objects"
   ]
  },
  {
   "cell_type": "code",
   "execution_count": 100,
   "id": "568096f9",
   "metadata": {},
   "outputs": [],
   "source": [
    "# they are different for different objects"
   ]
  },
  {
   "cell_type": "code",
   "execution_count": 101,
   "id": "180034c5",
   "metadata": {},
   "outputs": [],
   "source": [
    "# Instance variables are NOT shared among objects"
   ]
  },
  {
   "cell_type": "code",
   "execution_count": null,
   "id": "ed087d39",
   "metadata": {},
   "outputs": [],
   "source": []
  }
 ],
 "metadata": {
  "kernelspec": {
   "display_name": "Python 3 (ipykernel)",
   "language": "python",
   "name": "python3"
  },
  "language_info": {
   "codemirror_mode": {
    "name": "ipython",
    "version": 3
   },
   "file_extension": ".py",
   "mimetype": "text/x-python",
   "name": "python",
   "nbconvert_exporter": "python",
   "pygments_lexer": "ipython3",
   "version": "3.11.4"
  }
 },
 "nbformat": 4,
 "nbformat_minor": 5
}
