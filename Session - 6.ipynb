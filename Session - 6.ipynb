{
 "cells": [
  {
   "cell_type": "code",
   "execution_count": 1,
   "id": "1cd0464a",
   "metadata": {},
   "outputs": [],
   "source": [
    "class Rectangle:\n",
    "    def __init__(self, length, breadth):\n",
    "        self.length = length\n",
    "        self.breadth = breadth\n",
    "        \n",
    "    def area(self):\n",
    "        return self.length * self.breadth\n",
    "    \n",
    "    def __add__(self, other):\n",
    "        return self.length + other.length, self.breadth + other.breadth\n",
    "    \n",
    "    def __gt__(self, other):\n",
    "        return self.area() > other.area()\n",
    "    \n",
    "    def __eq__(self, other):\n",
    "        return (self.length == other.length) and (self.breadth == other.breadth)"
   ]
  },
  {
   "cell_type": "code",
   "execution_count": 2,
   "id": "abb1d9e1",
   "metadata": {},
   "outputs": [],
   "source": [
    "# __str__()"
   ]
  },
  {
   "cell_type": "code",
   "execution_count": 3,
   "id": "eee0325c",
   "metadata": {},
   "outputs": [],
   "source": [
    "r1 = Rectangle(10, 6)"
   ]
  },
  {
   "cell_type": "code",
   "execution_count": 4,
   "id": "5d2a1538",
   "metadata": {},
   "outputs": [
    {
     "name": "stdout",
     "output_type": "stream",
     "text": [
      "<__main__.Rectangle object at 0x000001CC74ACE450>\n"
     ]
    }
   ],
   "source": [
    "print(r1)"
   ]
  },
  {
   "cell_type": "code",
   "execution_count": 5,
   "id": "5b3f64c4",
   "metadata": {},
   "outputs": [],
   "source": [
    "class Rectangle:\n",
    "    def __init__(self, length, breadth):\n",
    "        self.length = length\n",
    "        self.breadth = breadth\n",
    "        \n",
    "    def area(self):\n",
    "        return self.length * self.breadth\n",
    "    \n",
    "    def __add__(self, other):\n",
    "        return self.length + other.length, self.breadth + other.breadth\n",
    "    \n",
    "    def __gt__(self, other):\n",
    "        return self.area() > other.area()\n",
    "    \n",
    "    def __eq__(self, other):\n",
    "        return (self.length == other.length) and (self.breadth == other.breadth)\n",
    "    \n",
    "    def __str__(self):\n",
    "        return self.length, self.breadth"
   ]
  },
  {
   "cell_type": "code",
   "execution_count": 6,
   "id": "a650316a",
   "metadata": {},
   "outputs": [],
   "source": [
    "r1 = Rectangle(10, 6)"
   ]
  },
  {
   "cell_type": "code",
   "execution_count": 7,
   "id": "7830ae50",
   "metadata": {},
   "outputs": [
    {
     "ename": "TypeError",
     "evalue": "__str__ returned non-string (type tuple)",
     "output_type": "error",
     "traceback": [
      "\u001b[1;31m---------------------------------------------------------------------------\u001b[0m",
      "\u001b[1;31mTypeError\u001b[0m                                 Traceback (most recent call last)",
      "Cell \u001b[1;32mIn[7], line 1\u001b[0m\n\u001b[1;32m----> 1\u001b[0m \u001b[38;5;28mprint\u001b[39m(r1)\n",
      "\u001b[1;31mTypeError\u001b[0m: __str__ returned non-string (type tuple)"
     ]
    }
   ],
   "source": [
    "print(r1)"
   ]
  },
  {
   "cell_type": "code",
   "execution_count": 8,
   "id": "32b6214b",
   "metadata": {},
   "outputs": [],
   "source": [
    "# __str__ only returns string"
   ]
  },
  {
   "cell_type": "code",
   "execution_count": 9,
   "id": "98be8350",
   "metadata": {},
   "outputs": [],
   "source": [
    "class Rectangle:\n",
    "    def __init__(self, length, breadth):\n",
    "        self.length = length\n",
    "        self.breadth = breadth\n",
    "        \n",
    "    def area(self):\n",
    "        return self.length * self.breadth\n",
    "    \n",
    "    def __add__(self, other):\n",
    "        return self.length + other.length, self.breadth + other.breadth\n",
    "    \n",
    "    def __gt__(self, other):\n",
    "        return self.area() > other.area()\n",
    "    \n",
    "    def __eq__(self, other):\n",
    "        return (self.length == other.length) and (self.breadth == other.breadth)\n",
    "    \n",
    "    def __str__(self):\n",
    "        return f\"{self.length}, {self.breadth}\""
   ]
  },
  {
   "cell_type": "code",
   "execution_count": 10,
   "id": "44110439",
   "metadata": {},
   "outputs": [],
   "source": [
    "r1 = Rectangle(10, 6)"
   ]
  },
  {
   "cell_type": "code",
   "execution_count": 11,
   "id": "60fc04ae",
   "metadata": {},
   "outputs": [
    {
     "name": "stdout",
     "output_type": "stream",
     "text": [
      "10, 6\n"
     ]
    }
   ],
   "source": [
    "print(r1)"
   ]
  },
  {
   "cell_type": "code",
   "execution_count": 12,
   "id": "4b18436f",
   "metadata": {},
   "outputs": [],
   "source": [
    "class Rectangle:\n",
    "    def __init__(self, length, breadth):\n",
    "        self.length = length\n",
    "        self.breadth = breadth\n",
    "        \n",
    "    def area(self):\n",
    "        return self.length * self.breadth\n",
    "    \n",
    "    def __add__(self, other):\n",
    "        return self.length + other.length, self.breadth + other.breadth\n",
    "    \n",
    "    def __gt__(self, other):\n",
    "        return self.area() > other.area()\n",
    "    \n",
    "    def __eq__(self, other):\n",
    "        return (self.length == other.length) and (self.breadth == other.breadth)\n",
    "    \n",
    "    def __str__(self):\n",
    "        return f\"Length={self.length}, Breadth={self.breadth}\""
   ]
  },
  {
   "cell_type": "code",
   "execution_count": 13,
   "id": "d9098a5c",
   "metadata": {},
   "outputs": [],
   "source": [
    "r1 = Rectangle(10, 6)"
   ]
  },
  {
   "cell_type": "code",
   "execution_count": 14,
   "id": "4f125833",
   "metadata": {},
   "outputs": [
    {
     "name": "stdout",
     "output_type": "stream",
     "text": [
      "Length=10, Breadth=6\n"
     ]
    }
   ],
   "source": [
    "print(r1)"
   ]
  },
  {
   "cell_type": "code",
   "execution_count": null,
   "id": "2d5d9404",
   "metadata": {},
   "outputs": [],
   "source": []
  },
  {
   "cell_type": "code",
   "execution_count": 15,
   "id": "747b3c2b",
   "metadata": {},
   "outputs": [],
   "source": [
    "# Method overloading"
   ]
  },
  {
   "cell_type": "code",
   "execution_count": 16,
   "id": "ec3b692a",
   "metadata": {},
   "outputs": [],
   "source": [
    "class A:\n",
    "    def add(self, a, b):\n",
    "        return a + b\n",
    "    \n",
    "    def add(self, a, b, c):\n",
    "        return a + b + c"
   ]
  },
  {
   "cell_type": "code",
   "execution_count": 17,
   "id": "7ab13392",
   "metadata": {},
   "outputs": [],
   "source": [
    "obj = A()"
   ]
  },
  {
   "cell_type": "code",
   "execution_count": 18,
   "id": "e0aea9fa",
   "metadata": {},
   "outputs": [
    {
     "data": {
      "text/plain": [
       "6"
      ]
     },
     "execution_count": 18,
     "metadata": {},
     "output_type": "execute_result"
    }
   ],
   "source": [
    "obj.add(1, 2, 3)"
   ]
  },
  {
   "cell_type": "code",
   "execution_count": 19,
   "id": "f03043f4",
   "metadata": {},
   "outputs": [
    {
     "ename": "TypeError",
     "evalue": "A.add() missing 1 required positional argument: 'c'",
     "output_type": "error",
     "traceback": [
      "\u001b[1;31m---------------------------------------------------------------------------\u001b[0m",
      "\u001b[1;31mTypeError\u001b[0m                                 Traceback (most recent call last)",
      "Cell \u001b[1;32mIn[19], line 1\u001b[0m\n\u001b[1;32m----> 1\u001b[0m obj\u001b[38;5;241m.\u001b[39madd(\u001b[38;5;241m10\u001b[39m, \u001b[38;5;241m20\u001b[39m)\n",
      "\u001b[1;31mTypeError\u001b[0m: A.add() missing 1 required positional argument: 'c'"
     ]
    }
   ],
   "source": [
    "obj.add(10, 20)"
   ]
  },
  {
   "cell_type": "code",
   "execution_count": 20,
   "id": "d0701e00",
   "metadata": {},
   "outputs": [],
   "source": [
    "# There is NO method overloading in Python"
   ]
  },
  {
   "cell_type": "code",
   "execution_count": 21,
   "id": "815ddc52",
   "metadata": {},
   "outputs": [],
   "source": [
    "# If there are 2 methods with the same name in Python, it ALWAYS calls the latest method defined"
   ]
  },
  {
   "cell_type": "code",
   "execution_count": null,
   "id": "6dd5e047",
   "metadata": {},
   "outputs": [],
   "source": []
  },
  {
   "cell_type": "code",
   "execution_count": 26,
   "id": "ab00cd33",
   "metadata": {},
   "outputs": [],
   "source": [
    "def f1(a):\n",
    "    return 'Hi'"
   ]
  },
  {
   "cell_type": "code",
   "execution_count": 27,
   "id": "bbdc0e24",
   "metadata": {},
   "outputs": [],
   "source": [
    "def f1(a, b):\n",
    "    return \"Hello\""
   ]
  },
  {
   "cell_type": "code",
   "execution_count": 28,
   "id": "dfcfaff7",
   "metadata": {},
   "outputs": [
    {
     "ename": "TypeError",
     "evalue": "f1() missing 1 required positional argument: 'b'",
     "output_type": "error",
     "traceback": [
      "\u001b[1;31m---------------------------------------------------------------------------\u001b[0m",
      "\u001b[1;31mTypeError\u001b[0m                                 Traceback (most recent call last)",
      "Cell \u001b[1;32mIn[28], line 1\u001b[0m\n\u001b[1;32m----> 1\u001b[0m f1(\u001b[38;5;241m1\u001b[39m)\n",
      "\u001b[1;31mTypeError\u001b[0m: f1() missing 1 required positional argument: 'b'"
     ]
    }
   ],
   "source": [
    "f1(1)"
   ]
  },
  {
   "cell_type": "code",
   "execution_count": 29,
   "id": "a7543167",
   "metadata": {},
   "outputs": [
    {
     "data": {
      "text/plain": [
       "'Hello'"
      ]
     },
     "execution_count": 29,
     "metadata": {},
     "output_type": "execute_result"
    }
   ],
   "source": [
    "f1(1, 2)"
   ]
  },
  {
   "cell_type": "code",
   "execution_count": null,
   "id": "5a494611",
   "metadata": {},
   "outputs": [],
   "source": []
  },
  {
   "cell_type": "code",
   "execution_count": null,
   "id": "b4d26f68",
   "metadata": {},
   "outputs": [],
   "source": []
  },
  {
   "cell_type": "code",
   "execution_count": null,
   "id": "735c5843",
   "metadata": {},
   "outputs": [],
   "source": []
  },
  {
   "cell_type": "code",
   "execution_count": 30,
   "id": "50da2951",
   "metadata": {},
   "outputs": [],
   "source": [
    "# Overriding"
   ]
  },
  {
   "cell_type": "code",
   "execution_count": 31,
   "id": "9aaa0ccb",
   "metadata": {},
   "outputs": [],
   "source": [
    "# Method overriding"
   ]
  },
  {
   "cell_type": "code",
   "execution_count": 32,
   "id": "5e10c33a",
   "metadata": {},
   "outputs": [],
   "source": [
    "# In case of ineritance, the child class inherits the method(s) of the parent class(es).\n",
    "# The method in the child class might not behave the same as it behaves in the parent class"
   ]
  },
  {
   "cell_type": "code",
   "execution_count": 33,
   "id": "13624082",
   "metadata": {},
   "outputs": [],
   "source": [
    "# The above behaviour is achieved by defining the same name method in the child class as the parent class\n",
    "# with changed behaviour"
   ]
  },
  {
   "cell_type": "code",
   "execution_count": 34,
   "id": "ee819294",
   "metadata": {},
   "outputs": [],
   "source": [
    "class Employee:\n",
    "    def working_hours(self):\n",
    "        return 45"
   ]
  },
  {
   "cell_type": "code",
   "execution_count": 35,
   "id": "8d13c7da",
   "metadata": {},
   "outputs": [],
   "source": [
    "class Intern(Employee):\n",
    "    pass"
   ]
  },
  {
   "cell_type": "code",
   "execution_count": 36,
   "id": "64aaf142",
   "metadata": {},
   "outputs": [],
   "source": [
    "i1 = Intern()"
   ]
  },
  {
   "cell_type": "code",
   "execution_count": 37,
   "id": "b7e11efa",
   "metadata": {},
   "outputs": [
    {
     "data": {
      "text/plain": [
       "45"
      ]
     },
     "execution_count": 37,
     "metadata": {},
     "output_type": "execute_result"
    }
   ],
   "source": [
    "i1.working_hours()"
   ]
  },
  {
   "cell_type": "code",
   "execution_count": 38,
   "id": "521792f5",
   "metadata": {},
   "outputs": [
    {
     "data": {
      "text/plain": [
       "(__main__.Intern, __main__.Employee, object)"
      ]
     },
     "execution_count": 38,
     "metadata": {},
     "output_type": "execute_result"
    }
   ],
   "source": [
    "Intern.__mro__"
   ]
  },
  {
   "cell_type": "code",
   "execution_count": 39,
   "id": "beb11761",
   "metadata": {},
   "outputs": [],
   "source": [
    "class Intern(Employee):\n",
    "    def working_hours(self):\n",
    "        return 40"
   ]
  },
  {
   "cell_type": "code",
   "execution_count": 40,
   "id": "de30a1b9",
   "metadata": {},
   "outputs": [],
   "source": [
    "i2 = Intern()"
   ]
  },
  {
   "cell_type": "code",
   "execution_count": 41,
   "id": "a7a28113",
   "metadata": {},
   "outputs": [
    {
     "data": {
      "text/plain": [
       "40"
      ]
     },
     "execution_count": 41,
     "metadata": {},
     "output_type": "execute_result"
    }
   ],
   "source": [
    "i2.working_hours()"
   ]
  },
  {
   "cell_type": "code",
   "execution_count": null,
   "id": "06babff5",
   "metadata": {},
   "outputs": [],
   "source": []
  },
  {
   "cell_type": "code",
   "execution_count": 45,
   "id": "51f691d0",
   "metadata": {},
   "outputs": [],
   "source": [
    "class Intern(Employee):\n",
    "    def working_hours(self):\n",
    "        return 40\n",
    "    \n",
    "    def employee_working_hours(self):\n",
    "        return super().working_hours()"
   ]
  },
  {
   "cell_type": "code",
   "execution_count": 46,
   "id": "400692c7",
   "metadata": {},
   "outputs": [],
   "source": [
    "i3 = Intern()"
   ]
  },
  {
   "cell_type": "code",
   "execution_count": 47,
   "id": "2d518b37",
   "metadata": {},
   "outputs": [
    {
     "data": {
      "text/plain": [
       "45"
      ]
     },
     "execution_count": 47,
     "metadata": {},
     "output_type": "execute_result"
    }
   ],
   "source": [
    "i3.employee_working_hours()"
   ]
  },
  {
   "cell_type": "code",
   "execution_count": 48,
   "id": "2e1ef09b",
   "metadata": {},
   "outputs": [
    {
     "data": {
      "text/plain": [
       "40"
      ]
     },
     "execution_count": 48,
     "metadata": {},
     "output_type": "execute_result"
    }
   ],
   "source": [
    "i3.working_hours()"
   ]
  },
  {
   "cell_type": "code",
   "execution_count": 49,
   "id": "642ef503",
   "metadata": {},
   "outputs": [
    {
     "ename": "TypeError",
     "evalue": "Employee.working_hours() missing 1 required positional argument: 'self'",
     "output_type": "error",
     "traceback": [
      "\u001b[1;31m---------------------------------------------------------------------------\u001b[0m",
      "\u001b[1;31mTypeError\u001b[0m                                 Traceback (most recent call last)",
      "Cell \u001b[1;32mIn[49], line 1\u001b[0m\n\u001b[1;32m----> 1\u001b[0m Employee\u001b[38;5;241m.\u001b[39mworking_hours()\n",
      "\u001b[1;31mTypeError\u001b[0m: Employee.working_hours() missing 1 required positional argument: 'self'"
     ]
    }
   ],
   "source": [
    "Employee.working_hours()"
   ]
  },
  {
   "cell_type": "code",
   "execution_count": 51,
   "id": "a8f31bf0",
   "metadata": {},
   "outputs": [
    {
     "data": {
      "text/plain": [
       "45"
      ]
     },
     "execution_count": 51,
     "metadata": {},
     "output_type": "execute_result"
    }
   ],
   "source": [
    "Employee.working_hours(i3)"
   ]
  },
  {
   "cell_type": "code",
   "execution_count": null,
   "id": "b7e0ab5f",
   "metadata": {},
   "outputs": [],
   "source": [
    "    "
   ]
  },
  {
   "cell_type": "code",
   "execution_count": 52,
   "id": "123eb9e6",
   "metadata": {},
   "outputs": [],
   "source": [
    "# Abstraction"
   ]
  },
  {
   "cell_type": "code",
   "execution_count": 53,
   "id": "cbd59ea8",
   "metadata": {},
   "outputs": [],
   "source": [
    "# Hiding the implementation from the user"
   ]
  },
  {
   "cell_type": "code",
   "execution_count": 54,
   "id": "a5b79583",
   "metadata": {},
   "outputs": [
    {
     "name": "stdout",
     "output_type": "stream",
     "text": [
      "Help on class Employee in module __main__:\n",
      "\n",
      "class Employee(builtins.object)\n",
      " |  Methods defined here:\n",
      " |  \n",
      " |  working_hours(self)\n",
      " |  \n",
      " |  ----------------------------------------------------------------------\n",
      " |  Data descriptors defined here:\n",
      " |  \n",
      " |  __dict__\n",
      " |      dictionary for instance variables (if defined)\n",
      " |  \n",
      " |  __weakref__\n",
      " |      list of weak references to the object (if defined)\n",
      " |  \n",
      " |  ----------------------------------------------------------------------\n",
      " |  Data and other attributes defined here:\n",
      " |  \n",
      " |  __annotations__ = {}\n",
      "\n"
     ]
    }
   ],
   "source": [
    "help(Employee)"
   ]
  },
  {
   "cell_type": "code",
   "execution_count": null,
   "id": "c371c5fc",
   "metadata": {},
   "outputs": [],
   "source": []
  },
  {
   "cell_type": "code",
   "execution_count": 55,
   "id": "1b8eded3",
   "metadata": {},
   "outputs": [],
   "source": [
    "# Abstract class"
   ]
  },
  {
   "cell_type": "code",
   "execution_count": 56,
   "id": "c64f6987",
   "metadata": {},
   "outputs": [],
   "source": [
    "# To understand abstract class, let's take an example\n",
    "# We have to create multiple classes of different geometric shapes - Square, Rectangle, Circle, ...\n",
    "# Each of these shape classes should have a method that calculates the area of that shape\n",
    "\n"
   ]
  },
  {
   "cell_type": "code",
   "execution_count": 57,
   "id": "bda542fb",
   "metadata": {},
   "outputs": [],
   "source": [
    "class Square:\n",
    "    def __init__(self, side):\n",
    "        self.side = side\n",
    "        \n",
    "    def area(self):\n",
    "        return self.side ** 2"
   ]
  },
  {
   "cell_type": "code",
   "execution_count": 58,
   "id": "2081164f",
   "metadata": {},
   "outputs": [],
   "source": [
    "s1 = Square(4)"
   ]
  },
  {
   "cell_type": "code",
   "execution_count": 59,
   "id": "a259bbdf",
   "metadata": {},
   "outputs": [
    {
     "data": {
      "text/plain": [
       "16"
      ]
     },
     "execution_count": 59,
     "metadata": {},
     "output_type": "execute_result"
    }
   ],
   "source": [
    "s1.area()"
   ]
  },
  {
   "cell_type": "code",
   "execution_count": 60,
   "id": "a5cdf509",
   "metadata": {},
   "outputs": [],
   "source": [
    "class Rectangle:\n",
    "    def __init__(self, length, breadth):\n",
    "        self.length = length\n",
    "        self.breadth = breadth\n",
    "        \n",
    "    def area(self):\n",
    "        return self.length * self.breadth\n",
    "    "
   ]
  },
  {
   "cell_type": "code",
   "execution_count": 61,
   "id": "7f7dffcc",
   "metadata": {},
   "outputs": [],
   "source": [
    "r1 = Rectangle(10, 5)"
   ]
  },
  {
   "cell_type": "code",
   "execution_count": 62,
   "id": "71876041",
   "metadata": {},
   "outputs": [
    {
     "data": {
      "text/plain": [
       "50"
      ]
     },
     "execution_count": 62,
     "metadata": {},
     "output_type": "execute_result"
    }
   ],
   "source": [
    "r1.area()"
   ]
  },
  {
   "cell_type": "code",
   "execution_count": 65,
   "id": "fe1fb3d9",
   "metadata": {},
   "outputs": [],
   "source": [
    "class Circle:\n",
    "    def __init__(self, rad):\n",
    "        self.radius = rad"
   ]
  },
  {
   "cell_type": "code",
   "execution_count": 67,
   "id": "11f0ae89",
   "metadata": {},
   "outputs": [],
   "source": [
    "c1 = Circle(10)"
   ]
  },
  {
   "cell_type": "code",
   "execution_count": 68,
   "id": "63bcb92c",
   "metadata": {},
   "outputs": [
    {
     "ename": "AttributeError",
     "evalue": "'Circle' object has no attribute 'area'",
     "output_type": "error",
     "traceback": [
      "\u001b[1;31m---------------------------------------------------------------------------\u001b[0m",
      "\u001b[1;31mAttributeError\u001b[0m                            Traceback (most recent call last)",
      "Cell \u001b[1;32mIn[68], line 1\u001b[0m\n\u001b[1;32m----> 1\u001b[0m c1\u001b[38;5;241m.\u001b[39marea()\n",
      "\u001b[1;31mAttributeError\u001b[0m: 'Circle' object has no attribute 'area'"
     ]
    }
   ],
   "source": [
    "c1.area()"
   ]
  },
  {
   "cell_type": "code",
   "execution_count": 69,
   "id": "eda32253",
   "metadata": {},
   "outputs": [],
   "source": [
    "# How to make sure that every shape class has the area() method defined?\n",
    "# This can be achieved with the help of abstract class"
   ]
  },
  {
   "cell_type": "code",
   "execution_count": 70,
   "id": "560d5685",
   "metadata": {},
   "outputs": [],
   "source": [
    "# What is an abstract class?\n",
    "    # An abstract class is a class that contains atleast 1 abstract method\n",
    "    \n",
    "# What is an abstract method?\n",
    "    # It is a method of a class that has a declaration/signature but no implementation"
   ]
  },
  {
   "cell_type": "code",
   "execution_count": 71,
   "id": "09913002",
   "metadata": {},
   "outputs": [],
   "source": [
    "# This abstract class forces the implementation of the abstract method in all the shape classes\n",
    "# The shape classes should inherit the abstract class to force the abstract method(s) to be created inside \n",
    "# these share classes"
   ]
  },
  {
   "cell_type": "code",
   "execution_count": null,
   "id": "df2e1985",
   "metadata": {},
   "outputs": [],
   "source": []
  },
  {
   "cell_type": "code",
   "execution_count": 72,
   "id": "0f60adc6",
   "metadata": {},
   "outputs": [],
   "source": [
    "# How to create an abstract class in Python"
   ]
  },
  {
   "cell_type": "code",
   "execution_count": 73,
   "id": "804f6a01",
   "metadata": {},
   "outputs": [],
   "source": [
    "# ABC class - Abstract Base Class - in built class inside abc module\n",
    "# abstractmethod decorator is used to create abstract methods"
   ]
  },
  {
   "cell_type": "code",
   "execution_count": 74,
   "id": "21a29e89",
   "metadata": {},
   "outputs": [],
   "source": [
    "from abc import ABC, abstractmethod\n",
    "\n",
    "class Shape(ABC):\n",
    "    @abstractmethod\n",
    "    def area():\n",
    "        pass\n",
    "    \n",
    "    def greet(self):\n",
    "        return 'Hello'"
   ]
  },
  {
   "cell_type": "code",
   "execution_count": 75,
   "id": "d45f85e7",
   "metadata": {},
   "outputs": [],
   "source": [
    "# An abstract can have a non-abstract method"
   ]
  },
  {
   "cell_type": "code",
   "execution_count": 76,
   "id": "675c4e13",
   "metadata": {},
   "outputs": [
    {
     "name": "stdout",
     "output_type": "stream",
     "text": [
      "Help on class ABC in module abc:\n",
      "\n",
      "class ABC(builtins.object)\n",
      " |  Helper class that provides a standard way to create an ABC using\n",
      " |  inheritance.\n",
      " |  \n",
      " |  Data and other attributes defined here:\n",
      " |  \n",
      " |  __abstractmethods__ = frozenset()\n",
      "\n"
     ]
    }
   ],
   "source": [
    "help(ABC)"
   ]
  },
  {
   "cell_type": "code",
   "execution_count": 77,
   "id": "0e6822db",
   "metadata": {},
   "outputs": [
    {
     "name": "stdout",
     "output_type": "stream",
     "text": [
      "Help on class Shape in module __main__:\n",
      "\n",
      "class Shape(abc.ABC)\n",
      " |  Method resolution order:\n",
      " |      Shape\n",
      " |      abc.ABC\n",
      " |      builtins.object\n",
      " |  \n",
      " |  Methods defined here:\n",
      " |  \n",
      " |  area()\n",
      " |  \n",
      " |  greet(self)\n",
      " |  \n",
      " |  ----------------------------------------------------------------------\n",
      " |  Data descriptors defined here:\n",
      " |  \n",
      " |  __dict__\n",
      " |      dictionary for instance variables (if defined)\n",
      " |  \n",
      " |  __weakref__\n",
      " |      list of weak references to the object (if defined)\n",
      " |  \n",
      " |  ----------------------------------------------------------------------\n",
      " |  Data and other attributes defined here:\n",
      " |  \n",
      " |  __abstractmethods__ = frozenset({'area'})\n",
      "\n"
     ]
    }
   ],
   "source": [
    "help(Shape)"
   ]
  },
  {
   "cell_type": "code",
   "execution_count": null,
   "id": "28ee878c",
   "metadata": {},
   "outputs": [],
   "source": []
  },
  {
   "cell_type": "code",
   "execution_count": 78,
   "id": "3fb71b27",
   "metadata": {},
   "outputs": [],
   "source": [
    "# Now, when we create the shape classes, we need to inherit the Shape abstract class in those classes\n",
    "# to make sure that area method is implemented in all the child classes "
   ]
  },
  {
   "cell_type": "code",
   "execution_count": 79,
   "id": "ac07be8b",
   "metadata": {},
   "outputs": [],
   "source": [
    "class Rectangle(Shape):\n",
    "    def __init__(self, length, breadth):\n",
    "        self.length = length\n",
    "        self.breadth = breadth\n",
    "        \n",
    "    def area(self):\n",
    "        return self.length * self.breadth\n",
    "    "
   ]
  },
  {
   "cell_type": "code",
   "execution_count": 80,
   "id": "7402d85e",
   "metadata": {},
   "outputs": [],
   "source": [
    "r1 = Rectangle(10, 7)"
   ]
  },
  {
   "cell_type": "code",
   "execution_count": 81,
   "id": "26cb9b11",
   "metadata": {},
   "outputs": [
    {
     "data": {
      "text/plain": [
       "70"
      ]
     },
     "execution_count": 81,
     "metadata": {},
     "output_type": "execute_result"
    }
   ],
   "source": [
    "r1.area()"
   ]
  },
  {
   "cell_type": "code",
   "execution_count": 82,
   "id": "0e4b151d",
   "metadata": {},
   "outputs": [],
   "source": [
    "class Circle(Shape):\n",
    "    def __init__(self, rad):\n",
    "        self.radius = rad"
   ]
  },
  {
   "cell_type": "code",
   "execution_count": 83,
   "id": "c5720140",
   "metadata": {},
   "outputs": [
    {
     "ename": "TypeError",
     "evalue": "Can't instantiate abstract class Circle with abstract method area",
     "output_type": "error",
     "traceback": [
      "\u001b[1;31m---------------------------------------------------------------------------\u001b[0m",
      "\u001b[1;31mTypeError\u001b[0m                                 Traceback (most recent call last)",
      "Cell \u001b[1;32mIn[83], line 1\u001b[0m\n\u001b[1;32m----> 1\u001b[0m c1 \u001b[38;5;241m=\u001b[39m Circle(\u001b[38;5;241m5\u001b[39m)\n",
      "\u001b[1;31mTypeError\u001b[0m: Can't instantiate abstract class Circle with abstract method area"
     ]
    }
   ],
   "source": [
    "c1 = Circle(5)"
   ]
  },
  {
   "cell_type": "code",
   "execution_count": 84,
   "id": "3f026630",
   "metadata": {},
   "outputs": [],
   "source": [
    "# Without the area(), we won't be able to create the object of the Circle class"
   ]
  },
  {
   "cell_type": "code",
   "execution_count": 85,
   "id": "0ab1a022",
   "metadata": {},
   "outputs": [],
   "source": [
    "# If we do not create all the abstract methods inside the child classes of the Abstract class,\n",
    "# we won't be able to create the object of that child class"
   ]
  },
  {
   "cell_type": "code",
   "execution_count": 86,
   "id": "0dd24c50",
   "metadata": {},
   "outputs": [],
   "source": [
    "# All the abstract methods of the Abstract Class becomes a mandatory method of the child classes"
   ]
  },
  {
   "cell_type": "code",
   "execution_count": 87,
   "id": "45ae7370",
   "metadata": {},
   "outputs": [],
   "source": [
    "class Circle(Shape):\n",
    "    def __init__(self, rad):\n",
    "        self.radius = rad\n",
    "        \n",
    "    def area(self):\n",
    "        return 3.14 * self.radius * self.radius"
   ]
  },
  {
   "cell_type": "code",
   "execution_count": 88,
   "id": "7d8131cb",
   "metadata": {},
   "outputs": [],
   "source": [
    "c1 = Circle(5)"
   ]
  },
  {
   "cell_type": "code",
   "execution_count": 89,
   "id": "783dbd94",
   "metadata": {},
   "outputs": [
    {
     "data": {
      "text/plain": [
       "78.5"
      ]
     },
     "execution_count": 89,
     "metadata": {},
     "output_type": "execute_result"
    }
   ],
   "source": [
    "c1.area()"
   ]
  },
  {
   "cell_type": "code",
   "execution_count": null,
   "id": "fa482a3f",
   "metadata": {},
   "outputs": [],
   "source": []
  },
  {
   "cell_type": "code",
   "execution_count": 90,
   "id": "1d350a26",
   "metadata": {},
   "outputs": [],
   "source": [
    "# Abstract class is a template/framework to create the child classes"
   ]
  },
  {
   "cell_type": "code",
   "execution_count": null,
   "id": "d6d99139",
   "metadata": {},
   "outputs": [],
   "source": []
  },
  {
   "cell_type": "code",
   "execution_count": null,
   "id": "77c9af52",
   "metadata": {},
   "outputs": [],
   "source": []
  },
  {
   "cell_type": "code",
   "execution_count": 91,
   "id": "1423ff3d",
   "metadata": {},
   "outputs": [],
   "source": [
    "# Interface"
   ]
  },
  {
   "cell_type": "code",
   "execution_count": 92,
   "id": "c39ba3b7",
   "metadata": {},
   "outputs": [],
   "source": [
    "# Interface is a class to design other classes"
   ]
  },
  {
   "cell_type": "code",
   "execution_count": 93,
   "id": "79e89406",
   "metadata": {},
   "outputs": [],
   "source": [
    "# In Python, an Interface is an Abstract class with 1 difference.\n",
    "# Abstract classes can have a non-abstract method\n",
    "# But an interface is an abstract class without a non-abstract method. INterfaces should not have a non-abstract method"
   ]
  },
  {
   "cell_type": "code",
   "execution_count": 1,
   "id": "8c3e561e",
   "metadata": {},
   "outputs": [],
   "source": [
    "from abc import ABC, abstractmethod\n",
    "\n",
    "class MyInterface(ABC):\n",
    "    @abstractmethod\n",
    "    def m1():\n",
    "        pass\n",
    "    \n",
    "    @abstractmethod\n",
    "    def m2():\n",
    "        pass\n",
    "    \n",
    "    @abstractmethod\n",
    "    def m3():\n",
    "        pass"
   ]
  },
  {
   "cell_type": "code",
   "execution_count": 95,
   "id": "bef4b312",
   "metadata": {},
   "outputs": [],
   "source": [
    "# MyInterface is an interface in Python"
   ]
  },
  {
   "cell_type": "code",
   "execution_count": 96,
   "id": "9854a0cb",
   "metadata": {},
   "outputs": [
    {
     "ename": "TypeError",
     "evalue": "Can't instantiate abstract class MyInterface with abstract methods m1, m2, m3",
     "output_type": "error",
     "traceback": [
      "\u001b[1;31m---------------------------------------------------------------------------\u001b[0m",
      "\u001b[1;31mTypeError\u001b[0m                                 Traceback (most recent call last)",
      "Cell \u001b[1;32mIn[96], line 1\u001b[0m\n\u001b[1;32m----> 1\u001b[0m obj \u001b[38;5;241m=\u001b[39m MyInterface()\n",
      "\u001b[1;31mTypeError\u001b[0m: Can't instantiate abstract class MyInterface with abstract methods m1, m2, m3"
     ]
    }
   ],
   "source": [
    "obj = MyInterface()"
   ]
  },
  {
   "cell_type": "code",
   "execution_count": 97,
   "id": "00cf0dfa",
   "metadata": {},
   "outputs": [],
   "source": [
    "# We canot create an object of an abstract class/interface"
   ]
  },
  {
   "cell_type": "code",
   "execution_count": 98,
   "id": "09649ed0",
   "metadata": {},
   "outputs": [],
   "source": [
    "class MyClass(MyInterface):\n",
    "    pass"
   ]
  },
  {
   "cell_type": "code",
   "execution_count": 99,
   "id": "f78820ba",
   "metadata": {},
   "outputs": [
    {
     "ename": "TypeError",
     "evalue": "Can't instantiate abstract class MyClass with abstract methods m1, m2, m3",
     "output_type": "error",
     "traceback": [
      "\u001b[1;31m---------------------------------------------------------------------------\u001b[0m",
      "\u001b[1;31mTypeError\u001b[0m                                 Traceback (most recent call last)",
      "Cell \u001b[1;32mIn[99], line 1\u001b[0m\n\u001b[1;32m----> 1\u001b[0m obj1 \u001b[38;5;241m=\u001b[39m MyClass()\n",
      "\u001b[1;31mTypeError\u001b[0m: Can't instantiate abstract class MyClass with abstract methods m1, m2, m3"
     ]
    }
   ],
   "source": [
    "obj1 = MyClass()"
   ]
  },
  {
   "cell_type": "code",
   "execution_count": 100,
   "id": "f55220ca",
   "metadata": {},
   "outputs": [],
   "source": [
    "class MyClass(MyInterface):\n",
    "    def m1(self):\n",
    "        return \"Hello\""
   ]
  },
  {
   "cell_type": "code",
   "execution_count": 101,
   "id": "b736a380",
   "metadata": {},
   "outputs": [
    {
     "ename": "TypeError",
     "evalue": "Can't instantiate abstract class MyClass with abstract methods m2, m3",
     "output_type": "error",
     "traceback": [
      "\u001b[1;31m---------------------------------------------------------------------------\u001b[0m",
      "\u001b[1;31mTypeError\u001b[0m                                 Traceback (most recent call last)",
      "Cell \u001b[1;32mIn[101], line 1\u001b[0m\n\u001b[1;32m----> 1\u001b[0m obj1 \u001b[38;5;241m=\u001b[39m MyClass()\n",
      "\u001b[1;31mTypeError\u001b[0m: Can't instantiate abstract class MyClass with abstract methods m2, m3"
     ]
    }
   ],
   "source": [
    "obj1 = MyClass()"
   ]
  },
  {
   "cell_type": "code",
   "execution_count": 2,
   "id": "001bd8c2",
   "metadata": {},
   "outputs": [],
   "source": [
    "class MyClass(MyInterface):\n",
    "    def m1(self):\n",
    "        return \"Hello\"\n",
    "    \n",
    "    def m2(self, var):\n",
    "        return var\n",
    "    \n",
    "    def m3(self):\n",
    "        return \"Good morning!!!\""
   ]
  },
  {
   "cell_type": "code",
   "execution_count": 3,
   "id": "ecbfef73",
   "metadata": {},
   "outputs": [],
   "source": [
    "obj1 = MyClass()"
   ]
  },
  {
   "cell_type": "code",
   "execution_count": 4,
   "id": "ffae5f31",
   "metadata": {},
   "outputs": [
    {
     "data": {
      "text/plain": [
       "'Hello'"
      ]
     },
     "execution_count": 4,
     "metadata": {},
     "output_type": "execute_result"
    }
   ],
   "source": [
    "obj1.m1()"
   ]
  },
  {
   "cell_type": "code",
   "execution_count": 5,
   "id": "262d583a",
   "metadata": {},
   "outputs": [
    {
     "data": {
      "text/plain": [
       "10"
      ]
     },
     "execution_count": 5,
     "metadata": {},
     "output_type": "execute_result"
    }
   ],
   "source": [
    "obj1.m2(10)"
   ]
  },
  {
   "cell_type": "code",
   "execution_count": 6,
   "id": "bba00c44",
   "metadata": {},
   "outputs": [
    {
     "data": {
      "text/plain": [
       "'Good morning!!!'"
      ]
     },
     "execution_count": 6,
     "metadata": {},
     "output_type": "execute_result"
    }
   ],
   "source": [
    "obj1.m3()"
   ]
  },
  {
   "cell_type": "code",
   "execution_count": 7,
   "id": "6b2e2e6d",
   "metadata": {},
   "outputs": [],
   "source": [
    "class MyClass(MyInterface):\n",
    "    def __init__(self, arg1, arg2):\n",
    "        self.arg1 = arg1\n",
    "        self.arg2 = arg2\n",
    "        \n",
    "    def m1(self):\n",
    "        return \"Hello\"\n",
    "    \n",
    "    def m2(self, var):\n",
    "        return var\n",
    "    \n",
    "    def m3(self):\n",
    "        return \"Good morning!!!\"\n",
    "    \n",
    "    def add(self, a, b):\n",
    "        return a + b"
   ]
  },
  {
   "cell_type": "code",
   "execution_count": 8,
   "id": "d7cdd513",
   "metadata": {},
   "outputs": [],
   "source": [
    "oj1 = MyClass(8, 4)"
   ]
  },
  {
   "cell_type": "code",
   "execution_count": 9,
   "id": "0fc663fc",
   "metadata": {},
   "outputs": [
    {
     "data": {
      "text/plain": [
       "4"
      ]
     },
     "execution_count": 9,
     "metadata": {},
     "output_type": "execute_result"
    }
   ],
   "source": [
    "oj1.add(1, 3)"
   ]
  },
  {
   "cell_type": "code",
   "execution_count": 10,
   "id": "b732e8fb",
   "metadata": {},
   "outputs": [
    {
     "data": {
      "text/plain": [
       "'Good morning!!!'"
      ]
     },
     "execution_count": 10,
     "metadata": {},
     "output_type": "execute_result"
    }
   ],
   "source": [
    "oj1.m3()"
   ]
  },
  {
   "cell_type": "code",
   "execution_count": 11,
   "id": "e0868378",
   "metadata": {},
   "outputs": [
    {
     "name": "stdout",
     "output_type": "stream",
     "text": [
      "Help on class MyClass in module __main__:\n",
      "\n",
      "class MyClass(MyInterface)\n",
      " |  MyClass(arg1, arg2)\n",
      " |  \n",
      " |  Method resolution order:\n",
      " |      MyClass\n",
      " |      MyInterface\n",
      " |      abc.ABC\n",
      " |      builtins.object\n",
      " |  \n",
      " |  Methods defined here:\n",
      " |  \n",
      " |  __init__(self, arg1, arg2)\n",
      " |      Initialize self.  See help(type(self)) for accurate signature.\n",
      " |  \n",
      " |  add(self, a, b)\n",
      " |  \n",
      " |  m1(self)\n",
      " |  \n",
      " |  m2(self, var)\n",
      " |  \n",
      " |  m3(self)\n",
      " |  \n",
      " |  ----------------------------------------------------------------------\n",
      " |  Data and other attributes defined here:\n",
      " |  \n",
      " |  __abstractmethods__ = frozenset()\n",
      " |  \n",
      " |  ----------------------------------------------------------------------\n",
      " |  Data descriptors inherited from MyInterface:\n",
      " |  \n",
      " |  __dict__\n",
      " |      dictionary for instance variables (if defined)\n",
      " |  \n",
      " |  __weakref__\n",
      " |      list of weak references to the object (if defined)\n",
      "\n"
     ]
    }
   ],
   "source": [
    "help(MyClass)"
   ]
  },
  {
   "cell_type": "code",
   "execution_count": 12,
   "id": "0ffc9317",
   "metadata": {},
   "outputs": [
    {
     "name": "stdout",
     "output_type": "stream",
     "text": [
      "Help on class MyInterface in module __main__:\n",
      "\n",
      "class MyInterface(abc.ABC)\n",
      " |  Method resolution order:\n",
      " |      MyInterface\n",
      " |      abc.ABC\n",
      " |      builtins.object\n",
      " |  \n",
      " |  Methods defined here:\n",
      " |  \n",
      " |  m1()\n",
      " |  \n",
      " |  m2()\n",
      " |  \n",
      " |  m3()\n",
      " |  \n",
      " |  ----------------------------------------------------------------------\n",
      " |  Data descriptors defined here:\n",
      " |  \n",
      " |  __dict__\n",
      " |      dictionary for instance variables (if defined)\n",
      " |  \n",
      " |  __weakref__\n",
      " |      list of weak references to the object (if defined)\n",
      " |  \n",
      " |  ----------------------------------------------------------------------\n",
      " |  Data and other attributes defined here:\n",
      " |  \n",
      " |  __abstractmethods__ = frozenset({'m1', 'm2', 'm3'})\n",
      "\n"
     ]
    }
   ],
   "source": [
    "help(MyInterface)"
   ]
  },
  {
   "cell_type": "code",
   "execution_count": 13,
   "id": "1d7b18ad",
   "metadata": {},
   "outputs": [
    {
     "data": {
      "text/plain": [
       "mappingproxy({'__module__': '__main__',\n",
       "              '__init__': <function __main__.MyClass.__init__(self, arg1, arg2)>,\n",
       "              'm1': <function __main__.MyClass.m1(self)>,\n",
       "              'm2': <function __main__.MyClass.m2(self, var)>,\n",
       "              'm3': <function __main__.MyClass.m3(self)>,\n",
       "              'add': <function __main__.MyClass.add(self, a, b)>,\n",
       "              '__doc__': None,\n",
       "              '__abstractmethods__': frozenset(),\n",
       "              '_abc_impl': <_abc._abc_data at 0x16eae215380>})"
      ]
     },
     "execution_count": 13,
     "metadata": {},
     "output_type": "execute_result"
    }
   ],
   "source": [
    "MyClass.__dict__"
   ]
  },
  {
   "cell_type": "code",
   "execution_count": 14,
   "id": "0f2a5a6b",
   "metadata": {},
   "outputs": [
    {
     "data": {
      "text/plain": [
       "mappingproxy({'__module__': '__main__',\n",
       "              'm1': <function __main__.MyInterface.m1()>,\n",
       "              'm2': <function __main__.MyInterface.m2()>,\n",
       "              'm3': <function __main__.MyInterface.m3()>,\n",
       "              '__dict__': <attribute '__dict__' of 'MyInterface' objects>,\n",
       "              '__weakref__': <attribute '__weakref__' of 'MyInterface' objects>,\n",
       "              '__doc__': None,\n",
       "              '__abstractmethods__': frozenset({'m1', 'm2', 'm3'}),\n",
       "              '_abc_impl': <_abc._abc_data at 0x16eae150980>})"
      ]
     },
     "execution_count": 14,
     "metadata": {},
     "output_type": "execute_result"
    }
   ],
   "source": [
    "MyInterface.__dict__"
   ]
  },
  {
   "cell_type": "code",
   "execution_count": null,
   "id": "b700f02b",
   "metadata": {},
   "outputs": [],
   "source": []
  },
  {
   "cell_type": "code",
   "execution_count": 15,
   "id": "864fe065",
   "metadata": {},
   "outputs": [],
   "source": [
    "# Example of an Interface"
   ]
  },
  {
   "cell_type": "code",
   "execution_count": 16,
   "id": "ec67f816",
   "metadata": {},
   "outputs": [],
   "source": [
    "# Create an Interface of a simple banking application"
   ]
  },
  {
   "cell_type": "code",
   "execution_count": 17,
   "id": "9c024a85",
   "metadata": {},
   "outputs": [],
   "source": [
    "from abc import ABC, abstractmethod\n",
    "\n",
    "class BankingApplication(ABC):\n",
    "    @abstractmethod\n",
    "    def create_account():\n",
    "        pass\n",
    "    \n",
    "    @abstractmethod\n",
    "    def get_balance():\n",
    "        pass\n",
    "    \n",
    "    @abstractmethod\n",
    "    def apply_loan():\n",
    "        pass\n",
    "    \n",
    "    @abstractmethod\n",
    "    def transfer():\n",
    "        pass\n",
    "    \n",
    "    @abstractmethod\n",
    "    def kyc():\n",
    "        pass"
   ]
  },
  {
   "cell_type": "code",
   "execution_count": null,
   "id": "20c4fdc7",
   "metadata": {},
   "outputs": [],
   "source": []
  },
  {
   "cell_type": "code",
   "execution_count": 18,
   "id": "2fae45d4",
   "metadata": {},
   "outputs": [],
   "source": [
    "class Bank1(BankingApplication):\n",
    "    def __init__(self, account_number):\n",
    "        self.account_number = account_number\n",
    "        \n",
    "    def create_account(self, initial_amount, **docs):\n",
    "        if docs == {}:\n",
    "            return \"Cannot open account without documents\"\n",
    "        else:\n",
    "            print(f\"Creating account with account number {self.account_number}\")\n",
    "            \n",
    "            # Add the account info in the database\n",
    "            self.deposit(self.account_number, initial_amount)\n",
    "            print(\"Account created!!\")\n",
    "            \n",
    "    def deposit(self, acc_no, amt):\n",
    "        # Add the amount in the database\n",
    "        print(f\"Amount {amt} added to account {acc_no}\")\n",
    "        "
   ]
  },
  {
   "cell_type": "code",
   "execution_count": 19,
   "id": "d3623bf4",
   "metadata": {},
   "outputs": [
    {
     "ename": "TypeError",
     "evalue": "Can't instantiate abstract class Bank1 with abstract methods apply_loan, get_balance, kyc, transfer",
     "output_type": "error",
     "traceback": [
      "\u001b[1;31m---------------------------------------------------------------------------\u001b[0m",
      "\u001b[1;31mTypeError\u001b[0m                                 Traceback (most recent call last)",
      "Cell \u001b[1;32mIn[19], line 1\u001b[0m\n\u001b[1;32m----> 1\u001b[0m b1 \u001b[38;5;241m=\u001b[39m Bank1(\u001b[38;5;241m12345\u001b[39m)\n",
      "\u001b[1;31mTypeError\u001b[0m: Can't instantiate abstract class Bank1 with abstract methods apply_loan, get_balance, kyc, transfer"
     ]
    }
   ],
   "source": [
    "b1 = Bank1(12345)"
   ]
  },
  {
   "cell_type": "code",
   "execution_count": 20,
   "id": "b8f7a23b",
   "metadata": {},
   "outputs": [],
   "source": [
    "class Bank1(BankingApplication):\n",
    "    def __init__(self, account_number):\n",
    "        self.account_number = account_number\n",
    "        \n",
    "    def create_account(self, initial_amount, **docs):\n",
    "        if docs == {}:\n",
    "            return \"Cannot open account without documents\"\n",
    "        else:\n",
    "            print(f\"Creating account with account number {self.account_number}\")\n",
    "            \n",
    "            # Add the account info in the database\n",
    "            self.deposit(self.account_number, initial_amount)\n",
    "            print(\"Account created!!\")\n",
    "            \n",
    "    def deposit(self, acc_no, amt):\n",
    "        # Add the amount in the database\n",
    "        print(f\"Amount {amt} added to account {acc_no}\")\n",
    "        \n",
    "        \n",
    "    def get_balance(self):\n",
    "        # Fetch the balance from the DB for account number\n",
    "        balance = 50000\n",
    "        return balance\n",
    "    \n",
    "    def apply_loan(self, loan_type, amount):\n",
    "        print(f\"{loan_type} loan applied for amount {amount}. We will get in touch with you soon!!!\")\n",
    "    \n",
    "    def transfer(self, amount, to_account):\n",
    "        # Fetch balance\n",
    "        balance = 50000\n",
    "        if balance < amount:\n",
    "            print(\"Insufficient balance\")\n",
    "        else:\n",
    "            # Add the money to the destination account\n",
    "            # Subtract the money from the self account\n",
    "            print(f\"Amount {amount} transferred to {to_account}\")\n",
    "    \n",
    "    def kyc(self):\n",
    "        return True"
   ]
  },
  {
   "cell_type": "code",
   "execution_count": 21,
   "id": "148b1edf",
   "metadata": {},
   "outputs": [],
   "source": [
    "b1 = Bank1(11111)"
   ]
  },
  {
   "cell_type": "code",
   "execution_count": 22,
   "id": "5cf966aa",
   "metadata": {},
   "outputs": [
    {
     "data": {
      "text/plain": [
       "50000"
      ]
     },
     "execution_count": 22,
     "metadata": {},
     "output_type": "execute_result"
    }
   ],
   "source": [
    "b1.get_balance()"
   ]
  },
  {
   "cell_type": "code",
   "execution_count": 23,
   "id": "7d122406",
   "metadata": {},
   "outputs": [
    {
     "ename": "TypeError",
     "evalue": "Bank1.create_account() missing 1 required positional argument: 'initial_amount'",
     "output_type": "error",
     "traceback": [
      "\u001b[1;31m---------------------------------------------------------------------------\u001b[0m",
      "\u001b[1;31mTypeError\u001b[0m                                 Traceback (most recent call last)",
      "Cell \u001b[1;32mIn[23], line 1\u001b[0m\n\u001b[1;32m----> 1\u001b[0m b1\u001b[38;5;241m.\u001b[39mcreate_account()\n",
      "\u001b[1;31mTypeError\u001b[0m: Bank1.create_account() missing 1 required positional argument: 'initial_amount'"
     ]
    }
   ],
   "source": [
    "b1.create_account()"
   ]
  },
  {
   "cell_type": "code",
   "execution_count": 24,
   "id": "c3b35853",
   "metadata": {},
   "outputs": [
    {
     "name": "stdout",
     "output_type": "stream",
     "text": [
      "Creating account with account number 11111\n",
      "Amount 50000 added to account 11111\n",
      "Account created!!\n"
     ]
    }
   ],
   "source": [
    "b1.create_account(50000, aadhar=123456, pan='abc12h')"
   ]
  },
  {
   "cell_type": "code",
   "execution_count": null,
   "id": "840881dc",
   "metadata": {},
   "outputs": [],
   "source": []
  },
  {
   "cell_type": "code",
   "execution_count": 25,
   "id": "1c86ef21",
   "metadata": {},
   "outputs": [],
   "source": [
    "# Constructor in Python"
   ]
  },
  {
   "cell_type": "code",
   "execution_count": 26,
   "id": "292f2f25",
   "metadata": {},
   "outputs": [],
   "source": [
    "# A constructor is a method which creates the object"
   ]
  },
  {
   "cell_type": "code",
   "execution_count": 27,
   "id": "99b5d597",
   "metadata": {},
   "outputs": [],
   "source": [
    "# __init__ => Initializer\n",
    "# __new__ => Constructor"
   ]
  },
  {
   "cell_type": "code",
   "execution_count": 30,
   "id": "30bba525",
   "metadata": {},
   "outputs": [],
   "source": [
    "class Employee:\n",
    "    def __init__(self, empid, empname):\n",
    "        print(\"__init__ of Employee\")\n",
    "        self.empid = empid\n",
    "        self.empname = empname\n",
    "        \n",
    "    def get_details(self):\n",
    "        return f\"Employee ID of {self.empname} is {empid}\""
   ]
  },
  {
   "cell_type": "code",
   "execution_count": 31,
   "id": "5a21884e",
   "metadata": {},
   "outputs": [
    {
     "name": "stdout",
     "output_type": "stream",
     "text": [
      "__init__ of Employee\n"
     ]
    }
   ],
   "source": [
    "emp1 = Employee(101, 'John')"
   ]
  },
  {
   "cell_type": "code",
   "execution_count": null,
   "id": "b903104e",
   "metadata": {},
   "outputs": [],
   "source": []
  },
  {
   "cell_type": "code",
   "execution_count": 32,
   "id": "2a111f8d",
   "metadata": {},
   "outputs": [],
   "source": [
    "# When we create an object of class Class Employee, __init__ gets called implicitly\n",
    "# But __init__ is NOT the first method that gets called."
   ]
  },
  {
   "cell_type": "code",
   "execution_count": 33,
   "id": "90bfe5be",
   "metadata": {},
   "outputs": [],
   "source": [
    "# __new__() method gets called before __init__ gets called"
   ]
  },
  {
   "cell_type": "code",
   "execution_count": 34,
   "id": "fa1f4bff",
   "metadata": {},
   "outputs": [
    {
     "name": "stdout",
     "output_type": "stream",
     "text": [
      "Help on class object in module builtins:\n",
      "\n",
      "class object\n",
      " |  The base class of the class hierarchy.\n",
      " |  \n",
      " |  When called, it accepts no arguments and returns a new featureless\n",
      " |  instance that has no instance attributes and cannot be given any.\n",
      " |  \n",
      " |  Built-in subclasses:\n",
      " |      anext_awaitable\n",
      " |      async_generator\n",
      " |      async_generator_asend\n",
      " |      async_generator_athrow\n",
      " |      ... and 107 other subclasses\n",
      " |  \n",
      " |  Methods defined here:\n",
      " |  \n",
      " |  __delattr__(self, name, /)\n",
      " |      Implement delattr(self, name).\n",
      " |  \n",
      " |  __dir__(self, /)\n",
      " |      Default dir() implementation.\n",
      " |  \n",
      " |  __eq__(self, value, /)\n",
      " |      Return self==value.\n",
      " |  \n",
      " |  __format__(self, format_spec, /)\n",
      " |      Default object formatter.\n",
      " |  \n",
      " |  __ge__(self, value, /)\n",
      " |      Return self>=value.\n",
      " |  \n",
      " |  __getattribute__(self, name, /)\n",
      " |      Return getattr(self, name).\n",
      " |  \n",
      " |  __getstate__(self, /)\n",
      " |      Helper for pickle.\n",
      " |  \n",
      " |  __gt__(self, value, /)\n",
      " |      Return self>value.\n",
      " |  \n",
      " |  __hash__(self, /)\n",
      " |      Return hash(self).\n",
      " |  \n",
      " |  __init__(self, /, *args, **kwargs)\n",
      " |      Initialize self.  See help(type(self)) for accurate signature.\n",
      " |  \n",
      " |  __le__(self, value, /)\n",
      " |      Return self<=value.\n",
      " |  \n",
      " |  __lt__(self, value, /)\n",
      " |      Return self<value.\n",
      " |  \n",
      " |  __ne__(self, value, /)\n",
      " |      Return self!=value.\n",
      " |  \n",
      " |  __reduce__(self, /)\n",
      " |      Helper for pickle.\n",
      " |  \n",
      " |  __reduce_ex__(self, protocol, /)\n",
      " |      Helper for pickle.\n",
      " |  \n",
      " |  __repr__(self, /)\n",
      " |      Return repr(self).\n",
      " |  \n",
      " |  __setattr__(self, name, value, /)\n",
      " |      Implement setattr(self, name, value).\n",
      " |  \n",
      " |  __sizeof__(self, /)\n",
      " |      Size of object in memory, in bytes.\n",
      " |  \n",
      " |  __str__(self, /)\n",
      " |      Return str(self).\n",
      " |  \n",
      " |  ----------------------------------------------------------------------\n",
      " |  Class methods defined here:\n",
      " |  \n",
      " |  __init_subclass__(...) from builtins.type\n",
      " |      This method is called when a class is subclassed.\n",
      " |      \n",
      " |      The default implementation does nothing. It may be\n",
      " |      overridden to extend subclasses.\n",
      " |  \n",
      " |  __subclasshook__(...) from builtins.type\n",
      " |      Abstract classes can override this to customize issubclass().\n",
      " |      \n",
      " |      This is invoked early on by abc.ABCMeta.__subclasscheck__().\n",
      " |      It should return True, False or NotImplemented.  If it returns\n",
      " |      NotImplemented, the normal algorithm is used.  Otherwise, it\n",
      " |      overrides the normal algorithm (and the outcome is cached).\n",
      " |  \n",
      " |  ----------------------------------------------------------------------\n",
      " |  Static methods defined here:\n",
      " |  \n",
      " |  __new__(*args, **kwargs) from builtins.type\n",
      " |      Create and return a new object.  See help(type) for accurate signature.\n",
      " |  \n",
      " |  ----------------------------------------------------------------------\n",
      " |  Data and other attributes defined here:\n",
      " |  \n",
      " |  __class__ = <class 'type'>\n",
      " |      type(object) -> the object's type\n",
      " |      type(name, bases, dict, **kwds) -> a new type\n",
      "\n"
     ]
    }
   ],
   "source": [
    "help(object)"
   ]
  },
  {
   "cell_type": "code",
   "execution_count": 36,
   "id": "5539701d",
   "metadata": {},
   "outputs": [
    {
     "data": {
      "text/plain": [
       "(__main__.Employee, object)"
      ]
     },
     "execution_count": 36,
     "metadata": {},
     "output_type": "execute_result"
    }
   ],
   "source": [
    "Employee.__mro__"
   ]
  },
  {
   "cell_type": "code",
   "execution_count": 37,
   "id": "808d12e6",
   "metadata": {},
   "outputs": [],
   "source": [
    "class Employee:\n",
    "    def __new__(clas):\n",
    "        print(\"__new__ of Employee\")\n",
    "    def __init__(self, empid, empname):\n",
    "        print(\"__init__ of Employee\")\n",
    "        self.empid = empid\n",
    "        self.empname = empname\n",
    "        \n",
    "    def get_details(self):\n",
    "        return f\"Employee ID of {self.empname} is {empid}\""
   ]
  },
  {
   "cell_type": "code",
   "execution_count": 38,
   "id": "8309fdb1",
   "metadata": {},
   "outputs": [
    {
     "ename": "TypeError",
     "evalue": "Employee.__new__() takes 1 positional argument but 3 were given",
     "output_type": "error",
     "traceback": [
      "\u001b[1;31m---------------------------------------------------------------------------\u001b[0m",
      "\u001b[1;31mTypeError\u001b[0m                                 Traceback (most recent call last)",
      "Cell \u001b[1;32mIn[38], line 1\u001b[0m\n\u001b[1;32m----> 1\u001b[0m emp1 \u001b[38;5;241m=\u001b[39m Employee(\u001b[38;5;241m111\u001b[39m, \u001b[38;5;124m'\u001b[39m\u001b[38;5;124mJohn\u001b[39m\u001b[38;5;124m'\u001b[39m)\n",
      "\u001b[1;31mTypeError\u001b[0m: Employee.__new__() takes 1 positional argument but 3 were given"
     ]
    }
   ],
   "source": [
    "emp1 = Employee(111, 'John')"
   ]
  },
  {
   "cell_type": "code",
   "execution_count": 39,
   "id": "2f3bc630",
   "metadata": {},
   "outputs": [],
   "source": [
    "class Employee:\n",
    "    def __new__(clas, *args):\n",
    "        print(\"__new__ of Employee\")\n",
    "    def __init__(self, empid, empname):\n",
    "        print(\"__init__ of Employee\")\n",
    "        self.empid = empid\n",
    "        self.empname = empname\n",
    "        \n",
    "    def get_details(self):\n",
    "        return f\"Employee ID of {self.empname} is {empid}\""
   ]
  },
  {
   "cell_type": "code",
   "execution_count": 40,
   "id": "e53350fe",
   "metadata": {},
   "outputs": [
    {
     "name": "stdout",
     "output_type": "stream",
     "text": [
      "__new__ of Employee\n"
     ]
    }
   ],
   "source": [
    "emp1 = Employee(111, 'John')"
   ]
  },
  {
   "cell_type": "code",
   "execution_count": 41,
   "id": "ec5edda8",
   "metadata": {},
   "outputs": [
    {
     "ename": "AttributeError",
     "evalue": "'NoneType' object has no attribute 'empid'",
     "output_type": "error",
     "traceback": [
      "\u001b[1;31m---------------------------------------------------------------------------\u001b[0m",
      "\u001b[1;31mAttributeError\u001b[0m                            Traceback (most recent call last)",
      "Cell \u001b[1;32mIn[41], line 1\u001b[0m\n\u001b[1;32m----> 1\u001b[0m emp1\u001b[38;5;241m.\u001b[39mempid\n",
      "\u001b[1;31mAttributeError\u001b[0m: 'NoneType' object has no attribute 'empid'"
     ]
    }
   ],
   "source": [
    "emp1.empid"
   ]
  },
  {
   "cell_type": "code",
   "execution_count": 42,
   "id": "3beb961a",
   "metadata": {},
   "outputs": [],
   "source": [
    "class Employee:\n",
    "    def __new__(clas, *args):\n",
    "        print(\"__new__ of Employee\")\n",
    "        obj = object.__new__(clas) # object class is called to create an object of Employee class\n",
    "        return obj\n",
    "    \n",
    "    def __init__(self, empid, empname):\n",
    "        print(\"__init__ of Employee\")\n",
    "        self.empid = empid\n",
    "        self.empname = empname\n",
    "        \n",
    "    def get_details(self):\n",
    "        return f\"Employee ID of {self.empname} is {empid}\""
   ]
  },
  {
   "cell_type": "code",
   "execution_count": 43,
   "id": "97d19f62",
   "metadata": {},
   "outputs": [
    {
     "name": "stdout",
     "output_type": "stream",
     "text": [
      "__new__ of Employee\n",
      "__init__ of Employee\n"
     ]
    }
   ],
   "source": [
    "emp1 = Employee(1111, 'John')"
   ]
  },
  {
   "cell_type": "code",
   "execution_count": 44,
   "id": "77a3fa0b",
   "metadata": {},
   "outputs": [
    {
     "data": {
      "text/plain": [
       "1111"
      ]
     },
     "execution_count": 44,
     "metadata": {},
     "output_type": "execute_result"
    }
   ],
   "source": [
    "emp1.empid"
   ]
  },
  {
   "cell_type": "code",
   "execution_count": 46,
   "id": "afc807f7",
   "metadata": {},
   "outputs": [
    {
     "data": {
      "text/plain": [
       "'John'"
      ]
     },
     "execution_count": 46,
     "metadata": {},
     "output_type": "execute_result"
    }
   ],
   "source": [
    "emp1.empname"
   ]
  },
  {
   "cell_type": "code",
   "execution_count": 47,
   "id": "381a7b1c",
   "metadata": {},
   "outputs": [
    {
     "ename": "NameError",
     "evalue": "name 'empid' is not defined",
     "output_type": "error",
     "traceback": [
      "\u001b[1;31m---------------------------------------------------------------------------\u001b[0m",
      "\u001b[1;31mNameError\u001b[0m                                 Traceback (most recent call last)",
      "Cell \u001b[1;32mIn[47], line 1\u001b[0m\n\u001b[1;32m----> 1\u001b[0m emp1\u001b[38;5;241m.\u001b[39mget_details()\n",
      "Cell \u001b[1;32mIn[42], line 13\u001b[0m, in \u001b[0;36mEmployee.get_details\u001b[1;34m(self)\u001b[0m\n\u001b[0;32m     12\u001b[0m \u001b[38;5;28;01mdef\u001b[39;00m \u001b[38;5;21mget_details\u001b[39m(\u001b[38;5;28mself\u001b[39m):\n\u001b[1;32m---> 13\u001b[0m     \u001b[38;5;28;01mreturn\u001b[39;00m \u001b[38;5;124mf\u001b[39m\u001b[38;5;124m\"\u001b[39m\u001b[38;5;124mEmployee ID of \u001b[39m\u001b[38;5;132;01m{\u001b[39;00m\u001b[38;5;28mself\u001b[39m\u001b[38;5;241m.\u001b[39mempname\u001b[38;5;132;01m}\u001b[39;00m\u001b[38;5;124m is \u001b[39m\u001b[38;5;132;01m{\u001b[39;00mempid\u001b[38;5;132;01m}\u001b[39;00m\u001b[38;5;124m\"\u001b[39m\n",
      "\u001b[1;31mNameError\u001b[0m: name 'empid' is not defined"
     ]
    }
   ],
   "source": [
    "emp1.get_details()"
   ]
  },
  {
   "cell_type": "code",
   "execution_count": null,
   "id": "4f9e5f02",
   "metadata": {},
   "outputs": [],
   "source": []
  }
 ],
 "metadata": {
  "kernelspec": {
   "display_name": "Python 3 (ipykernel)",
   "language": "python",
   "name": "python3"
  },
  "language_info": {
   "codemirror_mode": {
    "name": "ipython",
    "version": 3
   },
   "file_extension": ".py",
   "mimetype": "text/x-python",
   "name": "python",
   "nbconvert_exporter": "python",
   "pygments_lexer": "ipython3",
   "version": "3.11.4"
  }
 },
 "nbformat": 4,
 "nbformat_minor": 5
}
